{
 "cells": [
  {
   "cell_type": "markdown",
   "metadata": {},
   "source": [
    "Welcome to Synnax Lab! In this tutorial, I'll guide you through the entire process—from setting up your account to making your first submission. Let's go! 🚀"
   ]
  },
  {
   "cell_type": "markdown",
   "metadata": {},
   "source": [
    "# Creating Account"
   ]
  },
  {
   "cell_type": "markdown",
   "metadata": {},
   "source": [
    "## Step: 1 Navigate to Synnax App\n",
    "\n",
    "Let's go to [Synnax App](https://synnax.app/) and click on the **LOG IN** button.\n",
    "\n",
    "![Synnax App image](https://synnax-ai.github.io/synnax-lab-sdk/tutorials/img/step_1.png)"
   ]
  },
  {
   "cell_type": "markdown",
   "metadata": {},
   "source": [
    "## Step 2: Sign up for Synnax App\n",
    "\n",
    "Synnax allows you to sign up/log in with a wallet or an email. Sign up using either option and finish the sign up process. This will register you in the Synnax App, which is currently open for everyone. It allows registered users to view the credit intelligence for the companies Synnax features. To become a contributor proceed to Step 3.\n",
    "\n",
    "![Login Options](https://synnax-ai.github.io/synnax-lab-sdk/tutorials/img/step_2.png)\n"
   ]
  },
  {
   "cell_type": "markdown",
   "metadata": {},
   "source": [
    "## Step 3: Become a contributor\n",
    "\n",
    "Apply for Synnax Lab membership as a Data Scientist. In the Synnax Lab section click **EARN WITH SYNNAX LAB** button.\n",
    "\n",
    "![Signup Options](https://synnax-ai.github.io/synnax-lab-sdk/tutorials/img/step_3.png)"
   ]
  },
  {
   "cell_type": "markdown",
   "metadata": {},
   "source": [
    "### 3.1 Fill out the form and click Join\n",
    "\n",
    "We give preference to applications who fill in their **real names and agree to participate in a short introductory video call**.\n",
    "\n",
    "![Signup Form](https://synnax-ai.github.io/synnax-lab-sdk/tutorials/img/step_3.1.png)"
   ]
  },
  {
   "cell_type": "markdown",
   "metadata": {},
   "source": [
    "## Step 4: Get application approval\n",
    "\n",
    "Your application will be processed in the order when it was received. We are approving 3 applications per week after a short 15 minute introductory video call with each applicant. Typical wait time for interview scheduling is 1-2 weeks."
   ]
  },
  {
   "cell_type": "markdown",
   "metadata": {},
   "source": [
    "## Step 5: Create a New API Key\n",
    "\n",
    "In the **API Keys** section, click on **NEW API KEY** to generate a new key.\n",
    "\n",
    "![API Keys](https://synnax-ai.github.io/synnax-lab-sdk/tutorials/img/step_5.png)\n"
   ]
  },
  {
   "cell_type": "markdown",
   "metadata": {},
   "source": [
    "## Step 6: Name Your Key\n",
    "\n",
    "Give your API key a name, click each checkbox and **CREATE** to finalize the process.\n",
    "\n",
    "![Name and Create API Key](https://synnax-ai.github.io/synnax-lab-sdk/tutorials/img/step_6.png)\n"
   ]
  },
  {
   "cell_type": "markdown",
   "metadata": {},
   "source": [
    "## Step 7: Copy Your API Key\n",
    "\n",
    "Once your API key is created, **copy** it immediately. This key will not be available after closing the modal.\n",
    "\n",
    "![Copy API Key](https://synnax-ai.github.io/synnax-lab-sdk/tutorials/img/step_7.png)"
   ]
  },
  {
   "cell_type": "markdown",
   "metadata": {},
   "source": [
    "🙏 You have successfully created your account and obtained an API key for Synnax Lab.  \n",
    "\n",
    "💪 Now, roll up your sleeves, get your hands dirty, and make some magic happen!"
   ]
  },
  {
   "cell_type": "markdown",
   "metadata": {},
   "source": [
    "# Data Science Meets Finance: Let’s Get Coding!"
   ]
  },
  {
   "cell_type": "markdown",
   "metadata": {},
   "source": [
    "## Installing SDK"
   ]
  },
  {
   "cell_type": "markdown",
   "metadata": {},
   "source": [
    "To make your journey from fetching data to submitting predictions as smooth as possible, Synnax Lab has created an SDK that's as effortless as a Sunday morning. Let’s install it and get started!"
   ]
  },
  {
   "cell_type": "code",
   "execution_count": 11,
   "metadata": {},
   "outputs": [],
   "source": [
    "!pip install synnax-lab-sdk"
   ]
  },
  {
   "cell_type": "markdown",
   "metadata": {},
   "source": [
    "## Imports"
   ]
  },
  {
   "cell_type": "code",
   "execution_count": 1,
   "metadata": {},
   "outputs": [],
   "source": [
    "# Importing necessary libraries\n",
    "import time\n",
    "import pandas as pd\n",
    "from sklearn.preprocessing import LabelEncoder\n",
    "from sklearn.multioutput import MultiOutputRegressor\n",
    "from lightgbm import LGBMRegressor\n",
    "\n",
    "# Importing Synnax Lab SDK Client\n",
    "from synnax_lab_sdk.client import SynnaxLabClient"
   ]
  },
  {
   "cell_type": "markdown",
   "metadata": {},
   "source": [
    "## Fetching Datasets"
   ]
  },
  {
   "cell_type": "markdown",
   "metadata": {},
   "source": [
    "Below script will create a synnax-lab folder in the current working directory where all the downloaded datasets will be stored.\n",
    "`files` object is a dictionary with files names and their respective paths. User can download training data including or excluding the optional macroeconomical datasets."
   ]
  },
  {
   "cell_type": "code",
   "execution_count": null,
   "metadata": {},
   "outputs": [],
   "source": [
    "synnax_lab_client = SynnaxLabClient(api_key = \"your_api_key\")\n",
    "\n",
    "files = synnax_lab_client.get_datasets(with_macro_data=True)"
   ]
  },
  {
   "cell_type": "code",
   "execution_count": null,
   "metadata": {},
   "outputs": [
    {
     "data": {
      "text/plain": [
       "{'x_train_path': 'synnax-data/datasets/X_train.csv',\n",
       " 'targets_train_path': 'synnax-data/datasets/targets_train.csv',\n",
       " 'x_forward_looking_path': 'synnax-data/datasets/X_forward_looking.csv',\n",
       " 'macro_train_path': 'synnax-data/datasets/macro_train.csv',\n",
       " 'macro_forward_looking_path': 'synnax-data/datasets/macro_forward_looking.csv',\n",
       " 'sample_submission_path': 'synnax-data/datasets/sample_submission.csv',\n",
       " 'data_dictionary_path': 'synnax-data/datasets/data_dictionary.txt',\n",
       " 'dataset_date': '2024-09-10'}"
      ]
     },
     "execution_count": 5,
     "metadata": {},
     "output_type": "execute_result"
    }
   ],
   "source": [
    "print(files)"
   ]
  },
  {
   "cell_type": "markdown",
   "metadata": {},
   "source": [
    "## Dataset Structure 📂\n",
    "\n",
    "<pre>\n",
    "📂 synnax-data\n",
    "│   └── 📂 datasets\n",
    "│       ├── 📜 data_dictionary.txt\n",
    "│       ├── 📊 macro_forward_looking.csv\n",
    "│       ├── 📈 macro_train.csv\n",
    "│       ├── 📝 sample_submission.csv\n",
    "│       ├── 🎯 targets_train.csv\n",
    "│       ├── 🔮 X_forward_looking.csv\n",
    "│       └── 📚 X_train.csv\n",
    "</pre>\n",
    "\n",
    "### 📋 Description:\n",
    "The datasets subdirectory includes everything you need:\n",
    "\n",
    "- **`X_train.csv`**: Your training data with financial features.\n",
    "- **`targets_train.csv`**: The targets you're predicting in training.\n",
    "- **`X_forward_looking.csv`**: The test data where you’ll make your predictions.\n",
    "- **`macro_train.csv`** & **`macro_forward_looking.csv`**: Macroeconomic data to enrich your model.\n",
    "- **`sample_submission.csv`**: Shows you how to format your predictions for submission.\n",
    "\n"
   ]
  },
  {
   "cell_type": "markdown",
   "metadata": {},
   "source": [
    "## Loading Dataset"
   ]
  },
  {
   "cell_type": "code",
   "execution_count": null,
   "metadata": {},
   "outputs": [],
   "source": [
    "X_train = pd.read_csv(files['x_train_path'])  # Training features\n",
    "X_forward_looking = pd.read_csv(files['x_forward_looking_path'])  # Test features\n",
    "targets_train = pd.read_csv(files['targets_train_path'])  # Training targets\n",
    "# macro_train = pd.read_csv(files['macro_train_path'])  # Historical macroeconomic data\n",
    "# macro_forward_looking = pd.read_csv(files['macro_forward_looking_path'])  # Future macroeconomic data"
   ]
  },
  {
   "cell_type": "markdown",
   "metadata": {},
   "source": [
    "Let's take a quick look at the first few rows of our training data."
   ]
  },
  {
   "cell_type": "code",
   "execution_count": 3,
   "metadata": {},
   "outputs": [
    {
     "data": {
      "application/vnd.microsoft.datawrangler.viewer.v0+json": {
       "columns": [
        {
         "name": "index",
         "rawType": "int64",
         "type": "integer"
        },
        {
         "name": "company_id",
         "rawType": "object",
         "type": "string"
        },
        {
         "name": "country_code",
         "rawType": "object",
         "type": "string"
        },
        {
         "name": "sector",
         "rawType": "object",
         "type": "string"
        },
        {
         "name": "industry",
         "rawType": "object",
         "type": "string"
        },
        {
         "name": "latest_quarter_end_date",
         "rawType": "object",
         "type": "string"
        },
        {
         "name": "Q4_feature_1",
         "rawType": "float64",
         "type": "float"
        },
        {
         "name": "Q4_feature_2",
         "rawType": "float64",
         "type": "float"
        },
        {
         "name": "Q4_feature_3",
         "rawType": "float64",
         "type": "float"
        },
        {
         "name": "Q4_feature_4",
         "rawType": "float64",
         "type": "float"
        },
        {
         "name": "Q4_feature_5",
         "rawType": "float64",
         "type": "float"
        },
        {
         "name": "Q4_feature_6",
         "rawType": "float64",
         "type": "float"
        },
        {
         "name": "Q4_feature_7",
         "rawType": "float64",
         "type": "float"
        },
        {
         "name": "Q4_feature_8",
         "rawType": "float64",
         "type": "float"
        },
        {
         "name": "Q4_feature_9",
         "rawType": "float64",
         "type": "float"
        },
        {
         "name": "Q4_feature_10",
         "rawType": "float64",
         "type": "float"
        },
        {
         "name": "Q4_feature_11",
         "rawType": "float64",
         "type": "float"
        },
        {
         "name": "Q4_feature_12",
         "rawType": "float64",
         "type": "float"
        },
        {
         "name": "Q4_feature_13",
         "rawType": "float64",
         "type": "float"
        },
        {
         "name": "Q4_feature_14",
         "rawType": "float64",
         "type": "float"
        },
        {
         "name": "Q4_feature_15",
         "rawType": "float64",
         "type": "float"
        },
        {
         "name": "Q4_feature_16",
         "rawType": "float64",
         "type": "float"
        },
        {
         "name": "Q4_feature_17",
         "rawType": "float64",
         "type": "float"
        },
        {
         "name": "Q4_feature_18",
         "rawType": "float64",
         "type": "float"
        },
        {
         "name": "Q4_feature_19",
         "rawType": "float64",
         "type": "float"
        },
        {
         "name": "Q4_feature_20",
         "rawType": "float64",
         "type": "float"
        },
        {
         "name": "Q4_feature_21",
         "rawType": "float64",
         "type": "float"
        },
        {
         "name": "Q4_feature_22",
         "rawType": "float64",
         "type": "float"
        },
        {
         "name": "Q4_feature_23",
         "rawType": "float64",
         "type": "float"
        },
        {
         "name": "Q4_feature_24",
         "rawType": "float64",
         "type": "float"
        },
        {
         "name": "Q4_feature_25",
         "rawType": "float64",
         "type": "float"
        },
        {
         "name": "Q4_feature_26",
         "rawType": "float64",
         "type": "float"
        },
        {
         "name": "Q4_feature_27",
         "rawType": "float64",
         "type": "float"
        },
        {
         "name": "Q4_feature_28",
         "rawType": "float64",
         "type": "float"
        },
        {
         "name": "Q4_feature_29",
         "rawType": "float64",
         "type": "float"
        },
        {
         "name": "Q4_feature_30",
         "rawType": "float64",
         "type": "float"
        },
        {
         "name": "Q4_feature_31",
         "rawType": "float64",
         "type": "float"
        },
        {
         "name": "Q4_feature_32",
         "rawType": "float64",
         "type": "float"
        },
        {
         "name": "Q3_feature_1",
         "rawType": "float64",
         "type": "float"
        },
        {
         "name": "Q3_feature_2",
         "rawType": "float64",
         "type": "float"
        },
        {
         "name": "Q3_feature_3",
         "rawType": "float64",
         "type": "float"
        },
        {
         "name": "Q3_feature_4",
         "rawType": "float64",
         "type": "float"
        },
        {
         "name": "Q3_feature_5",
         "rawType": "float64",
         "type": "float"
        },
        {
         "name": "Q3_feature_6",
         "rawType": "float64",
         "type": "float"
        },
        {
         "name": "Q3_feature_7",
         "rawType": "float64",
         "type": "float"
        },
        {
         "name": "Q3_feature_8",
         "rawType": "float64",
         "type": "float"
        },
        {
         "name": "Q3_feature_9",
         "rawType": "float64",
         "type": "float"
        },
        {
         "name": "Q3_feature_10",
         "rawType": "float64",
         "type": "float"
        },
        {
         "name": "Q3_feature_11",
         "rawType": "float64",
         "type": "float"
        },
        {
         "name": "Q3_feature_12",
         "rawType": "float64",
         "type": "float"
        },
        {
         "name": "Q3_feature_13",
         "rawType": "float64",
         "type": "float"
        },
        {
         "name": "Q3_feature_14",
         "rawType": "float64",
         "type": "float"
        },
        {
         "name": "Q3_feature_15",
         "rawType": "float64",
         "type": "float"
        },
        {
         "name": "Q3_feature_16",
         "rawType": "float64",
         "type": "float"
        },
        {
         "name": "Q3_feature_17",
         "rawType": "float64",
         "type": "float"
        },
        {
         "name": "Q3_feature_18",
         "rawType": "float64",
         "type": "float"
        },
        {
         "name": "Q3_feature_19",
         "rawType": "float64",
         "type": "float"
        },
        {
         "name": "Q3_feature_20",
         "rawType": "float64",
         "type": "float"
        },
        {
         "name": "Q3_feature_21",
         "rawType": "float64",
         "type": "float"
        },
        {
         "name": "Q3_feature_22",
         "rawType": "float64",
         "type": "float"
        },
        {
         "name": "Q3_feature_23",
         "rawType": "float64",
         "type": "float"
        },
        {
         "name": "Q3_feature_24",
         "rawType": "float64",
         "type": "float"
        },
        {
         "name": "Q3_feature_25",
         "rawType": "float64",
         "type": "float"
        },
        {
         "name": "Q3_feature_26",
         "rawType": "float64",
         "type": "float"
        },
        {
         "name": "Q3_feature_27",
         "rawType": "float64",
         "type": "float"
        },
        {
         "name": "Q3_feature_28",
         "rawType": "float64",
         "type": "float"
        },
        {
         "name": "Q3_feature_29",
         "rawType": "float64",
         "type": "float"
        },
        {
         "name": "Q3_feature_30",
         "rawType": "float64",
         "type": "float"
        },
        {
         "name": "Q3_feature_31",
         "rawType": "float64",
         "type": "float"
        },
        {
         "name": "Q3_feature_32",
         "rawType": "float64",
         "type": "float"
        },
        {
         "name": "Q2_feature_1",
         "rawType": "float64",
         "type": "float"
        },
        {
         "name": "Q2_feature_2",
         "rawType": "float64",
         "type": "float"
        },
        {
         "name": "Q2_feature_3",
         "rawType": "float64",
         "type": "float"
        },
        {
         "name": "Q2_feature_4",
         "rawType": "float64",
         "type": "float"
        },
        {
         "name": "Q2_feature_5",
         "rawType": "float64",
         "type": "float"
        },
        {
         "name": "Q2_feature_6",
         "rawType": "float64",
         "type": "float"
        },
        {
         "name": "Q2_feature_7",
         "rawType": "float64",
         "type": "float"
        },
        {
         "name": "Q2_feature_8",
         "rawType": "float64",
         "type": "float"
        },
        {
         "name": "Q2_feature_9",
         "rawType": "float64",
         "type": "float"
        },
        {
         "name": "Q2_feature_10",
         "rawType": "float64",
         "type": "float"
        },
        {
         "name": "Q2_feature_11",
         "rawType": "float64",
         "type": "float"
        },
        {
         "name": "Q2_feature_12",
         "rawType": "float64",
         "type": "float"
        },
        {
         "name": "Q2_feature_13",
         "rawType": "float64",
         "type": "float"
        },
        {
         "name": "Q2_feature_14",
         "rawType": "float64",
         "type": "float"
        },
        {
         "name": "Q2_feature_15",
         "rawType": "float64",
         "type": "float"
        },
        {
         "name": "Q2_feature_16",
         "rawType": "float64",
         "type": "float"
        },
        {
         "name": "Q2_feature_17",
         "rawType": "float64",
         "type": "float"
        },
        {
         "name": "Q2_feature_18",
         "rawType": "float64",
         "type": "float"
        },
        {
         "name": "Q2_feature_19",
         "rawType": "float64",
         "type": "float"
        },
        {
         "name": "Q2_feature_20",
         "rawType": "float64",
         "type": "float"
        },
        {
         "name": "Q2_feature_21",
         "rawType": "float64",
         "type": "float"
        },
        {
         "name": "Q2_feature_22",
         "rawType": "float64",
         "type": "float"
        },
        {
         "name": "Q2_feature_23",
         "rawType": "float64",
         "type": "float"
        },
        {
         "name": "Q2_feature_24",
         "rawType": "float64",
         "type": "float"
        },
        {
         "name": "Q2_feature_25",
         "rawType": "float64",
         "type": "float"
        },
        {
         "name": "Q2_feature_26",
         "rawType": "float64",
         "type": "float"
        },
        {
         "name": "Q2_feature_27",
         "rawType": "float64",
         "type": "float"
        },
        {
         "name": "Q2_feature_28",
         "rawType": "float64",
         "type": "float"
        },
        {
         "name": "Q2_feature_29",
         "rawType": "float64",
         "type": "float"
        },
        {
         "name": "Q2_feature_30",
         "rawType": "float64",
         "type": "float"
        },
        {
         "name": "Q2_feature_31",
         "rawType": "float64",
         "type": "float"
        },
        {
         "name": "Q2_feature_32",
         "rawType": "float64",
         "type": "float"
        },
        {
         "name": "Q1_feature_1",
         "rawType": "float64",
         "type": "float"
        },
        {
         "name": "Q1_feature_2",
         "rawType": "float64",
         "type": "float"
        },
        {
         "name": "Q1_feature_3",
         "rawType": "float64",
         "type": "float"
        },
        {
         "name": "Q1_feature_4",
         "rawType": "float64",
         "type": "float"
        },
        {
         "name": "Q1_feature_5",
         "rawType": "float64",
         "type": "float"
        },
        {
         "name": "Q1_feature_6",
         "rawType": "float64",
         "type": "float"
        },
        {
         "name": "Q1_feature_7",
         "rawType": "float64",
         "type": "float"
        },
        {
         "name": "Q1_feature_8",
         "rawType": "float64",
         "type": "float"
        },
        {
         "name": "Q1_feature_9",
         "rawType": "float64",
         "type": "float"
        },
        {
         "name": "Q1_feature_10",
         "rawType": "float64",
         "type": "float"
        },
        {
         "name": "Q1_feature_11",
         "rawType": "float64",
         "type": "float"
        },
        {
         "name": "Q1_feature_12",
         "rawType": "float64",
         "type": "float"
        },
        {
         "name": "Q1_feature_13",
         "rawType": "float64",
         "type": "float"
        },
        {
         "name": "Q1_feature_14",
         "rawType": "float64",
         "type": "float"
        },
        {
         "name": "Q1_feature_15",
         "rawType": "float64",
         "type": "float"
        },
        {
         "name": "Q1_feature_16",
         "rawType": "float64",
         "type": "float"
        },
        {
         "name": "Q1_feature_17",
         "rawType": "float64",
         "type": "float"
        },
        {
         "name": "Q1_feature_18",
         "rawType": "float64",
         "type": "float"
        },
        {
         "name": "Q1_feature_19",
         "rawType": "float64",
         "type": "float"
        },
        {
         "name": "Q1_feature_20",
         "rawType": "float64",
         "type": "float"
        },
        {
         "name": "Q1_feature_21",
         "rawType": "float64",
         "type": "float"
        },
        {
         "name": "Q1_feature_22",
         "rawType": "float64",
         "type": "float"
        },
        {
         "name": "Q1_feature_23",
         "rawType": "float64",
         "type": "float"
        },
        {
         "name": "Q1_feature_24",
         "rawType": "float64",
         "type": "float"
        },
        {
         "name": "Q1_feature_25",
         "rawType": "float64",
         "type": "float"
        },
        {
         "name": "Q1_feature_26",
         "rawType": "float64",
         "type": "float"
        },
        {
         "name": "Q1_feature_27",
         "rawType": "float64",
         "type": "float"
        },
        {
         "name": "Q1_feature_28",
         "rawType": "float64",
         "type": "float"
        },
        {
         "name": "Q1_feature_29",
         "rawType": "float64",
         "type": "float"
        },
        {
         "name": "Q1_feature_30",
         "rawType": "float64",
         "type": "float"
        },
        {
         "name": "Q1_feature_31",
         "rawType": "float64",
         "type": "float"
        },
        {
         "name": "Q1_feature_32",
         "rawType": "float64",
         "type": "float"
        }
       ],
       "conversionMethod": "pd.DataFrame",
       "ref": "f3da3d72-d610-48a6-8273-e28b31362bd6",
       "rows": [
        [
         "0",
         "VinjfuDM7ohbtUYvSVgHcN",
         "US",
         "Industrials",
         "Specialty Industrial Machinery",
         "2024-09-30",
         "23982.103886194513",
         "1811.4912551958232",
         "2443.08199289358",
         "1278.3859574899327",
         "0.4208638716110696",
         "9805.570776992476",
         "533.5261615752703",
         "1424.9567360926812",
         "7780.029899140341",
         "2025.961741721513",
         "33787.25379931761",
         "-8196.30842257365",
         "7780.029899140341",
         "31761.71292146547",
         "0.4208638723777592",
         "33787.25379931761",
         "14856.167096826037",
         "26816.330285408872",
         "14829.03807716046",
         "14829.03807716046",
         "81434.54670358657",
         "1889.6685098180096",
         "40333.31032265034",
         "35937.514095222745",
         "28274.692557579237",
         "43373.82837993603",
         "29110.19846357103",
         "34381.993513715366",
         "57841.9290076599",
         "153244.2901707737",
         "46241.41822654344",
         "71810.16433105651",
         "25482.409659759094",
         "2726.2855019394465",
         "3364.326711889882",
         "2205.1552436308743",
         "0.4208638692658265",
         "10479.907467178084",
         "521.5511221779517",
         "1933.0008688742864",
         "7245.474016765188",
         "3234.854314282274",
         "35961.8962630678",
         "-7374.104686634037",
         "7245.474016765188",
         "32727.462812654903",
         "0.4208638717788318",
         "35961.8962630678",
         "16908.188860768114",
         "26784.077924145473",
         "16841.955782039648",
         "16841.955782039648",
         "83448.452040581",
         "2044.9119329327336",
         "44399.91642066608",
         "36488.026408959784",
         "27158.359632318887",
         "40307.29238911441",
         "32476.66598239044",
         "35866.805808472076",
         "59755.25018641757",
         "157673.38811858714",
         "43351.205431796254",
         "74225.35694187552",
         "23102.092808009595",
         "3499.5397211673385",
         "4165.574128884187",
         "3026.803436505663",
         "0.4208638713078668",
         "10462.160952607315",
         "473.1571485310555",
         "2291.1101011605974",
         "7050.20062947953",
         "3412.3811869971637",
         "33563.83289674753",
         "-7802.551843627794",
         "7050.20062947953",
         "30151.872573619745",
         "0.4208638721256396",
         "33563.83289674753",
         "16960.379045357975",
         "28220.6814262769",
         "16419.218373212138",
         "16419.218373212138",
         "85386.68006674496",
         "2050.621681098981",
         "45498.657148873666",
         "36214.66835756275",
         "27263.418998577836",
         "40032.73066107692",
         "33854.50537366492",
         "37080.29704306944",
         "60307.089630809474",
         "158945.1496479838",
         "43059.29841473481",
         "73558.89044510825",
         "24407.156057792123",
         "3618.086438500073",
         "4256.775782026137",
         "3095.9685480762587",
         "0.4208638683601265",
         "11299.42607830438",
         "522.5387542931944",
         "2241.605041384053",
         "7365.286137745577",
         "3934.5608044281807",
         "35706.161272227124",
         "-7686.659387604775",
         "7365.286137745577",
         "31772.02133166832",
         "0.4208638674082987",
         "35706.161272227124",
         "17195.867577836176",
         "31840.939535210106",
         "15897.686889356746",
         "15897.686889356746",
         "86906.33725706759",
         "2050.9611796385957",
         "43405.00051857338",
         "36127.84932193218",
         "26274.67579720541",
         "41870.68316404013",
         "31322.000585657228",
         "40719.62879722827",
         "60803.498222733375",
         "159394.4913969157",
         "44899.75086148973",
         "72488.5750037175"
        ],
        [
         "1",
         "G8XGhXMbaGqv4KjmiegHXL",
         "MY",
         "Energy",
         "Oil & Gas Equipment & Services",
         "2024-09-30",
         "467.83888104502313",
         "59.44067783751929",
         "71.16716440411149",
         "58.44924476274022",
         "30.95174994701336",
         "89.09831491551313",
         "1.4122969441587483",
         "56.83406240250411",
         "30.95174994701336",
         "58.56742883787945",
         "556.5163320911565",
         "-42.709757774486064",
         "30.95174994701336",
         "498.3697671226568",
         "0.4208638664652844",
         "556.5163320911565",
         "147.26457722986945",
         "152.6353868667521",
         "119.5766747375294",
         "451.24058426991394",
         "1277.9775845605209",
         "0.4208638677518255",
         "633.6839673751198",
         "0.4208638691615746",
         "0.4208638699561478",
         "19.835881101973825",
         "630.7096681507825",
         "152.6353868667521",
         "1299.8613358071343",
         "1952.7823904776992",
         "22.810180326311045",
         "675.2256697865581",
         "621.3232987910043",
         "34.28423805648931",
         "46.351424572372025",
         "33.74672418050344",
         "31.946052695950783",
         "65.1711291553272",
         "0.9583777453655432",
         "27.70641199911226",
         "31.946052695950783",
         "33.64594032875609",
         "686.0735640769518",
         "-43.80980920080737",
         "31.946052695950783",
         "652.8484876175754",
         "0.4208638671974141",
         "686.0735640769518",
         "298.74106504153593",
         "288.76346371854834",
         "347.1845031147622",
         "591.1418946543979",
         "1579.119274410221",
         "0.420863869310341",
         "886.8349967576733",
         "0.4208638687863285",
         "0.4208638688912015",
         "36.99196420676811",
         "883.4755350327616",
         "288.76346371854834",
         "1358.3824823131747",
         "2281.6028778596005",
         "40.351425931679785",
         "702.9044673187593",
         "327.17072637376833",
         "104.44665805648658",
         "117.36340085334218",
         "103.12169656696577",
         "30.053007526643157",
         "42.17999495289768",
         "1.7458253589004882",
         "99.1729197139604",
         "30.053007526643157",
         "12.5478512956342",
         "368.92985745728635",
         "-134.02682934559175",
         "30.053007526643157",
         "356.8028700310318",
         "0.4208638717051163",
         "368.92985745728635",
         "139.57445478851128",
         "126.45537797108844",
         "185.10613632002452",
         "640.9124694268517",
         "1468.3802907001002",
         "102.53427521693192",
         "794.686325057937",
         "0.4208638667991212",
         "0.4208638667661768",
         "64.29967223361706",
         "684.5709295421458",
         "126.45537797108844",
         "1418.3580992927727",
         "2276.665541442799",
         "174.41506774940828",
         "808.7061146120784",
         "306.56842738141256",
         "136.20663583216682",
         "154.17491540159585",
         "133.2369966168335",
         "-68.14248030490305",
         "136.003863110415",
         "3.390503084713042",
         "98.7002233636172",
         "45.46911337598958",
         "90.95561360380508",
         "442.15142662244784",
         "5.764906245871661",
         "-68.14248030490305",
         "351.6166768880224",
         "0.4208638676315438",
         "442.15142662244784",
         "147.16290386230645",
         "59.78094289834511",
         "198.30741713255227",
         "367.2862006036173",
         "1373.028663740812",
         "16.335251999128758",
         "696.9647862535637",
         "0.4208638724108489",
         "0.4208638697748161",
         "50.695416752754696",
         "168.5129091461129",
         "59.78094289834511",
         "1487.0785081429103",
         "2262.108555956137",
         "73.961951309893",
         "889.500756084704"
        ],
        [
         "2",
         "5q2WmDEN6LohdMSy8c5mSh",
         "CN",
         "Consumer Defensive",
         "Farm Products",
         "2024-09-30",
         "22340.64849344644",
         "-1854.511473336201",
         "-1854.511473336201",
         "-2365.8075654872396",
         "1734.4611695791143",
         "-741.0501432725055",
         "511.7169560204181",
         "-2030.8006217776424",
         "1092.723558137002",
         "-1833.352837540128",
         "21599.17748630455",
         "37.0408160575856",
         "2665.512763004315",
         "23432.95118771406",
         "39.75699671554132",
         "21599.17748630455",
         "16561.314426488356",
         "3081.532387043489",
         "1266.4124850240555",
         "1283.1746460189313",
         "17782.873136387083",
         "17123.118138176997",
         "48839.66172352231",
         "1856.6834642986848",
         "10726.50750776414",
         "12002.473248630966",
         "22279.496206376167",
         "3081.532387043489",
         "4501.595071391838",
         "69913.43753555705",
         "36526.10925138652",
         "52130.98526303936",
         "21119.66691695241",
         "-8419.301723485241",
         "-8419.301723485241",
         "-9261.473437792813",
         "-1544.0505690327554",
         "-2553.0335717352696",
         "842.5925781769491",
         "-10238.486925051197",
         "1633.665415939697",
         "-4186.278123805587",
         "18566.212481347764",
         "87.19105485736162",
         "-2292.0494764667797",
         "22752.91146902273",
         "-27.066823324191425",
         "18566.212481347764",
         "15424.482577612203",
         "2810.6546436887916",
         "901.0055096129288",
         "920.9674721702032",
         "12096.29238343956",
         "16633.751524111078",
         "49263.8443342485",
         "1675.7772436562925",
         "5760.282674922875",
         "10169.387511094335",
         "22887.72763440727",
         "2810.6546436887916",
         "-4175.7864697479345",
         "59090.29274552975",
         "34919.87741797188",
         "46994.42122595957",
         "10452.023967630188",
         "-1142.8119414159194",
         "-1142.8119414159194",
         "-1610.6762285461805",
         "866.7043578085181",
         "-185.87145034646997",
         "468.28515099964096",
         "-1244.5409370370885",
         "1183.7364974486077",
         "-1369.187083925698",
         "10265.73165341434",
         "28.32343984322619",
         "1170.6399121368515",
         "11635.339601209418",
         "1.0474831416752954",
         "10265.73165341434",
         "13461.614988385963",
         "2920.1176257847496",
         "882.7960729304065",
         "886.9961602269403",
         "10184.07247295382",
         "16173.903062853422",
         "47433.427866769685",
         "1647.1522992364953",
         "4232.257172480083",
         "8995.122157565367",
         "20536.354546981267",
         "2920.1176257847496",
         "-5543.162397125905",
         "53716.21727850166",
         "34404.167883687",
         "43532.565669417214",
         "8914.495550401554",
         "-732.6693519453694",
         "-732.6693519453694",
         "-1196.8792543076063",
         "-578.9552022563422",
         "615.3910525661721",
         "464.6307662316164",
         "-1050.841336077265",
         "1200.1063277305443",
         "-584.2944112949925",
         "9529.465739098348",
         "28.680653488543303",
         "-716.5488070956327",
         "10114.181014262722",
         "1.6281482930142916",
         "9529.465739098348",
         "13240.167338382382",
         "2693.508890460562",
         "1813.907841881272",
         "1818.3847931448388",
         "10451.71674358262",
         "15480.27556338504",
         "51984.30026026023",
         "1639.9010337934951",
         "3781.0059571024776",
         "4522.046035876001",
         "22019.65160599849",
         "2693.508890460562",
         "-6528.092616506027",
         "52597.99542984197",
         "33153.362155272545",
         "42146.69955012873"
        ],
        [
         "3",
         "kjUP2KTk9GVeCHdSrwiqv2",
         "GB",
         "Energy",
         "Oil & Gas E&P",
         "2024-09-30",
         "607.8763417508907",
         "171.12690228837357",
         "515.4092849612856",
         "-761.321268515214",
         "41.006371105137575",
         "502.75524848473754",
         "932.8690346729672",
         "-822.3075516314556",
         "387.6343800517512",
         "115.54173230236596",
         "1110.2107263662483",
         "190.01536649239168",
         "129.55376293737288",
         "995.0898579332622",
         "15.327936108825352",
         "1110.2107263662483",
         "283.87128094405693",
         "479.3915762585256",
         "5042.653174226976",
         "5042.653174226976",
         "7055.50915209896",
         "488.7740813533319",
         "1687.389107214848",
         "0.4208638687103928",
         "932.8690346729672",
         "14537.624876156638",
         "526.705327279375",
         "479.3915762585256",
         "-2004.9352826274792",
         "16391.317765956526",
         "15025.97809364059",
         "9336.229477726947",
         "575.1610279334737",
         "140.4485797086448",
         "419.42378876112815",
         "36.37684556493706",
         "56.9628024670287",
         "377.3876968561074",
         "104.4925980130874",
         "-35.7820258549884",
         "594.2038096554985",
         "-216.39524893001135",
         "952.1278609202014",
         "305.4757334649927",
         "145.20155926325066",
         "1168.9439737195923",
         "7.92069524450452",
         "952.1278609202014",
         "328.56163415879263",
         "477.9409915892627",
         "4991.388894745156",
         "4991.388894745156",
         "6680.887945385934",
         "5.821976999613617",
         "1332.0884537562588",
         "0.4208638714121607",
         "921.758173376486",
         "14554.78498415898",
         "457.4476251979751",
         "477.9409915892627",
         "-2041.9714869490836",
         "16029.10368769124",
         "14560.186097289215",
         "9348.636606174685",
         "525.5633776461254",
         "117.60958704365552",
         "316.52486775427127",
         "-761.3521320188154",
         "47.54943386862098",
         "457.81798724119113",
         "879.3825829318506",
         "-860.9795216439305",
         "329.76531079924473",
         "128.47354031132608",
         "982.960501017937",
         "117.64045054725686",
         "135.17092059281617",
         "854.9078245759905",
         "0.6369083945890336",
         "982.960501017937",
         "427.20139166866505",
         "580.593004567309",
         "326.6480969355097",
         "4863.583126332021",
         "6797.335944473778",
         "519.6067214510674",
         "1999.8820811783833",
         "0.4208638707633299",
         "935.9245215294995",
         "14923.48039818055",
         "546.7357411166425",
         "580.593004567309",
         "-2903.2175549443873",
         "16232.339858906042",
         "15442.66625576224",
         "9435.424778301644",
         "550.7479965848163",
         "173.9972081232979",
         "374.2087559851698",
         "-647.4349402262812",
         "43.0433623428258",
         "482.6631076402673",
         "821.8530122189588",
         "-624.6268110648933",
         "332.75907064857444",
         "150.32490086107256",
         "1032.990240355704",
         "125.75755199440844",
         "131.52902716785843",
         "883.086203364011",
         "11.840360201874294",
         "1032.990240355704",
         "365.13488592637674",
         "693.7077452662083",
         "171.37381031718425",
         "4399.673803700327",
         "6534.687528826402",
         "6.47011057524169",
         "1345.112852276023",
         "0.4208638688731385",
         "982.2506404351062",
         "16001.41912496084",
         "461.2746996445409",
         "693.7077452662083",
         "-3525.055425504121",
         "16061.602956983446",
         "16007.468371666702",
         "9527.336292026424"
        ],
        [
         "4",
         "bW8VWoymEw6yGAnrqQyndJ",
         "TW",
         "Industrials",
         "Metal Fabrication",
         "2024-09-30",
         "145.55401613467154",
         "-7.957898006817657",
         "13.275582959239964",
         "-10.84282974410363",
         "27.454878680638195",
         "15.103345358909182",
         "3.3057956066656486",
         "-10.84282974410363",
         "38.70132021064271",
         "-23.17711098235386",
         "160.236497624201",
         "-69.79703278744589",
         "34.18606658461142",
         "183.83447247593455",
         "0.4208638695054811",
         "160.236497624201",
         "38.33615111034173",
         "173.9950341985333",
         "351.3042806008442",
         "351.3042806008442",
         "765.8114643039092",
         "366.743936865276",
         "539.0261178316849",
         "0.4208638687443367",
         "189.8334052811415",
         "60.289427337097614",
         "136.15163063873285",
         "173.9950341985333",
         "663.6388752480423",
         "1270.8690834926315",
         "432.34115049703325",
         "505.4784830581023",
         "165.68739709560705",
         "-20.631657407530444",
         "0.9590926606590836",
         "-23.159212125302226",
         "30.500077764013295",
         "22.814412978970942",
         "2.9484185871514543",
         "-23.158202315187253",
         "42.69858395285991",
         "-19.46330710450929",
         "188.0809462051983",
         "-57.06560635567497",
         "37.48493432926595",
         "207.9651171790873",
         "0.4208638682666237",
         "188.0809462051983",
         "44.48089880578328",
         "218.73070281479036",
         "343.50687986103566",
         "343.50687986103566",
         "797.0984363541704",
         "390.6609729897097",
         "575.0704765654374",
         "0.4208638700629984",
         "186.1683658474437",
         "62.01221221179041",
         "150.7482662547298",
         "218.73070281479036",
         "670.7338279970762",
         "1313.6950753506749",
         "454.09017574136715",
         "517.0175028658841",
         "155.80121250287027",
         "10.101903530282105",
         "29.866595152734835",
         "7.457406908040979",
         "21.61256024089133",
         "30.730715078585806",
         "3.0653604916207993",
         "7.280720934375363",
         "33.04790817583981",
         "-1.896329227874321",
         "186.11106371207643",
         "-59.67264261653116",
         "28.751445974681353",
         "188.4282568093304",
         "0.4208638700631533",
         "186.11106371207643",
         "42.74729228209549",
         "198.2299836107148",
         "375.2944321488836",
         "375.2944321488836",
         "797.5034279196673",
         "393.4419160888778",
         "575.8127368197581",
         "0.4208638715401372",
         "180.4648365317675",
         "76.55996705665058",
         "145.12184881590093",
         "198.2299836107148",
         "654.5760611896692",
         "1311.1266568742449",
         "480.7151321084541",
         "514.0440928239574",
         "166.0727610978441",
         "13.66549288074848",
         "32.987225765807594",
         "10.98978146902832",
         "22.462001004263",
         "36.87208897984218",
         "3.096575281099837",
         "8.346364763732895",
         "34.7966791698995",
         "2.4962736793223637",
         "202.52398620830664",
         "-60.21624682029137",
         "30.567022472565498",
         "200.44857639836397",
         "0.4208638699425862",
         "202.52398620830664",
         "46.763767588877954",
         "213.42724900388197",
         "326.93079411084824",
         "326.93079411084824",
         "791.7855476100525",
         "372.67434607287566",
         "566.1186877127466",
         "0.4208638671145233",
         "201.30913534015255",
         "71.90044731900302",
         "156.1468880937704",
         "213.42724900388197",
         "655.5550777788305",
         "1297.3591766893176",
         "458.03115484207007",
         "505.9944929486449"
        ]
       ],
       "shape": {
        "columns": 133,
        "rows": 5
       }
      },
      "text/html": [
       "<div>\n",
       "<style scoped>\n",
       "    .dataframe tbody tr th:only-of-type {\n",
       "        vertical-align: middle;\n",
       "    }\n",
       "\n",
       "    .dataframe tbody tr th {\n",
       "        vertical-align: top;\n",
       "    }\n",
       "\n",
       "    .dataframe thead th {\n",
       "        text-align: right;\n",
       "    }\n",
       "</style>\n",
       "<table border=\"1\" class=\"dataframe\">\n",
       "  <thead>\n",
       "    <tr style=\"text-align: right;\">\n",
       "      <th></th>\n",
       "      <th>company_id</th>\n",
       "      <th>country_code</th>\n",
       "      <th>sector</th>\n",
       "      <th>industry</th>\n",
       "      <th>latest_quarter_end_date</th>\n",
       "      <th>Q4_feature_1</th>\n",
       "      <th>Q4_feature_2</th>\n",
       "      <th>Q4_feature_3</th>\n",
       "      <th>Q4_feature_4</th>\n",
       "      <th>Q4_feature_5</th>\n",
       "      <th>...</th>\n",
       "      <th>Q1_feature_23</th>\n",
       "      <th>Q1_feature_24</th>\n",
       "      <th>Q1_feature_25</th>\n",
       "      <th>Q1_feature_26</th>\n",
       "      <th>Q1_feature_27</th>\n",
       "      <th>Q1_feature_28</th>\n",
       "      <th>Q1_feature_29</th>\n",
       "      <th>Q1_feature_30</th>\n",
       "      <th>Q1_feature_31</th>\n",
       "      <th>Q1_feature_32</th>\n",
       "    </tr>\n",
       "  </thead>\n",
       "  <tbody>\n",
       "    <tr>\n",
       "      <th>0</th>\n",
       "      <td>VinjfuDM7ohbtUYvSVgHcN</td>\n",
       "      <td>US</td>\n",
       "      <td>Industrials</td>\n",
       "      <td>Specialty Industrial Machinery</td>\n",
       "      <td>2024-09-30</td>\n",
       "      <td>23982.103886</td>\n",
       "      <td>1811.491255</td>\n",
       "      <td>2443.081993</td>\n",
       "      <td>1278.385957</td>\n",
       "      <td>0.420864</td>\n",
       "      <td>...</td>\n",
       "      <td>43405.000519</td>\n",
       "      <td>36127.849322</td>\n",
       "      <td>26274.675797</td>\n",
       "      <td>41870.683164</td>\n",
       "      <td>31322.000586</td>\n",
       "      <td>40719.628797</td>\n",
       "      <td>60803.498223</td>\n",
       "      <td>159394.491397</td>\n",
       "      <td>44899.750861</td>\n",
       "      <td>72488.575004</td>\n",
       "    </tr>\n",
       "    <tr>\n",
       "      <th>1</th>\n",
       "      <td>G8XGhXMbaGqv4KjmiegHXL</td>\n",
       "      <td>MY</td>\n",
       "      <td>Energy</td>\n",
       "      <td>Oil &amp; Gas Equipment &amp; Services</td>\n",
       "      <td>2024-09-30</td>\n",
       "      <td>467.838881</td>\n",
       "      <td>59.440678</td>\n",
       "      <td>71.167164</td>\n",
       "      <td>58.449245</td>\n",
       "      <td>30.951750</td>\n",
       "      <td>...</td>\n",
       "      <td>696.964786</td>\n",
       "      <td>0.420864</td>\n",
       "      <td>0.420864</td>\n",
       "      <td>50.695417</td>\n",
       "      <td>168.512909</td>\n",
       "      <td>59.780943</td>\n",
       "      <td>1487.078508</td>\n",
       "      <td>2262.108556</td>\n",
       "      <td>73.961951</td>\n",
       "      <td>889.500756</td>\n",
       "    </tr>\n",
       "    <tr>\n",
       "      <th>2</th>\n",
       "      <td>5q2WmDEN6LohdMSy8c5mSh</td>\n",
       "      <td>CN</td>\n",
       "      <td>Consumer Defensive</td>\n",
       "      <td>Farm Products</td>\n",
       "      <td>2024-09-30</td>\n",
       "      <td>22340.648493</td>\n",
       "      <td>-1854.511473</td>\n",
       "      <td>-1854.511473</td>\n",
       "      <td>-2365.807565</td>\n",
       "      <td>1734.461170</td>\n",
       "      <td>...</td>\n",
       "      <td>51984.300260</td>\n",
       "      <td>1639.901034</td>\n",
       "      <td>3781.005957</td>\n",
       "      <td>4522.046036</td>\n",
       "      <td>22019.651606</td>\n",
       "      <td>2693.508890</td>\n",
       "      <td>-6528.092617</td>\n",
       "      <td>52597.995430</td>\n",
       "      <td>33153.362155</td>\n",
       "      <td>42146.699550</td>\n",
       "    </tr>\n",
       "    <tr>\n",
       "      <th>3</th>\n",
       "      <td>kjUP2KTk9GVeCHdSrwiqv2</td>\n",
       "      <td>GB</td>\n",
       "      <td>Energy</td>\n",
       "      <td>Oil &amp; Gas E&amp;P</td>\n",
       "      <td>2024-09-30</td>\n",
       "      <td>607.876342</td>\n",
       "      <td>171.126902</td>\n",
       "      <td>515.409285</td>\n",
       "      <td>-761.321269</td>\n",
       "      <td>41.006371</td>\n",
       "      <td>...</td>\n",
       "      <td>1345.112852</td>\n",
       "      <td>0.420864</td>\n",
       "      <td>982.250640</td>\n",
       "      <td>16001.419125</td>\n",
       "      <td>461.274700</td>\n",
       "      <td>693.707745</td>\n",
       "      <td>-3525.055426</td>\n",
       "      <td>16061.602957</td>\n",
       "      <td>16007.468372</td>\n",
       "      <td>9527.336292</td>\n",
       "    </tr>\n",
       "    <tr>\n",
       "      <th>4</th>\n",
       "      <td>bW8VWoymEw6yGAnrqQyndJ</td>\n",
       "      <td>TW</td>\n",
       "      <td>Industrials</td>\n",
       "      <td>Metal Fabrication</td>\n",
       "      <td>2024-09-30</td>\n",
       "      <td>145.554016</td>\n",
       "      <td>-7.957898</td>\n",
       "      <td>13.275583</td>\n",
       "      <td>-10.842830</td>\n",
       "      <td>27.454879</td>\n",
       "      <td>...</td>\n",
       "      <td>566.118688</td>\n",
       "      <td>0.420864</td>\n",
       "      <td>201.309135</td>\n",
       "      <td>71.900447</td>\n",
       "      <td>156.146888</td>\n",
       "      <td>213.427249</td>\n",
       "      <td>655.555078</td>\n",
       "      <td>1297.359177</td>\n",
       "      <td>458.031155</td>\n",
       "      <td>505.994493</td>\n",
       "    </tr>\n",
       "  </tbody>\n",
       "</table>\n",
       "<p>5 rows × 133 columns</p>\n",
       "</div>"
      ],
      "text/plain": [
       "               company_id country_code              sector  \\\n",
       "0  VinjfuDM7ohbtUYvSVgHcN           US         Industrials   \n",
       "1  G8XGhXMbaGqv4KjmiegHXL           MY              Energy   \n",
       "2  5q2WmDEN6LohdMSy8c5mSh           CN  Consumer Defensive   \n",
       "3  kjUP2KTk9GVeCHdSrwiqv2           GB              Energy   \n",
       "4  bW8VWoymEw6yGAnrqQyndJ           TW         Industrials   \n",
       "\n",
       "                         industry latest_quarter_end_date  Q4_feature_1  \\\n",
       "0  Specialty Industrial Machinery              2024-09-30  23982.103886   \n",
       "1  Oil & Gas Equipment & Services              2024-09-30    467.838881   \n",
       "2                   Farm Products              2024-09-30  22340.648493   \n",
       "3                   Oil & Gas E&P              2024-09-30    607.876342   \n",
       "4               Metal Fabrication              2024-09-30    145.554016   \n",
       "\n",
       "   Q4_feature_2  Q4_feature_3  Q4_feature_4  Q4_feature_5  ...  Q1_feature_23  \\\n",
       "0   1811.491255   2443.081993   1278.385957      0.420864  ...   43405.000519   \n",
       "1     59.440678     71.167164     58.449245     30.951750  ...     696.964786   \n",
       "2  -1854.511473  -1854.511473  -2365.807565   1734.461170  ...   51984.300260   \n",
       "3    171.126902    515.409285   -761.321269     41.006371  ...    1345.112852   \n",
       "4     -7.957898     13.275583    -10.842830     27.454879  ...     566.118688   \n",
       "\n",
       "   Q1_feature_24  Q1_feature_25  Q1_feature_26  Q1_feature_27  Q1_feature_28  \\\n",
       "0   36127.849322   26274.675797   41870.683164   31322.000586   40719.628797   \n",
       "1       0.420864       0.420864      50.695417     168.512909      59.780943   \n",
       "2    1639.901034    3781.005957    4522.046036   22019.651606    2693.508890   \n",
       "3       0.420864     982.250640   16001.419125     461.274700     693.707745   \n",
       "4       0.420864     201.309135      71.900447     156.146888     213.427249   \n",
       "\n",
       "   Q1_feature_29  Q1_feature_30  Q1_feature_31  Q1_feature_32  \n",
       "0   60803.498223  159394.491397   44899.750861   72488.575004  \n",
       "1    1487.078508    2262.108556      73.961951     889.500756  \n",
       "2   -6528.092617   52597.995430   33153.362155   42146.699550  \n",
       "3   -3525.055426   16061.602957   16007.468372    9527.336292  \n",
       "4     655.555078    1297.359177     458.031155     505.994493  \n",
       "\n",
       "[5 rows x 133 columns]"
      ]
     },
     "execution_count": 3,
     "metadata": {},
     "output_type": "execute_result"
    }
   ],
   "source": [
    "X_train.head()"
   ]
  },
  {
   "cell_type": "markdown",
   "metadata": {},
   "source": [
    "## Checking Categorical Columns"
   ]
  },
  {
   "cell_type": "code",
   "execution_count": 18,
   "metadata": {},
   "outputs": [
    {
     "name": "stdout",
     "output_type": "stream",
     "text": [
      "['company_id', 'country_code', 'sector', 'industry', 'latest_quarter_end_date']\n"
     ]
    }
   ],
   "source": [
    "cat_cols = X_train.select_dtypes(include='object').columns.tolist()\n",
    "print(cat_cols)"
   ]
  },
  {
   "cell_type": "markdown",
   "metadata": {},
   "source": [
    "Don't miss the two columns containing dates! 📅"
   ]
  },
  {
   "cell_type": "code",
   "execution_count": 5,
   "metadata": {},
   "outputs": [
    {
     "data": {
      "text/plain": [
       "country_code                81\n",
       "sector                      11\n",
       "industry                   137\n",
       "latest_quarter_end_date      8\n",
       "dtype: int64"
      ]
     },
     "execution_count": 5,
     "metadata": {},
     "output_type": "execute_result"
    }
   ],
   "source": [
    "# Check the number of unique values in the categorical columns\n",
    "X_train[cat_cols[1:]].nunique()"
   ]
  },
  {
   "cell_type": "markdown",
   "metadata": {},
   "source": [
    "# Process data"
   ]
  },
  {
   "cell_type": "code",
   "execution_count": null,
   "metadata": {},
   "outputs": [],
   "source": [
    "# Combine training and test data for consistent encoding\n",
    "data = pd.concat([X_train, X_forward_looking], axis=0)"
   ]
  },
  {
   "cell_type": "markdown",
   "metadata": {},
   "source": [
    "## Extract features from dates"
   ]
  },
  {
   "cell_type": "code",
   "execution_count": null,
   "metadata": {},
   "outputs": [],
   "source": [
    "# Extract features out of datetime column\n",
    "date_col = 'latest_quarter_end_date'\n",
    "\n",
    "data[date_col] = pd.to_datetime(data[date_col])\n",
    "data[f'{date_col}_day'] = data[date_col].dt.day\n",
    "data[f'{date_col}_day_of_week'] = data[date_col].dt.day_of_week\n",
    "data[f'{date_col}_day_of_year'] = data[date_col].dt.day_of_year\n",
    "data[f'{date_col}_month'] = data[date_col].dt.month\n",
    "data[f'{date_col}_is_month_start'] = data[date_col].dt.is_month_start\n",
    "data[f'{date_col}_is_month_end'] = data[date_col].dt.is_month_end\n",
    "data[f'{date_col}_quarter'] = data[date_col].dt.quarter\n",
    "data[f'{date_col}_is_quarter_start'] = data[date_col].dt.is_quarter_start\n",
    "data[f'{date_col}_is_quarter_end'] = data[date_col].dt.is_quarter_end\n",
    "data[f'{date_col}_year'] = data[date_col].dt.year\n",
    "\n",
    "data.drop(columns = [datetime_col], inplace=True)\n",
    "\n",
    "cat_cols.remove(datetime_col)"
   ]
  },
  {
   "cell_type": "markdown",
   "metadata": {},
   "source": [
    "## Encode categorical variables"
   ]
  },
  {
   "cell_type": "code",
   "execution_count": 20,
   "metadata": {},
   "outputs": [],
   "source": [
    "# Encode categorical columns using LabelEncoder\n",
    "for col in cat_cols:\n",
    "    data[col] = LabelEncoder().fit_transform(data[col])"
   ]
  },
  {
   "cell_type": "markdown",
   "metadata": {},
   "source": [
    "There are multiple ways to encode categoric variables and they should be selected given the model you will be using and the nature of the data.\n",
    "\n",
    "Tree-based models can take advantage of any kind of encoding, while for linear models `LabelEncoder` might not be a viable option because it makes the categories ordinal.\n",
    "\n",
    "Try implementing:\n",
    "- one-hot-encoding\n",
    "- label-encoding\n",
    "- frequency-encoding\n",
    "- mean-target-encoding\n",
    "\n",
    "to find the best option for your model."
   ]
  },
  {
   "cell_type": "markdown",
   "metadata": {},
   "source": [
    "## Handling Missing Values"
   ]
  },
  {
   "cell_type": "markdown",
   "metadata": {},
   "source": [
    "### Define Function"
   ]
  },
  {
   "cell_type": "code",
   "execution_count": 21,
   "metadata": {},
   "outputs": [],
   "source": [
    "def fill_missing_with_mean(df):\n",
    "    \"\"\"\n",
    "    Fill missing values with the mean of each column.\n",
    "    \"\"\"\n",
    "    for col in df.columns:\n",
    "        if df[col].isnull().any():\n",
    "            df[col] = df[col].fillna(df[col].mean())\n",
    "    return df"
   ]
  },
  {
   "cell_type": "markdown",
   "metadata": {},
   "source": [
    "Keep in mind that there are multiple ways to deal with NaNs. We have chosen the simplest one for this tutorial."
   ]
  },
  {
   "cell_type": "markdown",
   "metadata": {},
   "source": [
    "### Apply Function to Datasets"
   ]
  },
  {
   "cell_type": "code",
   "execution_count": 22,
   "metadata": {},
   "outputs": [],
   "source": [
    "data = fill_missing_with_mean(data)\n"
   ]
  },
  {
   "cell_type": "code",
   "execution_count": 23,
   "metadata": {},
   "outputs": [],
   "source": [
    "# drop columns with all missing (sometimes that happens)\n",
    "for col in data:\n",
    "    if data[col].isnull().all():\n",
    "        print(col)\n",
    "        data.drop(col, axis=1, inplace=True)"
   ]
  },
  {
   "cell_type": "markdown",
   "metadata": {},
   "source": [
    "Missing values imputation is a tricky process. While replacing NaNs with mean of the column technically makes your dataset for modeling, it might populate your *ground truth* training data with a lot of faulty values. In many cases mean of the column will not be a right choice.\n",
    "\n",
    "Consider:\n",
    "- median\n",
    "- mode\n",
    "- KNN imputer\n",
    "- verstack.NaNImputer\n",
    "- etc."
   ]
  },
  {
   "cell_type": "code",
   "execution_count": 160,
   "metadata": {},
   "outputs": [],
   "source": [
    "# Split data back into training and test sets\n",
    "X_train = data[:X_train.shape[0]]\n",
    "X_forward_looking = data[X_train.shape[0]:]"
   ]
  },
  {
   "cell_type": "markdown",
   "metadata": {},
   "source": [
    "## Dropping `companyId`"
   ]
  },
  {
   "cell_type": "code",
   "execution_count": 161,
   "metadata": {},
   "outputs": [],
   "source": [
    "X_train = X_train.drop('companyId', axis=1)\n",
    "X_forward_looking = X_forward_looking.drop('companyId', axis=1)\n",
    "targets_train = targets_train.drop('companyId', axis=1)\n",
    "# macro_train = macro_train.drop('companyId', axis=1)\n",
    "# macro_forward_looking = macro_forward_looking.drop('companyId', axis=1)"
   ]
  },
  {
   "cell_type": "markdown",
   "metadata": {},
   "source": [
    "## Training"
   ]
  },
  {
   "cell_type": "markdown",
   "metadata": {},
   "source": [
    "### Example Hyperparameters"
   ]
  },
  {
   "cell_type": "code",
   "execution_count": 162,
   "metadata": {},
   "outputs": [],
   "source": [
    "# define starter parameters for LGBMRegressor\n",
    "params = {\n",
    "    'learning_rate': 0.01,\n",
    "    'num_leaves': 250,\n",
    "    'feature_fraction': 0.5,\n",
    "    'bagging_fraction': 0.9,\n",
    "    'verbosity': -1,\n",
    "    'random_state': 42,\n",
    "    'device_type': 'cpu',\n",
    "    'objective': 'regression',\n",
    "    'metric': 'l2',\n",
    "    'num_threads': 10,\n",
    "    'lambda_l1': 0.5,\n",
    "    'n_estimators': 100\n",
    "    }"
   ]
  },
  {
   "cell_type": "markdown",
   "metadata": {},
   "source": [
    "### Train the Model"
   ]
  },
  {
   "cell_type": "markdown",
   "metadata": {},
   "source": [
    "We will use the same type of model with fixed parameters to predict each of the 17 targets. `sklearn.multioutput.MultiOutputRegressor` will simplify our code and rather than producing code to train 17 independent models, we can use `MultiOutputRegressor` to do it for us in a convenient sklearn-style one-liner."
   ]
  },
  {
   "cell_type": "markdown",
   "metadata": {},
   "source": [
    "But remember, each target, even though it represents financial indicators from one company and one time-period, may have different dependencies and even may require different types of models. So try different strategies to improve your score."
   ]
  },
  {
   "cell_type": "markdown",
   "metadata": {},
   "source": []
  },
  {
   "cell_type": "code",
   "execution_count": 163,
   "metadata": {},
   "outputs": [
    {
     "data": {
      "text/html": [
       "<style>#sk-container-id-3 {\n",
       "  /* Definition of color scheme common for light and dark mode */\n",
       "  --sklearn-color-text: black;\n",
       "  --sklearn-color-line: gray;\n",
       "  /* Definition of color scheme for unfitted estimators */\n",
       "  --sklearn-color-unfitted-level-0: #fff5e6;\n",
       "  --sklearn-color-unfitted-level-1: #f6e4d2;\n",
       "  --sklearn-color-unfitted-level-2: #ffe0b3;\n",
       "  --sklearn-color-unfitted-level-3: chocolate;\n",
       "  /* Definition of color scheme for fitted estimators */\n",
       "  --sklearn-color-fitted-level-0: #f0f8ff;\n",
       "  --sklearn-color-fitted-level-1: #d4ebff;\n",
       "  --sklearn-color-fitted-level-2: #b3dbfd;\n",
       "  --sklearn-color-fitted-level-3: cornflowerblue;\n",
       "\n",
       "  /* Specific color for light theme */\n",
       "  --sklearn-color-text-on-default-background: var(--sg-text-color, var(--theme-code-foreground, var(--jp-content-font-color1, black)));\n",
       "  --sklearn-color-background: var(--sg-background-color, var(--theme-background, var(--jp-layout-color0, white)));\n",
       "  --sklearn-color-border-box: var(--sg-text-color, var(--theme-code-foreground, var(--jp-content-font-color1, black)));\n",
       "  --sklearn-color-icon: #696969;\n",
       "\n",
       "  @media (prefers-color-scheme: dark) {\n",
       "    /* Redefinition of color scheme for dark theme */\n",
       "    --sklearn-color-text-on-default-background: var(--sg-text-color, var(--theme-code-foreground, var(--jp-content-font-color1, white)));\n",
       "    --sklearn-color-background: var(--sg-background-color, var(--theme-background, var(--jp-layout-color0, #111)));\n",
       "    --sklearn-color-border-box: var(--sg-text-color, var(--theme-code-foreground, var(--jp-content-font-color1, white)));\n",
       "    --sklearn-color-icon: #878787;\n",
       "  }\n",
       "}\n",
       "\n",
       "#sk-container-id-3 {\n",
       "  color: var(--sklearn-color-text);\n",
       "}\n",
       "\n",
       "#sk-container-id-3 pre {\n",
       "  padding: 0;\n",
       "}\n",
       "\n",
       "#sk-container-id-3 input.sk-hidden--visually {\n",
       "  border: 0;\n",
       "  clip: rect(1px 1px 1px 1px);\n",
       "  clip: rect(1px, 1px, 1px, 1px);\n",
       "  height: 1px;\n",
       "  margin: -1px;\n",
       "  overflow: hidden;\n",
       "  padding: 0;\n",
       "  position: absolute;\n",
       "  width: 1px;\n",
       "}\n",
       "\n",
       "#sk-container-id-3 div.sk-dashed-wrapped {\n",
       "  border: 1px dashed var(--sklearn-color-line);\n",
       "  margin: 0 0.4em 0.5em 0.4em;\n",
       "  box-sizing: border-box;\n",
       "  padding-bottom: 0.4em;\n",
       "  background-color: var(--sklearn-color-background);\n",
       "}\n",
       "\n",
       "#sk-container-id-3 div.sk-container {\n",
       "  /* jupyter's `normalize.less` sets `[hidden] { display: none; }`\n",
       "     but bootstrap.min.css set `[hidden] { display: none !important; }`\n",
       "     so we also need the `!important` here to be able to override the\n",
       "     default hidden behavior on the sphinx rendered scikit-learn.org.\n",
       "     See: https://github.com/scikit-learn/scikit-learn/issues/21755 */\n",
       "  display: inline-block !important;\n",
       "  position: relative;\n",
       "}\n",
       "\n",
       "#sk-container-id-3 div.sk-text-repr-fallback {\n",
       "  display: none;\n",
       "}\n",
       "\n",
       "div.sk-parallel-item,\n",
       "div.sk-serial,\n",
       "div.sk-item {\n",
       "  /* draw centered vertical line to link estimators */\n",
       "  background-image: linear-gradient(var(--sklearn-color-text-on-default-background), var(--sklearn-color-text-on-default-background));\n",
       "  background-size: 2px 100%;\n",
       "  background-repeat: no-repeat;\n",
       "  background-position: center center;\n",
       "}\n",
       "\n",
       "/* Parallel-specific style estimator block */\n",
       "\n",
       "#sk-container-id-3 div.sk-parallel-item::after {\n",
       "  content: \"\";\n",
       "  width: 100%;\n",
       "  border-bottom: 2px solid var(--sklearn-color-text-on-default-background);\n",
       "  flex-grow: 1;\n",
       "}\n",
       "\n",
       "#sk-container-id-3 div.sk-parallel {\n",
       "  display: flex;\n",
       "  align-items: stretch;\n",
       "  justify-content: center;\n",
       "  background-color: var(--sklearn-color-background);\n",
       "  position: relative;\n",
       "}\n",
       "\n",
       "#sk-container-id-3 div.sk-parallel-item {\n",
       "  display: flex;\n",
       "  flex-direction: column;\n",
       "}\n",
       "\n",
       "#sk-container-id-3 div.sk-parallel-item:first-child::after {\n",
       "  align-self: flex-end;\n",
       "  width: 50%;\n",
       "}\n",
       "\n",
       "#sk-container-id-3 div.sk-parallel-item:last-child::after {\n",
       "  align-self: flex-start;\n",
       "  width: 50%;\n",
       "}\n",
       "\n",
       "#sk-container-id-3 div.sk-parallel-item:only-child::after {\n",
       "  width: 0;\n",
       "}\n",
       "\n",
       "/* Serial-specific style estimator block */\n",
       "\n",
       "#sk-container-id-3 div.sk-serial {\n",
       "  display: flex;\n",
       "  flex-direction: column;\n",
       "  align-items: center;\n",
       "  background-color: var(--sklearn-color-background);\n",
       "  padding-right: 1em;\n",
       "  padding-left: 1em;\n",
       "}\n",
       "\n",
       "\n",
       "/* Toggleable style: style used for estimator/Pipeline/ColumnTransformer box that is\n",
       "clickable and can be expanded/collapsed.\n",
       "- Pipeline and ColumnTransformer use this feature and define the default style\n",
       "- Estimators will overwrite some part of the style using the `sk-estimator` class\n",
       "*/\n",
       "\n",
       "/* Pipeline and ColumnTransformer style (default) */\n",
       "\n",
       "#sk-container-id-3 div.sk-toggleable {\n",
       "  /* Default theme specific background. It is overwritten whether we have a\n",
       "  specific estimator or a Pipeline/ColumnTransformer */\n",
       "  background-color: var(--sklearn-color-background);\n",
       "}\n",
       "\n",
       "/* Toggleable label */\n",
       "#sk-container-id-3 label.sk-toggleable__label {\n",
       "  cursor: pointer;\n",
       "  display: block;\n",
       "  width: 100%;\n",
       "  margin-bottom: 0;\n",
       "  padding: 0.5em;\n",
       "  box-sizing: border-box;\n",
       "  text-align: center;\n",
       "}\n",
       "\n",
       "#sk-container-id-3 label.sk-toggleable__label-arrow:before {\n",
       "  /* Arrow on the left of the label */\n",
       "  content: \"▸\";\n",
       "  float: left;\n",
       "  margin-right: 0.25em;\n",
       "  color: var(--sklearn-color-icon);\n",
       "}\n",
       "\n",
       "#sk-container-id-3 label.sk-toggleable__label-arrow:hover:before {\n",
       "  color: var(--sklearn-color-text);\n",
       "}\n",
       "\n",
       "/* Toggleable content - dropdown */\n",
       "\n",
       "#sk-container-id-3 div.sk-toggleable__content {\n",
       "  max-height: 0;\n",
       "  max-width: 0;\n",
       "  overflow: hidden;\n",
       "  text-align: left;\n",
       "  /* unfitted */\n",
       "  background-color: var(--sklearn-color-unfitted-level-0);\n",
       "}\n",
       "\n",
       "#sk-container-id-3 div.sk-toggleable__content.fitted {\n",
       "  /* fitted */\n",
       "  background-color: var(--sklearn-color-fitted-level-0);\n",
       "}\n",
       "\n",
       "#sk-container-id-3 div.sk-toggleable__content pre {\n",
       "  margin: 0.2em;\n",
       "  border-radius: 0.25em;\n",
       "  color: var(--sklearn-color-text);\n",
       "  /* unfitted */\n",
       "  background-color: var(--sklearn-color-unfitted-level-0);\n",
       "}\n",
       "\n",
       "#sk-container-id-3 div.sk-toggleable__content.fitted pre {\n",
       "  /* unfitted */\n",
       "  background-color: var(--sklearn-color-fitted-level-0);\n",
       "}\n",
       "\n",
       "#sk-container-id-3 input.sk-toggleable__control:checked~div.sk-toggleable__content {\n",
       "  /* Expand drop-down */\n",
       "  max-height: 200px;\n",
       "  max-width: 100%;\n",
       "  overflow: auto;\n",
       "}\n",
       "\n",
       "#sk-container-id-3 input.sk-toggleable__control:checked~label.sk-toggleable__label-arrow:before {\n",
       "  content: \"▾\";\n",
       "}\n",
       "\n",
       "/* Pipeline/ColumnTransformer-specific style */\n",
       "\n",
       "#sk-container-id-3 div.sk-label input.sk-toggleable__control:checked~label.sk-toggleable__label {\n",
       "  color: var(--sklearn-color-text);\n",
       "  background-color: var(--sklearn-color-unfitted-level-2);\n",
       "}\n",
       "\n",
       "#sk-container-id-3 div.sk-label.fitted input.sk-toggleable__control:checked~label.sk-toggleable__label {\n",
       "  background-color: var(--sklearn-color-fitted-level-2);\n",
       "}\n",
       "\n",
       "/* Estimator-specific style */\n",
       "\n",
       "/* Colorize estimator box */\n",
       "#sk-container-id-3 div.sk-estimator input.sk-toggleable__control:checked~label.sk-toggleable__label {\n",
       "  /* unfitted */\n",
       "  background-color: var(--sklearn-color-unfitted-level-2);\n",
       "}\n",
       "\n",
       "#sk-container-id-3 div.sk-estimator.fitted input.sk-toggleable__control:checked~label.sk-toggleable__label {\n",
       "  /* fitted */\n",
       "  background-color: var(--sklearn-color-fitted-level-2);\n",
       "}\n",
       "\n",
       "#sk-container-id-3 div.sk-label label.sk-toggleable__label,\n",
       "#sk-container-id-3 div.sk-label label {\n",
       "  /* The background is the default theme color */\n",
       "  color: var(--sklearn-color-text-on-default-background);\n",
       "}\n",
       "\n",
       "/* On hover, darken the color of the background */\n",
       "#sk-container-id-3 div.sk-label:hover label.sk-toggleable__label {\n",
       "  color: var(--sklearn-color-text);\n",
       "  background-color: var(--sklearn-color-unfitted-level-2);\n",
       "}\n",
       "\n",
       "/* Label box, darken color on hover, fitted */\n",
       "#sk-container-id-3 div.sk-label.fitted:hover label.sk-toggleable__label.fitted {\n",
       "  color: var(--sklearn-color-text);\n",
       "  background-color: var(--sklearn-color-fitted-level-2);\n",
       "}\n",
       "\n",
       "/* Estimator label */\n",
       "\n",
       "#sk-container-id-3 div.sk-label label {\n",
       "  font-family: monospace;\n",
       "  font-weight: bold;\n",
       "  display: inline-block;\n",
       "  line-height: 1.2em;\n",
       "}\n",
       "\n",
       "#sk-container-id-3 div.sk-label-container {\n",
       "  text-align: center;\n",
       "}\n",
       "\n",
       "/* Estimator-specific */\n",
       "#sk-container-id-3 div.sk-estimator {\n",
       "  font-family: monospace;\n",
       "  border: 1px dotted var(--sklearn-color-border-box);\n",
       "  border-radius: 0.25em;\n",
       "  box-sizing: border-box;\n",
       "  margin-bottom: 0.5em;\n",
       "  /* unfitted */\n",
       "  background-color: var(--sklearn-color-unfitted-level-0);\n",
       "}\n",
       "\n",
       "#sk-container-id-3 div.sk-estimator.fitted {\n",
       "  /* fitted */\n",
       "  background-color: var(--sklearn-color-fitted-level-0);\n",
       "}\n",
       "\n",
       "/* on hover */\n",
       "#sk-container-id-3 div.sk-estimator:hover {\n",
       "  /* unfitted */\n",
       "  background-color: var(--sklearn-color-unfitted-level-2);\n",
       "}\n",
       "\n",
       "#sk-container-id-3 div.sk-estimator.fitted:hover {\n",
       "  /* fitted */\n",
       "  background-color: var(--sklearn-color-fitted-level-2);\n",
       "}\n",
       "\n",
       "/* Specification for estimator info (e.g. \"i\" and \"?\") */\n",
       "\n",
       "/* Common style for \"i\" and \"?\" */\n",
       "\n",
       ".sk-estimator-doc-link,\n",
       "a:link.sk-estimator-doc-link,\n",
       "a:visited.sk-estimator-doc-link {\n",
       "  float: right;\n",
       "  font-size: smaller;\n",
       "  line-height: 1em;\n",
       "  font-family: monospace;\n",
       "  background-color: var(--sklearn-color-background);\n",
       "  border-radius: 1em;\n",
       "  height: 1em;\n",
       "  width: 1em;\n",
       "  text-decoration: none !important;\n",
       "  margin-left: 1ex;\n",
       "  /* unfitted */\n",
       "  border: var(--sklearn-color-unfitted-level-1) 1pt solid;\n",
       "  color: var(--sklearn-color-unfitted-level-1);\n",
       "}\n",
       "\n",
       ".sk-estimator-doc-link.fitted,\n",
       "a:link.sk-estimator-doc-link.fitted,\n",
       "a:visited.sk-estimator-doc-link.fitted {\n",
       "  /* fitted */\n",
       "  border: var(--sklearn-color-fitted-level-1) 1pt solid;\n",
       "  color: var(--sklearn-color-fitted-level-1);\n",
       "}\n",
       "\n",
       "/* On hover */\n",
       "div.sk-estimator:hover .sk-estimator-doc-link:hover,\n",
       ".sk-estimator-doc-link:hover,\n",
       "div.sk-label-container:hover .sk-estimator-doc-link:hover,\n",
       ".sk-estimator-doc-link:hover {\n",
       "  /* unfitted */\n",
       "  background-color: var(--sklearn-color-unfitted-level-3);\n",
       "  color: var(--sklearn-color-background);\n",
       "  text-decoration: none;\n",
       "}\n",
       "\n",
       "div.sk-estimator.fitted:hover .sk-estimator-doc-link.fitted:hover,\n",
       ".sk-estimator-doc-link.fitted:hover,\n",
       "div.sk-label-container:hover .sk-estimator-doc-link.fitted:hover,\n",
       ".sk-estimator-doc-link.fitted:hover {\n",
       "  /* fitted */\n",
       "  background-color: var(--sklearn-color-fitted-level-3);\n",
       "  color: var(--sklearn-color-background);\n",
       "  text-decoration: none;\n",
       "}\n",
       "\n",
       "/* Span, style for the box shown on hovering the info icon */\n",
       ".sk-estimator-doc-link span {\n",
       "  display: none;\n",
       "  z-index: 9999;\n",
       "  position: relative;\n",
       "  font-weight: normal;\n",
       "  right: .2ex;\n",
       "  padding: .5ex;\n",
       "  margin: .5ex;\n",
       "  width: min-content;\n",
       "  min-width: 20ex;\n",
       "  max-width: 50ex;\n",
       "  color: var(--sklearn-color-text);\n",
       "  box-shadow: 2pt 2pt 4pt #999;\n",
       "  /* unfitted */\n",
       "  background: var(--sklearn-color-unfitted-level-0);\n",
       "  border: .5pt solid var(--sklearn-color-unfitted-level-3);\n",
       "}\n",
       "\n",
       ".sk-estimator-doc-link.fitted span {\n",
       "  /* fitted */\n",
       "  background: var(--sklearn-color-fitted-level-0);\n",
       "  border: var(--sklearn-color-fitted-level-3);\n",
       "}\n",
       "\n",
       ".sk-estimator-doc-link:hover span {\n",
       "  display: block;\n",
       "}\n",
       "\n",
       "/* \"?\"-specific style due to the `<a>` HTML tag */\n",
       "\n",
       "#sk-container-id-3 a.estimator_doc_link {\n",
       "  float: right;\n",
       "  font-size: 1rem;\n",
       "  line-height: 1em;\n",
       "  font-family: monospace;\n",
       "  background-color: var(--sklearn-color-background);\n",
       "  border-radius: 1rem;\n",
       "  height: 1rem;\n",
       "  width: 1rem;\n",
       "  text-decoration: none;\n",
       "  /* unfitted */\n",
       "  color: var(--sklearn-color-unfitted-level-1);\n",
       "  border: var(--sklearn-color-unfitted-level-1) 1pt solid;\n",
       "}\n",
       "\n",
       "#sk-container-id-3 a.estimator_doc_link.fitted {\n",
       "  /* fitted */\n",
       "  border: var(--sklearn-color-fitted-level-1) 1pt solid;\n",
       "  color: var(--sklearn-color-fitted-level-1);\n",
       "}\n",
       "\n",
       "/* On hover */\n",
       "#sk-container-id-3 a.estimator_doc_link:hover {\n",
       "  /* unfitted */\n",
       "  background-color: var(--sklearn-color-unfitted-level-3);\n",
       "  color: var(--sklearn-color-background);\n",
       "  text-decoration: none;\n",
       "}\n",
       "\n",
       "#sk-container-id-3 a.estimator_doc_link.fitted:hover {\n",
       "  /* fitted */\n",
       "  background-color: var(--sklearn-color-fitted-level-3);\n",
       "}\n",
       "</style><div id=\"sk-container-id-3\" class=\"sk-top-container\"><div class=\"sk-text-repr-fallback\"><pre>MultiOutputRegressor(estimator=LGBMRegressor(bagging_fraction=0.9,\n",
       "                                             device_type=&#x27;cpu&#x27;,\n",
       "                                             feature_fraction=0.5,\n",
       "                                             lambda_l1=0.5, learning_rate=0.01,\n",
       "                                             metric=&#x27;l2&#x27;, num_leaves=250,\n",
       "                                             num_threads=10,\n",
       "                                             objective=&#x27;regression&#x27;,\n",
       "                                             random_state=42, verbosity=-1))</pre><b>In a Jupyter environment, please rerun this cell to show the HTML representation or trust the notebook. <br />On GitHub, the HTML representation is unable to render, please try loading this page with nbviewer.org.</b></div><div class=\"sk-container\" hidden><div class=\"sk-item sk-dashed-wrapped\"><div class=\"sk-label-container\"><div class=\"sk-label fitted sk-toggleable\"><input class=\"sk-toggleable__control sk-hidden--visually\" id=\"sk-estimator-id-7\" type=\"checkbox\" ><label for=\"sk-estimator-id-7\" class=\"sk-toggleable__label fitted sk-toggleable__label-arrow fitted\">&nbsp;&nbsp;MultiOutputRegressor<a class=\"sk-estimator-doc-link fitted\" rel=\"noreferrer\" target=\"_blank\" href=\"https://scikit-learn.org/1.5/modules/generated/sklearn.multioutput.MultiOutputRegressor.html\">?<span>Documentation for MultiOutputRegressor</span></a><span class=\"sk-estimator-doc-link fitted\">i<span>Fitted</span></span></label><div class=\"sk-toggleable__content fitted\"><pre>MultiOutputRegressor(estimator=LGBMRegressor(bagging_fraction=0.9,\n",
       "                                             device_type=&#x27;cpu&#x27;,\n",
       "                                             feature_fraction=0.5,\n",
       "                                             lambda_l1=0.5, learning_rate=0.01,\n",
       "                                             metric=&#x27;l2&#x27;, num_leaves=250,\n",
       "                                             num_threads=10,\n",
       "                                             objective=&#x27;regression&#x27;,\n",
       "                                             random_state=42, verbosity=-1))</pre></div> </div></div><div class=\"sk-parallel\"><div class=\"sk-parallel-item\"><div class=\"sk-item\"><div class=\"sk-label-container\"><div class=\"sk-label fitted sk-toggleable\"><input class=\"sk-toggleable__control sk-hidden--visually\" id=\"sk-estimator-id-8\" type=\"checkbox\" ><label for=\"sk-estimator-id-8\" class=\"sk-toggleable__label fitted sk-toggleable__label-arrow fitted\">estimator: LGBMRegressor</label><div class=\"sk-toggleable__content fitted\"><pre>LGBMRegressor(bagging_fraction=0.9, device_type=&#x27;cpu&#x27;, feature_fraction=0.5,\n",
       "              lambda_l1=0.5, learning_rate=0.01, metric=&#x27;l2&#x27;, num_leaves=250,\n",
       "              num_threads=10, objective=&#x27;regression&#x27;, random_state=42,\n",
       "              verbosity=-1)</pre></div> </div></div><div class=\"sk-serial\"><div class=\"sk-item\"><div class=\"sk-estimator fitted sk-toggleable\"><input class=\"sk-toggleable__control sk-hidden--visually\" id=\"sk-estimator-id-9\" type=\"checkbox\" ><label for=\"sk-estimator-id-9\" class=\"sk-toggleable__label fitted sk-toggleable__label-arrow fitted\">LGBMRegressor</label><div class=\"sk-toggleable__content fitted\"><pre>LGBMRegressor(bagging_fraction=0.9, device_type=&#x27;cpu&#x27;, feature_fraction=0.5,\n",
       "              lambda_l1=0.5, learning_rate=0.01, metric=&#x27;l2&#x27;, num_leaves=250,\n",
       "              num_threads=10, objective=&#x27;regression&#x27;, random_state=42,\n",
       "              verbosity=-1)</pre></div> </div></div></div></div></div></div></div></div></div>"
      ],
      "text/plain": [
       "MultiOutputRegressor(estimator=LGBMRegressor(bagging_fraction=0.9,\n",
       "                                             device_type='cpu',\n",
       "                                             feature_fraction=0.5,\n",
       "                                             lambda_l1=0.5, learning_rate=0.01,\n",
       "                                             metric='l2', num_leaves=250,\n",
       "                                             num_threads=10,\n",
       "                                             objective='regression',\n",
       "                                             random_state=42, verbosity=-1))"
      ]
     },
     "execution_count": 163,
     "metadata": {},
     "output_type": "execute_result"
    }
   ],
   "source": [
    "# Initialize the model with parameters\n",
    "regressor = MultiOutputRegressor(LGBMRegressor(**params))\n",
    "# from sklearn.linear_model import Ridge\n",
    "# regressor = MultiOutputRegressor(Ridge())\n",
    "\n",
    "# Fit the model on training data\n",
    "regressor.fit(X_train, targets_train)"
   ]
  },
  {
   "cell_type": "markdown",
   "metadata": {},
   "source": [
    "### Make Predictions"
   ]
  },
  {
   "cell_type": "code",
   "execution_count": 164,
   "metadata": {},
   "outputs": [],
   "source": [
    "predictions = regressor.predict(X_forward_looking)"
   ]
  },
  {
   "cell_type": "markdown",
   "metadata": {},
   "source": [
    "## Submitting Predictions"
   ]
  },
  {
   "cell_type": "markdown",
   "metadata": {},
   "source": [
    "### Load the Sample Submission File"
   ]
  },
  {
   "cell_type": "code",
   "execution_count": 165,
   "metadata": {},
   "outputs": [],
   "source": [
    "sample_submission = pd.read_csv(files['sample_submission_path'])"
   ]
  },
  {
   "cell_type": "markdown",
   "metadata": {},
   "source": [
    "### Update the Submission File with Predictions"
   ]
  },
  {
   "cell_type": "code",
   "execution_count": 168,
   "metadata": {},
   "outputs": [],
   "source": [
    "for col in sample_submission.columns[1:]:\n",
    "    sample_submission[col] = sample_submission[col].astype(float)\n",
    "\n",
    "sample_submission.iloc[:, 1:] = predictions"
   ]
  },
  {
   "cell_type": "markdown",
   "metadata": {},
   "source": [
    "### Save Submission File"
   ]
  },
  {
   "cell_type": "code",
   "execution_count": 169,
   "metadata": {},
   "outputs": [],
   "source": [
    "# Save the updated submission file\n",
    "submission_path = 'submission.csv'\n",
    "sample_submission.to_csv(submission_path, index=False)"
   ]
  },
  {
   "cell_type": "markdown",
   "metadata": {},
   "source": [
    "### Submit the Predictions"
   ]
  },
  {
   "cell_type": "code",
   "execution_count": null,
   "metadata": {},
   "outputs": [],
   "source": [
    "synnax_lab_client.submit_predictions(files[\"dataset_date\"], submission_path)\n",
    "time.sleep(5) # 5 seconds to process submission before running next cell"
   ]
  },
  {
   "cell_type": "markdown",
   "metadata": {},
   "source": [
    "## Check confidence score (validation)"
   ]
  },
  {
   "cell_type": "markdown",
   "metadata": {},
   "source": [
    "Submissions require some time to get processed in the backend, so in case running the below function does not return the `confidenceScore` right away, give it a few seconds and rerun. A `confidenceScore` is there when the submission `status: 'Processed'`"
   ]
  },
  {
   "cell_type": "code",
   "execution_count": 147,
   "metadata": {},
   "outputs": [
    {
     "data": {
      "text/plain": [
       "[{'id': '4a809ed2-a34b-409a-895b-85d913817a9d',\n",
       "  'datasetDate': '2024-09-10',\n",
       "  'originalFilename': 'submission.csv',\n",
       "  'status': 'Processed',\n",
       "  'confidenceScore': -1030.0046503478281,\n",
       "  'ownerId': 'User-aa71d80a-6e0a-417b-a869-e9b2fa671fdc',\n",
       "  'uploadedAt': '2024-09-10T11:17:30.540Z'},\n",
       " {'id': 'ba10218d-4293-49de-9c56-36d7eb0c0657',\n",
       "  'datasetDate': '2024-09-10',\n",
       "  'originalFilename': 'submission.csv',\n",
       "  'status': 'Processed',\n",
       "  'confidenceScore': -1030.0046503478281,\n",
       "  'ownerId': 'User-aa71d80a-6e0a-417b-a869-e9b2fa671fdc',\n",
       "  'uploadedAt': '2024-09-10T11:16:48.016Z'},\n",
       " {'id': '4140f050-eb0e-4e25-bf99-d787a26fa367',\n",
       "  'datasetDate': '2024-09-10',\n",
       "  'originalFilename': 'submission.csv',\n",
       "  'status': 'Processed',\n",
       "  'confidenceScore': 0.12233956654794893,\n",
       "  'ownerId': 'User-aa71d80a-6e0a-417b-a869-e9b2fa671fdc',\n",
       "  'uploadedAt': '2024-09-10T10:47:02.448Z'},\n",
       " {'id': 'dbfa0841-31bc-4580-bb4c-c647d1e9f628',\n",
       "  'datasetDate': '2024-09-10',\n",
       "  'originalFilename': 'submission.csv',\n",
       "  'status': 'Processed',\n",
       "  'confidenceScore': 0.12233956654794893,\n",
       "  'ownerId': 'User-aa71d80a-6e0a-417b-a869-e9b2fa671fdc',\n",
       "  'uploadedAt': '2024-09-10T10:36:01.295Z'},\n",
       " {'id': 'e88376dd-1f78-4fc9-9a88-d471fe1d0d3d',\n",
       "  'datasetDate': '2024-09-05',\n",
       "  'originalFilename': 'submission.csv',\n",
       "  'status': 'Processed',\n",
       "  'confidenceScore': 0.45768741331569546,\n",
       "  'ownerId': 'User-aa71d80a-6e0a-417b-a869-e9b2fa671fdc',\n",
       "  'uploadedAt': '2024-09-05T10:35:00.152Z'}]"
      ]
     },
     "execution_count": 147,
     "metadata": {},
     "output_type": "execute_result"
    }
   ],
   "source": [
    "synnax_lab_client.get_past_submissions()"
   ]
  },
  {
   "cell_type": "markdown",
   "metadata": {},
   "source": [
    "## Congratulations! 🥳 You’ve Made Your First Submission!"
   ]
  },
  {
   "cell_type": "markdown",
   "metadata": {},
   "source": [
    "This was a basic pipeline. Now, it's time to level up! 🚀 Use the macroeconomic data to make your model more robust. Experiment with different models, tweak them, and maybe even try some neural networks. 🧠💥\n",
    "\n",
    "Data science is like cooking. There are endless recipes to try. So, spice things up, preprocess like a pro, and get those scores soaring! 🌟👨‍🍳👩‍🍳\n",
    "\n",
    "Good luck, and may the data be ever in your favor! 🍀📈"
   ]
  },
  {
   "cell_type": "markdown",
   "metadata": {},
   "source": [
    "# P.S."
   ]
  },
  {
   "cell_type": "markdown",
   "metadata": {},
   "source": [
    "Above pipeline is a simple example of how to get started with synnax-lab-sdk and arrive at your first submission.\n",
    "\n",
    "To improve your scores look into:\n",
    "1. Macroeconomic data\n",
    "2. Experiment with other categoric variables encoding options (try individual mean-target-encoding for each target)\n",
    "3. Deal with outliers\n",
    "4. More advanced missing values imputation options\n",
    "5. Different models, individual models for each tartet, hyperparameters tuning\n",
    "6. Models ensembling (if using different models, make sure you have appropriate processing for each model)\n",
    "7. Feature selection: not all features in X_train, macro_train can be useful. Try to remove some of them.\n",
    "8. And of course your creativity. We're confident that your individual approach can beat anything we have layed out in our short tutorial"
   ]
  }
 ],
 "metadata": {
  "kernelspec": {
   "display_name": "Python 3",
   "language": "python",
   "name": "python3"
  },
  "language_info": {
   "codemirror_mode": {
    "name": "ipython",
    "version": 3
   },
   "file_extension": ".py",
   "mimetype": "text/x-python",
   "name": "python",
   "nbconvert_exporter": "python",
   "pygments_lexer": "ipython3",
   "version": "3.12.5"
  }
 },
 "nbformat": 4,
 "nbformat_minor": 2
}
