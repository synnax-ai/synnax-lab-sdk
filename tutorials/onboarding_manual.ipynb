{
 "cells": [
  {
   "cell_type": "markdown",
   "metadata": {},
   "source": [
    "Welcome to Synnax Lab! In this tutorial, I'll guide you through the entire process—from setting up your account to making your first submission. Let's go! 🚀"
   ]
  },
  {
   "cell_type": "markdown",
   "metadata": {},
   "source": [
    "# Creating Account"
   ]
  },
  {
   "cell_type": "markdown",
   "metadata": {},
   "source": [
    "## Step: 1 Navigate to Synnax App\n",
    "\n",
    "Let's go to [Synnax App](https://synnax.app/) and click on the **LOG IN** button.\n",
    "\n",
    "![Synnax App image](https://synnax-ai.github.io/synnax-lab-sdk/tutorials/img/step_1.png)"
   ]
  },
  {
   "cell_type": "markdown",
   "metadata": {},
   "source": [
    "## Step 2: Sign up for Synnax App\n",
    "\n",
    "Synnax allows you to sign up/log in with a wallet or an email. Sign up using either option and finish the sign up process. This will register you in the Synnax App, which is currently open for everyone. It allows registered users to view the credit intelligence for the companies Synnax features. To become a contributor proceed to Step 3.\n",
    "\n",
    "![Login Options](https://synnax-ai.github.io/synnax-lab-sdk/tutorials/img/step_2.png)\n"
   ]
  },
  {
   "cell_type": "markdown",
   "metadata": {},
   "source": [
    "## Step 3: Become a contributor\n",
    "\n",
    "Apply for Synnax Lab membership as a Data Scientist. In the Synnax Lab section click **EARN WITH SYNNAX LAB** button.\n",
    "\n",
    "![Signup Options](https://synnax-ai.github.io/synnax-lab-sdk/tutorials/img/step_3.png)"
   ]
  },
  {
   "cell_type": "markdown",
   "metadata": {},
   "source": [
    "### 3.1 Fill out the form and click Join\n",
    "\n",
    "We give preference to applications who fill in their **real names and agree to participate in a short introductory video call**.\n",
    "\n",
    "![Signup Form](https://synnax-ai.github.io/synnax-lab-sdk/tutorials/img/step_3.1.png)"
   ]
  },
  {
   "cell_type": "markdown",
   "metadata": {},
   "source": [
    "## Step 4: Get application approval\n",
    "\n",
    "Your application will be processed in the order when it was received. We are approving 3 applications per week after a short 15 minute introductory video call with each applicant. Typical wait time for interview scheduling is 1-2 weeks."
   ]
  },
  {
   "cell_type": "markdown",
   "metadata": {},
   "source": [
    "## Step 5: Create a New API Key\n",
    "\n",
    "In the **API Keys** section, click on **NEW API KEY** to generate a new key.\n",
    "\n",
    "![API Keys](https://synnax-ai.github.io/synnax-lab-sdk/tutorials/img/step_5.png)\n"
   ]
  },
  {
   "cell_type": "markdown",
   "metadata": {},
   "source": [
    "## Step 6: Name Your Key\n",
    "\n",
    "Give your API key a name, click each checkbox and **CREATE** to finalize the process.\n",
    "\n",
    "![Name and Create API Key](https://synnax-ai.github.io/synnax-lab-sdk/tutorials/img/step_6.png)\n"
   ]
  },
  {
   "cell_type": "markdown",
   "metadata": {},
   "source": [
    "## Step 7: Copy Your API Key\n",
    "\n",
    "Once your API key is created, **copy** it immediately. This key will not be available after closing the modal.\n",
    "\n",
    "![Copy API Key](https://synnax-ai.github.io/synnax-lab-sdk/tutorials/img/step_7.png)"
   ]
  },
  {
   "cell_type": "markdown",
   "metadata": {},
   "source": [
    "🙏 You have successfully created your account and obtained an API key for Synnax Lab.  \n",
    "\n",
    "💪 Now, roll up your sleeves, get your hands dirty, and make some magic happen!"
   ]
  },
  {
   "cell_type": "markdown",
   "metadata": {},
   "source": [
    "# Data Science Meets Finance: Let’s Get Coding!"
   ]
  },
  {
   "cell_type": "markdown",
   "metadata": {},
   "source": [
    "## Installing SDK"
   ]
  },
  {
   "cell_type": "markdown",
   "metadata": {},
   "source": [
    "To make your journey from fetching data to submitting predictions as smooth as possible, Synnax Lab has created an SDK that's as effortless as a Sunday morning. Let’s install it and get started!"
   ]
  },
  {
   "cell_type": "code",
   "execution_count": 11,
   "metadata": {},
   "outputs": [],
   "source": [
    "!pip install synnax-lab-sdk"
   ]
  },
  {
   "cell_type": "markdown",
   "metadata": {},
   "source": [
    "## Imports"
   ]
  },
  {
   "cell_type": "code",
   "execution_count": null,
   "metadata": {},
   "outputs": [],
   "source": [
    "# Importing necessary libraries\n",
    "import time\n",
    "import pandas as pd\n",
    "from sklearn.preprocessing import LabelEncoder\n",
    "from sklearn.multioutput import MultiOutputRegressor\n",
    "from lightgbm import LGBMRegressor\n",
    "\n",
    "# Importing Synnax Lab SDK Client\n",
    "from synnax_lab_sdk.client import SynnaxLabClient"
   ]
  },
  {
   "cell_type": "markdown",
   "metadata": {},
   "source": [
    "## Fetching Datasets"
   ]
  },
  {
   "cell_type": "markdown",
   "metadata": {},
   "source": [
    "Below script will create a synnax-lab folder in the current working directory where all the downloaded datasets will be stored.\n",
    "`files` object is a dictionary with files names and their respective paths. User can download training data including or excluding the optional macroeconomical datasets."
   ]
  },
  {
   "cell_type": "code",
   "execution_count": null,
   "metadata": {},
   "outputs": [],
   "source": [
    "synnax_lab_client = SynnaxLabClient(api_key = \"your_api_key\")\n",
    "\n",
    "files = synnax_lab_client.get_datasets(with_macro_data=True)"
   ]
  },
  {
   "cell_type": "code",
   "execution_count": null,
   "metadata": {},
   "outputs": [
    {
     "data": {
      "text/plain": [
       "{'x_train_path': 'synnax-data/datasets/X_train.csv',\n",
       " 'targets_train_path': 'synnax-data/datasets/targets_train.csv',\n",
       " 'x_forward_looking_path': 'synnax-data/datasets/X_forward_looking.csv',\n",
       " 'macro_train_path': 'synnax-data/datasets/macro_train.csv',\n",
       " 'macro_forward_looking_path': 'synnax-data/datasets/macro_forward_looking.csv',\n",
       " 'sample_submission_path': 'synnax-data/datasets/sample_submission.csv',\n",
       " 'data_dictionary_path': 'synnax-data/datasets/data_dictionary.txt',\n",
       " 'dataset_date': '2024-09-10'}"
      ]
     },
     "execution_count": 5,
     "metadata": {},
     "output_type": "execute_result"
    }
   ],
   "source": [
    "print(files)"
   ]
  },
  {
   "cell_type": "markdown",
   "metadata": {},
   "source": [
    "## Dataset Structure 📂\n",
    "\n",
    "<pre>\n",
    "📂 synnax-data\n",
    "│   └── 📂 datasets\n",
    "│       ├── 📜 data_dictionary.txt\n",
    "│       ├── 📊 macro_forward_looking.csv\n",
    "│       ├── 📈 macro_train.csv\n",
    "│       ├── 📝 sample_submission.csv\n",
    "│       ├── 🎯 targets_train.csv\n",
    "│       ├── 🔮 X_forward_looking.csv\n",
    "│       └── 📚 X_train.csv\n",
    "</pre>\n",
    "\n",
    "### 📋 Description:\n",
    "The datasets subdirectory includes everything you need:\n",
    "\n",
    "- **`X_train.csv`**: Your training data with financial features.\n",
    "- **`targets_train.csv`**: The targets you're predicting in training.\n",
    "- **`X_forward_looking.csv`**: The test data where you’ll make your predictions.\n",
    "- **`macro_train.csv`** & **`macro_forward_looking.csv`**: Macroeconomic data to enrich your model.\n",
    "- **`sample_submission.csv`**: Shows you how to format your predictions for submission.\n",
    "\n"
   ]
  },
  {
   "cell_type": "markdown",
   "metadata": {},
   "source": [
    "## Loading Dataset"
   ]
  },
  {
   "cell_type": "code",
   "execution_count": null,
   "metadata": {},
   "outputs": [],
   "source": [
    "X_train = pd.read_csv(files['x_train_path'])  # Training features\n",
    "X_forward_looking = pd.read_csv(files['x_forward_looking_path'])  # Test features\n",
    "targets_train = pd.read_csv(files['targets_train_path'])  # Training targets\n",
    "# macro_train = pd.read_csv(files['macro_train_path'])  # Historical macroeconomic data\n",
    "# macro_forward_looking = pd.read_csv(files['macro_forward_looking_path'])  # Future macroeconomic data"
   ]
  },
  {
   "cell_type": "markdown",
   "metadata": {},
   "source": [
    "Let's take a quick look at the first few rows of our training data."
   ]
  },
  {
   "cell_type": "code",
   "execution_count": 9,
   "metadata": {},
   "outputs": [
    {
     "data": {
      "application/vnd.microsoft.datawrangler.viewer.v0+json": {
       "columns": [
        {
         "name": "index",
         "rawType": "int64",
         "type": "integer"
        },
        {
         "name": "company_id",
         "rawType": "object",
         "type": "string"
        },
        {
         "name": "country_code",
         "rawType": "object",
         "type": "string"
        },
        {
         "name": "sector",
         "rawType": "object",
         "type": "string"
        },
        {
         "name": "industry",
         "rawType": "object",
         "type": "string"
        },
        {
         "name": "Q4_feature_1",
         "rawType": "float64",
         "type": "float"
        },
        {
         "name": "Q4_feature_2",
         "rawType": "float64",
         "type": "float"
        },
        {
         "name": "Q4_feature_3",
         "rawType": "float64",
         "type": "float"
        },
        {
         "name": "Q4_feature_4",
         "rawType": "float64",
         "type": "float"
        },
        {
         "name": "Q4_feature_5",
         "rawType": "float64",
         "type": "float"
        },
        {
         "name": "Q4_feature_6",
         "rawType": "float64",
         "type": "float"
        },
        {
         "name": "Q4_feature_7",
         "rawType": "float64",
         "type": "float"
        },
        {
         "name": "Q4_feature_8",
         "rawType": "float64",
         "type": "float"
        },
        {
         "name": "Q4_feature_9",
         "rawType": "float64",
         "type": "float"
        },
        {
         "name": "Q4_feature_10",
         "rawType": "float64",
         "type": "float"
        },
        {
         "name": "Q4_feature_11",
         "rawType": "float64",
         "type": "float"
        },
        {
         "name": "Q4_feature_12",
         "rawType": "float64",
         "type": "float"
        },
        {
         "name": "Q4_feature_13",
         "rawType": "float64",
         "type": "float"
        },
        {
         "name": "Q4_feature_14",
         "rawType": "float64",
         "type": "float"
        },
        {
         "name": "Q4_feature_15",
         "rawType": "float64",
         "type": "float"
        },
        {
         "name": "Q4_feature_16",
         "rawType": "float64",
         "type": "float"
        },
        {
         "name": "Q4_feature_17",
         "rawType": "float64",
         "type": "float"
        },
        {
         "name": "Q4_feature_18",
         "rawType": "float64",
         "type": "float"
        },
        {
         "name": "Q4_feature_19",
         "rawType": "float64",
         "type": "float"
        },
        {
         "name": "Q4_feature_20",
         "rawType": "float64",
         "type": "float"
        },
        {
         "name": "Q4_feature_21",
         "rawType": "float64",
         "type": "float"
        },
        {
         "name": "Q4_feature_22",
         "rawType": "float64",
         "type": "float"
        },
        {
         "name": "Q4_feature_23",
         "rawType": "float64",
         "type": "float"
        },
        {
         "name": "Q4_feature_24",
         "rawType": "float64",
         "type": "float"
        },
        {
         "name": "Q4_feature_25",
         "rawType": "float64",
         "type": "float"
        },
        {
         "name": "Q4_feature_26",
         "rawType": "float64",
         "type": "float"
        },
        {
         "name": "Q4_feature_27",
         "rawType": "float64",
         "type": "float"
        },
        {
         "name": "Q4_feature_28",
         "rawType": "float64",
         "type": "float"
        },
        {
         "name": "Q4_feature_29",
         "rawType": "float64",
         "type": "float"
        },
        {
         "name": "Q4_feature_30",
         "rawType": "float64",
         "type": "float"
        },
        {
         "name": "Q4_feature_31",
         "rawType": "float64",
         "type": "float"
        },
        {
         "name": "Q4_feature_32",
         "rawType": "float64",
         "type": "float"
        },
        {
         "name": "Q3_feature_1",
         "rawType": "float64",
         "type": "float"
        },
        {
         "name": "Q3_feature_2",
         "rawType": "float64",
         "type": "float"
        },
        {
         "name": "Q3_feature_3",
         "rawType": "float64",
         "type": "float"
        },
        {
         "name": "Q3_feature_4",
         "rawType": "float64",
         "type": "float"
        },
        {
         "name": "Q3_feature_5",
         "rawType": "float64",
         "type": "float"
        },
        {
         "name": "Q3_feature_6",
         "rawType": "float64",
         "type": "float"
        },
        {
         "name": "Q3_feature_7",
         "rawType": "float64",
         "type": "float"
        },
        {
         "name": "Q3_feature_8",
         "rawType": "float64",
         "type": "float"
        },
        {
         "name": "Q3_feature_9",
         "rawType": "float64",
         "type": "float"
        },
        {
         "name": "Q3_feature_10",
         "rawType": "float64",
         "type": "float"
        },
        {
         "name": "Q3_feature_11",
         "rawType": "float64",
         "type": "float"
        },
        {
         "name": "Q3_feature_12",
         "rawType": "float64",
         "type": "float"
        },
        {
         "name": "Q3_feature_13",
         "rawType": "float64",
         "type": "float"
        },
        {
         "name": "Q3_feature_14",
         "rawType": "float64",
         "type": "float"
        },
        {
         "name": "Q3_feature_15",
         "rawType": "float64",
         "type": "float"
        },
        {
         "name": "Q3_feature_16",
         "rawType": "float64",
         "type": "float"
        },
        {
         "name": "Q3_feature_17",
         "rawType": "float64",
         "type": "float"
        },
        {
         "name": "Q3_feature_18",
         "rawType": "float64",
         "type": "float"
        },
        {
         "name": "Q3_feature_19",
         "rawType": "float64",
         "type": "float"
        },
        {
         "name": "Q3_feature_20",
         "rawType": "float64",
         "type": "float"
        },
        {
         "name": "Q3_feature_21",
         "rawType": "float64",
         "type": "float"
        },
        {
         "name": "Q3_feature_22",
         "rawType": "float64",
         "type": "float"
        },
        {
         "name": "Q3_feature_23",
         "rawType": "float64",
         "type": "float"
        },
        {
         "name": "Q3_feature_24",
         "rawType": "float64",
         "type": "float"
        },
        {
         "name": "Q3_feature_25",
         "rawType": "float64",
         "type": "float"
        },
        {
         "name": "Q3_feature_26",
         "rawType": "float64",
         "type": "float"
        },
        {
         "name": "Q3_feature_27",
         "rawType": "float64",
         "type": "float"
        },
        {
         "name": "Q3_feature_28",
         "rawType": "float64",
         "type": "float"
        },
        {
         "name": "Q3_feature_29",
         "rawType": "float64",
         "type": "float"
        },
        {
         "name": "Q3_feature_30",
         "rawType": "float64",
         "type": "float"
        },
        {
         "name": "Q3_feature_31",
         "rawType": "float64",
         "type": "float"
        },
        {
         "name": "Q3_feature_32",
         "rawType": "float64",
         "type": "float"
        },
        {
         "name": "Q2_feature_1",
         "rawType": "float64",
         "type": "float"
        },
        {
         "name": "Q2_feature_2",
         "rawType": "float64",
         "type": "float"
        },
        {
         "name": "Q2_feature_3",
         "rawType": "float64",
         "type": "float"
        },
        {
         "name": "Q2_feature_4",
         "rawType": "float64",
         "type": "float"
        },
        {
         "name": "Q2_feature_5",
         "rawType": "float64",
         "type": "float"
        },
        {
         "name": "Q2_feature_6",
         "rawType": "float64",
         "type": "float"
        },
        {
         "name": "Q2_feature_7",
         "rawType": "float64",
         "type": "float"
        },
        {
         "name": "Q2_feature_8",
         "rawType": "float64",
         "type": "float"
        },
        {
         "name": "Q2_feature_9",
         "rawType": "float64",
         "type": "float"
        },
        {
         "name": "Q2_feature_10",
         "rawType": "float64",
         "type": "float"
        },
        {
         "name": "Q2_feature_11",
         "rawType": "float64",
         "type": "float"
        },
        {
         "name": "Q2_feature_12",
         "rawType": "float64",
         "type": "float"
        },
        {
         "name": "Q2_feature_13",
         "rawType": "float64",
         "type": "float"
        },
        {
         "name": "Q2_feature_14",
         "rawType": "float64",
         "type": "float"
        },
        {
         "name": "Q2_feature_15",
         "rawType": "float64",
         "type": "float"
        },
        {
         "name": "Q2_feature_16",
         "rawType": "float64",
         "type": "float"
        },
        {
         "name": "Q2_feature_17",
         "rawType": "float64",
         "type": "float"
        },
        {
         "name": "Q2_feature_18",
         "rawType": "float64",
         "type": "float"
        },
        {
         "name": "Q2_feature_19",
         "rawType": "float64",
         "type": "float"
        },
        {
         "name": "Q2_feature_20",
         "rawType": "float64",
         "type": "float"
        },
        {
         "name": "Q2_feature_21",
         "rawType": "float64",
         "type": "float"
        },
        {
         "name": "Q2_feature_22",
         "rawType": "float64",
         "type": "float"
        },
        {
         "name": "Q2_feature_23",
         "rawType": "float64",
         "type": "float"
        },
        {
         "name": "Q2_feature_24",
         "rawType": "float64",
         "type": "float"
        },
        {
         "name": "Q2_feature_25",
         "rawType": "float64",
         "type": "float"
        },
        {
         "name": "Q2_feature_26",
         "rawType": "float64",
         "type": "float"
        },
        {
         "name": "Q2_feature_27",
         "rawType": "float64",
         "type": "float"
        },
        {
         "name": "Q2_feature_28",
         "rawType": "float64",
         "type": "float"
        },
        {
         "name": "Q2_feature_29",
         "rawType": "float64",
         "type": "float"
        },
        {
         "name": "Q2_feature_30",
         "rawType": "float64",
         "type": "float"
        },
        {
         "name": "Q2_feature_31",
         "rawType": "float64",
         "type": "float"
        },
        {
         "name": "Q2_feature_32",
         "rawType": "float64",
         "type": "float"
        },
        {
         "name": "Q1_feature_1",
         "rawType": "float64",
         "type": "float"
        },
        {
         "name": "Q1_feature_2",
         "rawType": "float64",
         "type": "float"
        },
        {
         "name": "Q1_feature_3",
         "rawType": "float64",
         "type": "float"
        },
        {
         "name": "Q1_feature_4",
         "rawType": "float64",
         "type": "float"
        },
        {
         "name": "Q1_feature_5",
         "rawType": "float64",
         "type": "float"
        },
        {
         "name": "Q1_feature_6",
         "rawType": "float64",
         "type": "float"
        },
        {
         "name": "Q1_feature_7",
         "rawType": "float64",
         "type": "float"
        },
        {
         "name": "Q1_feature_8",
         "rawType": "float64",
         "type": "float"
        },
        {
         "name": "Q1_feature_9",
         "rawType": "float64",
         "type": "float"
        },
        {
         "name": "Q1_feature_10",
         "rawType": "float64",
         "type": "float"
        },
        {
         "name": "Q1_feature_11",
         "rawType": "float64",
         "type": "float"
        },
        {
         "name": "Q1_feature_12",
         "rawType": "float64",
         "type": "float"
        },
        {
         "name": "Q1_feature_13",
         "rawType": "float64",
         "type": "float"
        },
        {
         "name": "Q1_feature_14",
         "rawType": "float64",
         "type": "float"
        },
        {
         "name": "Q1_feature_15",
         "rawType": "float64",
         "type": "float"
        },
        {
         "name": "Q1_feature_16",
         "rawType": "float64",
         "type": "float"
        },
        {
         "name": "Q1_feature_17",
         "rawType": "float64",
         "type": "float"
        },
        {
         "name": "Q1_feature_18",
         "rawType": "float64",
         "type": "float"
        },
        {
         "name": "Q1_feature_19",
         "rawType": "float64",
         "type": "float"
        },
        {
         "name": "Q1_feature_20",
         "rawType": "float64",
         "type": "float"
        },
        {
         "name": "Q1_feature_21",
         "rawType": "float64",
         "type": "float"
        },
        {
         "name": "Q1_feature_22",
         "rawType": "float64",
         "type": "float"
        },
        {
         "name": "Q1_feature_23",
         "rawType": "float64",
         "type": "float"
        },
        {
         "name": "Q1_feature_24",
         "rawType": "float64",
         "type": "float"
        },
        {
         "name": "Q1_feature_25",
         "rawType": "float64",
         "type": "float"
        },
        {
         "name": "Q1_feature_26",
         "rawType": "float64",
         "type": "float"
        },
        {
         "name": "Q1_feature_27",
         "rawType": "float64",
         "type": "float"
        },
        {
         "name": "Q1_feature_28",
         "rawType": "float64",
         "type": "float"
        },
        {
         "name": "Q1_feature_29",
         "rawType": "float64",
         "type": "float"
        },
        {
         "name": "Q1_feature_30",
         "rawType": "float64",
         "type": "float"
        },
        {
         "name": "Q1_feature_31",
         "rawType": "float64",
         "type": "float"
        },
        {
         "name": "Q1_feature_32",
         "rawType": "float64",
         "type": "float"
        }
       ],
       "conversionMethod": "pd.DataFrame",
       "ref": "c31c9bb6-0c2e-4d7c-9c91-58efee7d0780",
       "rows": [
        [
         "0",
         "nYVQRtTxDB3EaeaD98BuKu",
         "CN",
         "Real Estate",
         "Real Estate - Development",
         "1765.4804025104338",
         "239.77027461375195",
         "240.0212018972905",
         "14.16534088417544",
         "809.3878946880982",
         "484.44481676808294",
         "226.31758844793276",
         "-39.56257805065013",
         "272.83944258464703",
         "211.50610371705304",
         "2240.546564408865",
         "14.48765729340077",
         "905.1979238155204",
         "2037.5610369736528",
         "39.127541220561135",
         "2240.3114424286982",
         "979.8647421563584",
         "2119.638193369062",
         "5648.377819501291",
         "6075.94086405811",
         "21626.268345497476",
         "12338.41987632601",
         "20714.171073855665",
         "0.5137773717464368",
         "646.412454847551",
         "160.64762635496547",
         "7888.593546414305",
         "2126.9580111845885",
         "2636.862098570214",
         "23755.02862247809",
         "12548.903075137954",
         "2077.286113876596",
         "2087.7627918673297",
         "358.7905788417033",
         "358.974995032034",
         "130.15742470740486",
         "-701.6190382734812",
         "779.0438210561055",
         "228.77816362805555",
         "81.8382944924563",
         "489.9255501185356",
         "296.4283268999393",
         "2857.042335340573",
         "147.91268167618196",
         "-782.0442082241605",
         "2575.129746849028",
         "3.8647844026022247",
         "2882.5532451205386",
         "850.741982583492",
         "1749.045156972642",
         "7131.179619752606",
         "7619.108044930269",
         "16414.106804222807",
         "7081.356326097287",
         "15157.210828184388",
         "0.5137773691043904",
         "602.2817747654088",
         "408.1553589921692",
         "7217.395170680633",
         "1746.6572189584106",
         "2785.668360653985",
         "18727.93121469796",
         "7462.452550897756",
         "2350.5871524284134",
         "1591.9731854602962",
         "63.86660588248075",
         "64.06672939941187",
         "6.764323648994304",
         "211.6345551567631",
         "392.66735009564667",
         "57.84526424764257",
         "-15.169786075948256",
         "259.8014810161612",
         "134.20140742174937",
         "1993.3597072156172",
         "12.772089827053748",
         "239.8302458832924",
         "1853.830593145504",
         "3.4649211962709434",
         "1981.39554476403",
         "840.2560504633102",
         "1926.8693209481428",
         "2681.184476745152",
         "3037.2945249988943",
         "11692.175628718353",
         "157.14641778592798",
         "10629.819316281835",
         "0.513777370448631",
         "406.3991453928651",
         "377.00625229246674",
         "9596.450486457572",
         "1934.8014247511144",
         "2737.6943274117907",
         "14138.758439256722",
         "530.4161545371069",
         "2449.317259355898",
         "1650.4119376211895",
         "61.53498142566956",
         "61.78836112957709",
         "11.064074550538392",
         "-155.5573021020389",
         "445.2133772132761",
         "51.2269546179851",
         "-22.071939249421867",
         "265.2136592207593",
         "178.255893025016",
         "2098.3134961775",
         "12.97041522199672",
         "-161.6407967678765",
         "1917.5264559899456",
         "3.5290560312407195",
         "2094.695392967166",
         "878.6632683904897",
         "2199.436197268906",
         "2652.572839323585",
         "2900.24289160162",
         "11852.873170593522",
         "615.4234689781722",
         "10849.53719707749",
         "0.5137773696203021",
         "404.8945975586675",
         "453.2645253891629",
         "9055.696340282271",
         "2202.184253921879",
         "2674.29485988339",
         "14393.208305298303",
         "1243.0123460012287",
         "2550.5617744108804"
        ],
        [
         "1",
         "hH9tnYKK4W8WEabfHh9H8U",
         "CN",
         "Healthcare",
         "Medical Devices",
         "1731.733563425017",
         "521.3555458284454",
         "522.461691335547",
         "516.9795589818856",
         "713.3580548709263",
         "1663.4343296883076",
         "6.405816510599791",
         "479.5356202293349",
         "1281.2376115848251",
         "381.9761980994969",
         "3397.7661321696155",
         "-113.7456153438315",
         "1871.922731300106",
         "3023.165161307086",
         "36.58858381106256",
         "3414.836311986848",
         "2608.3581565933355",
         "1563.516967964109",
         "7848.05295748628",
         "12911.036771297093",
         "16062.426586944845",
         "37.246863502554696",
         "5623.73795352272",
         "3920.187817655736",
         "1210.3164434572227",
         "54.86704400725311",
         "5046.031060976994",
         "1567.448984326068",
         "25696.357575130827",
         "33433.71548338426",
         "168.29776937302793",
         "17439.13499870775",
         "1437.1715988640751",
         "274.6524559730157",
         "272.93540573487917",
         "270.2541251392586",
         "-552.3582961751862",
         "1422.235118965481",
         "4.7081248684792465",
         "306.116528541189",
         "1247.033806016459",
         "172.90868230826771",
         "2842.874596660025",
         "33.016024094537634",
         "-984.2064223991688",
         "2690.178004398102",
         "-33.02677025098474",
         "2856.9551952176744",
         "2455.510917655639",
         "1172.595138572683",
         "7990.117058950406",
         "12083.842102678838",
         "15861.018113360837",
         "38.12115766490296",
         "5901.3646227176705",
         "4036.410843981552",
         "1559.5580284522894",
         "54.85219308303733",
         "4998.967038861316",
         "1176.7048593939514",
         "26456.69246158034",
         "34749.208349513436",
         "186.0476925150888",
         "18736.930448894436",
         "2137.048162990106",
         "954.7009138606412",
         "955.1044388124284",
         "953.8113824783889",
         "254.5740407278249",
         "2105.7611300088465",
         "5.725648002022343",
         "845.7146480837016",
         "1200.8018599245656",
         "901.3104121447708",
         "4237.2942952861895",
         "36.170804383902464",
         "751.0975352878198",
         "3333.223712856586",
         "1.7008715324136094",
         "4223.73257660088",
         "3069.8330316013084",
         "2070.446627943455",
         "8161.739161205887",
         "12296.823689812863",
         "16971.09854910456",
         "68.0543764414474",
         "6082.782614986254",
         "3947.213070254438",
         "1539.2211775774629",
         "54.21955247614969",
         "5508.225650524915",
         "2068.4481107376187",
         "26684.065895375785",
         "35139.94437713991",
         "211.91709461183896",
         "18055.94395593706",
         "1762.0635971126196",
         "644.2762973249412",
         "642.3925813647061",
         "640.7806120575791",
         "-153.99532061548862",
         "1531.8866253612705",
         "6.132057215333825",
         "595.9197854940595",
         "973.7978901132124",
         "556.3674700762816",
         "3285.3783991338423",
         "33.15373383259003",
         "-315.72649665885433",
         "2742.256331123522",
         "1.8890556941827024",
         "3299.742232165608",
         "2592.553192351655",
         "2390.0045075446915",
         "7028.018680736095",
         "9528.427882350212",
         "14756.56046594432",
         "130.21412151811674",
         "5754.838324350891",
         "4640.3497366829415",
         "1496.118795215107",
         "47.31846627538926",
         "5158.087020539207",
         "2413.507752346843",
         "26111.851856227688",
         "34411.32461369074",
         "275.41181604858593",
         "19557.256848830937"
        ],
        [
         "2",
         "CCmxeGSwRDWmbNPuVzqya2",
         "SE",
         "Healthcare",
         "Drug Manufacturers - Specialty & Generic",
         "25.60655637151597",
         "-58.77544923737284",
         "-58.73622710077005",
         "-62.4543590570689",
         "49.03796733990091",
         "45.63447621152272",
         "4.175887951862586",
         "-62.10630134773944",
         "107.1702611719974",
         "-60.73791849110475",
         "70.47177628892948",
         "1.0731656961055742",
         "91.08510893246718",
         "131.1529040269392",
         "0.5137773690288847",
         "70.97815143698654",
         "33.34852312396414",
         "51.049189151106106",
         "37.650187401450616",
         "37.56104740091131",
         "171.84945994307034",
         "5.937710026313109",
         "144.05242100460896",
         "280.39190076863736",
         "51.275581721406986",
         "75.48964685703633",
         "33.31430164616238",
         "50.695096539657925",
         "339.58467642666653",
         "556.0042161345737",
         "80.4649346304699",
         "387.9753797015909",
         "12.853594845337811",
         "-76.21577884210049",
         "-76.21795845609142",
         "-79.56189316586315",
         "43.056140998003514",
         "27.38381404982688",
         "3.818188816455295",
         "-77.9383430903926",
         "104.54904705140083",
         "-76.13468381638044",
         "39.97919497177737",
         "1.65151545945946",
         "87.82081755957897",
         "116.41870900059956",
         "0.5137773663764643",
         "39.788683841402225",
         "35.7934647246366",
         "20.607182702365304",
         "112.87490767309322",
         "112.8843530870916",
         "211.0102904146749",
         "11.728748576514397",
         "47.15869459665608",
         "0.5137773634578425",
         "56.08045816888692",
         "106.04769758378774",
         "36.01205240243441",
         "20.70173314500812",
         "350.8325661169076",
         "575.857809788131",
         "117.22934375283178",
         "364.0935496257047",
         "11.295636812611646",
         "-56.49565594978404",
         "-56.143172184052226",
         "-57.90673055707499",
         "45.9745993156401",
         "16.83625080995454",
         "2.349117025278194",
         "-57.41103577845494",
         "73.92675693695351",
         "-56.496149520400216",
         "27.512170858863087",
         "1.901275321722586",
         "57.24069220002448",
         "84.76743918808047",
         "0.5137773719930865",
         "27.638812174907983",
         "46.50929238351039",
         "17.91143832910607",
         "35.0426933674255",
         "35.03117679717852",
         "129.33257677151872",
         "7.30435487566636",
         "53.273796611630566",
         "0.5137773681305412",
         "58.418614071903605",
         "108.5844969490113",
         "46.445753185338845",
         "18.0285588940757",
         "296.6790326097584",
         "490.8050706294636",
         "115.27881670420578",
         "360.02044368785164",
         "16.88251378317488",
         "-27.54021534081695",
         "-27.54151344655569",
         "-30.04206116927803",
         "40.04322290456967",
         "39.63992657780341",
         "2.943043146451795",
         "-31.429399419376352",
         "68.21580760358293",
         "-27.873087527631323",
         "56.26799369347386",
         "2.279987236649188",
         "54.83094469790838",
         "84.40230982437156",
         "0.5137773697134569",
         "56.16408585548634",
         "43.6276094905084",
         "43.57400939044501",
         "429.3720467656136",
         "427.1353384017232",
         "569.9412533164392",
         "5.868800261278211",
         "94.07716493773292",
         "0.5137773658839254",
         "55.16780895737033",
         "0.5137773679872814",
         "43.60261566529027",
         "43.54707637121709",
         "840.7634093921143",
         "938.3055879218052",
         "5.85928197828551",
         "370.9326401528163"
        ],
        [
         "3",
         "2mwDetR8L6pkGSAXKXAw7o",
         "CA",
         "Basic Materials",
         "Gold",
         "5.3533377266815885",
         "-4.3323561530727615",
         "-4.325633655601064",
         "-12.495114585641176",
         "4.642288191434723",
         "0.5137773641112638",
         "8.760596510356963",
         "-12.569904542921025",
         "5.382996547139932",
         "-4.339245851583536",
         "0.5137773678869013",
         "1.2617825382394698",
         "4.6232743604711475",
         "5.38421812184928",
         "0.5137773632841444",
         "0.5137773691655627",
         "0.5137773662971431",
         "35.575931425753055",
         "29.536552360028512",
         "50.67478656258281",
         "95.77101534464136",
         "10.75891334298626",
         "10.760883528483864",
         "0.5137773638784234",
         "0.5137773711468261",
         "0.5137773694462378",
         "10.750308526215782",
         "35.35714735232165",
         "393.37547117722863",
         "402.8568500341032",
         "10.817207824402272",
         "308.05624501964934",
         "4.405338152701263",
         "-3.3538775830005125",
         "-3.379421108023822",
         "-10.959862573754837",
         "3.650435535124461",
         "0.5137773713911201",
         "8.025051409425284",
         "-10.89450869308537",
         "4.402791513665395",
         "-3.3552346171371927",
         "0.513777366884584",
         "1.2502999492855036",
         "3.6501856137203386",
         "4.387171036912375",
         "0.5137773678246598",
         "0.5137773680984852",
         "9.178981007597134",
         "0.5137773663826878",
         "14.120723949040464",
         "27.44338165837956",
         "86.91065597257415",
         "9.926267800092464",
         "10.008121133779094",
         "0.5137773660326177",
         "0.5137773686454227",
         "0.5137773654855039",
         "9.94496842847422",
         "58.98485926919504",
         "405.79138889320507",
         "413.66854408771786",
         "10.018784749130974",
         "326.8902982262002",
         "4.735499915966887",
         "-3.683841566833887",
         "-3.7175608366120714",
         "5.1544049898196675",
         "3.743386374262098",
         "0.5137773706481329",
         "-8.350160569227278",
         "5.169710760132415",
         "4.706281797406076",
         "-3.709591955332289",
         "0.5137773718858258",
         "1.5000578358803769",
         "3.7374495378568766",
         "4.72486862405249",
         "0.5137773689084082",
         "0.5137773687263429",
         "0.5137773660908003",
         "22.47574641264225",
         "45.060059869266",
         "66.84735921150205",
         "88.94270419878562",
         "9.910081329060306",
         "9.84341995372414",
         "0.5137773649904225",
         "0.5137773713351871",
         "0.5137773702758415",
         "9.893937629107318",
         "22.372536164460847",
         "401.14907552635697",
         "409.2861369765948",
         "9.862075463203848",
         "322.77745214165236",
         "3.9801931946217946",
         "-2.962661209417465",
         "-2.964833896048441",
         "-6.034618596182086",
         "3.073850000245987",
         "0.5137773714027941",
         "3.611932843671449",
         "-6.043242347491724",
         "3.960870800680494",
         "-2.965263913731397",
         "0.5137773639067771",
         "1.4108219447313477",
         "3.088286464563013",
         "3.987873789264917",
         "0.5137773644261515",
         "0.5137773688895749",
         "0.5137773694560724",
         "22.82830911955769",
         "161.58513604824608",
         "178.1558161647326",
         "200.8219301568041",
         "7.2547529083517075",
         "7.266907016046335",
         "0.5137773659772611",
         "0.5137773688179239",
         "0.5137773659731328",
         "7.239455733671022",
         "22.830083322360053",
         "520.2972966165479",
         "525.6401809145717",
         "7.201703197039305",
         "327.9514707350179"
        ],
        [
         "4",
         "XESj5RGnAGZEXTsgacy55D",
         "US",
         "Technology",
         "Computer Hardware",
         "4288.896503594113",
         "-1915.4367669344224",
         "-1336.2132320310438",
         "-1883.617588793874",
         "0.5137773679555163",
         "2941.012810881167",
         "-30.121924575359177",
         "-2104.9519895663193",
         "4830.582171694373",
         "-1901.5143606935696",
         "7201.815428822228",
         "-4343.562366903864",
         "3804.210929667341",
         "9147.407519375609",
         "-30.230054300128774",
         "7239.111443165904",
         "2711.0862514468295",
         "7299.171597691033",
         "4660.098984583476",
         "8255.887258188106",
         "26117.240214365745",
         "291.6562724310771",
         "8939.073226047767",
         "4042.673233001928",
         "8829.619662486824",
         "565.6872450866974",
         "4937.019853104744",
         "7327.142596269668",
         "39534.48148839973",
         "52738.03869752924",
         "859.1518108750353",
         "26614.34304315321",
         "3846.307695555219",
         "252.9341573765999",
         "777.664505093848",
         "291.5919683205803",
         "0.5137773667805065",
         "3102.317876211392",
         "-37.267360955489984",
         "-668.2345729704913",
         "2871.4653002813666",
         "254.22994502281915",
         "6985.5367055228335",
         "-2270.1385922002996",
         "1738.697019893078",
         "6724.25206452718",
         "-37.22227336999174",
         "6992.935819593335",
         "2090.6130950955594",
         "7655.523658864741",
         "3670.3916677228426",
         "7289.668947886159",
         "25095.940623473743",
         "289.2867153637483",
         "7858.375905519725",
         "4447.0713414641805",
         "8571.849312805665",
         "544.9233806782943",
         "3723.8509531447817",
         "7683.063750760189",
         "39303.91824658043",
         "50677.68082170296",
         "837.0832639654648",
         "25684.105557161987",
         "3585.394476896683",
         "-1091.6320874159123",
         "-543.9005140802323",
         "-1038.2702955370924",
         "0.5137773661793015",
         "2850.2166371392955",
         "-53.799945456554106",
         "-1159.763955662383",
         "3959.5031814483114",
         "-1093.5819270373586",
         "6427.661459370093",
         "-3422.902766964994",
         "2877.7460641083203",
         "7521.111684767734",
         "-53.84801843106969",
         "6410.792759692089",
         "1682.693483795391",
         "6935.021203126894",
         "4070.285706976604",
         "7158.767347364242",
         "24113.759075005793",
         "264.42121560064663",
         "7517.674604430863",
         "4404.878862346196",
         "8691.618503349766",
         "509.516857400469",
         "3143.697550359506",
         "6899.169765807059",
         "38688.67907803861",
         "49207.90051864915",
         "772.8328310981972",
         "24902.679434968384",
         "3445.6116753005026",
         "-1167.4400557507024",
         "-645.5592077446233",
         "-1193.1850688862994",
         "0.5137773676896076",
         "2710.4051173201933",
         "32.80450309421714",
         "-1143.8409148787257",
         "3856.2798860617695",
         "-1163.2474774082266",
         "6140.329969787706",
         "-3238.321794687792",
         "2719.575324721828",
         "7341.87523430446",
         "32.975605426966894",
         "6175.434000081517",
         "2200.9482149044784",
         "6700.1586419833",
         "3174.953880553104",
         "6709.244111777639",
         "23376.458006998295",
         "266.8476837533571",
         "7381.716840208915",
         "4407.75087058304",
         "8772.202299403425",
         "528.2692678450353",
         "3629.511427403327",
         "6730.917023192091",
         "37884.22775058105",
         "48263.64616983376",
         "794.8252920012633",
         "25006.612918584724"
        ]
       ],
       "shape": {
        "columns": 132,
        "rows": 5
       }
      },
      "text/html": [
       "<div>\n",
       "<style scoped>\n",
       "    .dataframe tbody tr th:only-of-type {\n",
       "        vertical-align: middle;\n",
       "    }\n",
       "\n",
       "    .dataframe tbody tr th {\n",
       "        vertical-align: top;\n",
       "    }\n",
       "\n",
       "    .dataframe thead th {\n",
       "        text-align: right;\n",
       "    }\n",
       "</style>\n",
       "<table border=\"1\" class=\"dataframe\">\n",
       "  <thead>\n",
       "    <tr style=\"text-align: right;\">\n",
       "      <th></th>\n",
       "      <th>company_id</th>\n",
       "      <th>country_code</th>\n",
       "      <th>sector</th>\n",
       "      <th>industry</th>\n",
       "      <th>Q4_feature_1</th>\n",
       "      <th>Q4_feature_2</th>\n",
       "      <th>Q4_feature_3</th>\n",
       "      <th>Q4_feature_4</th>\n",
       "      <th>Q4_feature_5</th>\n",
       "      <th>Q4_feature_6</th>\n",
       "      <th>...</th>\n",
       "      <th>Q1_feature_23</th>\n",
       "      <th>Q1_feature_24</th>\n",
       "      <th>Q1_feature_25</th>\n",
       "      <th>Q1_feature_26</th>\n",
       "      <th>Q1_feature_27</th>\n",
       "      <th>Q1_feature_28</th>\n",
       "      <th>Q1_feature_29</th>\n",
       "      <th>Q1_feature_30</th>\n",
       "      <th>Q1_feature_31</th>\n",
       "      <th>Q1_feature_32</th>\n",
       "    </tr>\n",
       "  </thead>\n",
       "  <tbody>\n",
       "    <tr>\n",
       "      <th>0</th>\n",
       "      <td>nYVQRtTxDB3EaeaD98BuKu</td>\n",
       "      <td>CN</td>\n",
       "      <td>Real Estate</td>\n",
       "      <td>Real Estate - Development</td>\n",
       "      <td>1765.480403</td>\n",
       "      <td>239.770275</td>\n",
       "      <td>240.021202</td>\n",
       "      <td>14.165341</td>\n",
       "      <td>809.387895</td>\n",
       "      <td>484.444817</td>\n",
       "      <td>...</td>\n",
       "      <td>10849.537197</td>\n",
       "      <td>0.513777</td>\n",
       "      <td>404.894598</td>\n",
       "      <td>453.264525</td>\n",
       "      <td>9055.696340</td>\n",
       "      <td>2202.184254</td>\n",
       "      <td>2674.294860</td>\n",
       "      <td>14393.208305</td>\n",
       "      <td>1243.012346</td>\n",
       "      <td>2550.561774</td>\n",
       "    </tr>\n",
       "    <tr>\n",
       "      <th>1</th>\n",
       "      <td>hH9tnYKK4W8WEabfHh9H8U</td>\n",
       "      <td>CN</td>\n",
       "      <td>Healthcare</td>\n",
       "      <td>Medical Devices</td>\n",
       "      <td>1731.733563</td>\n",
       "      <td>521.355546</td>\n",
       "      <td>522.461691</td>\n",
       "      <td>516.979559</td>\n",
       "      <td>713.358055</td>\n",
       "      <td>1663.434330</td>\n",
       "      <td>...</td>\n",
       "      <td>5754.838324</td>\n",
       "      <td>4640.349737</td>\n",
       "      <td>1496.118795</td>\n",
       "      <td>47.318466</td>\n",
       "      <td>5158.087021</td>\n",
       "      <td>2413.507752</td>\n",
       "      <td>26111.851856</td>\n",
       "      <td>34411.324614</td>\n",
       "      <td>275.411816</td>\n",
       "      <td>19557.256849</td>\n",
       "    </tr>\n",
       "    <tr>\n",
       "      <th>2</th>\n",
       "      <td>CCmxeGSwRDWmbNPuVzqya2</td>\n",
       "      <td>SE</td>\n",
       "      <td>Healthcare</td>\n",
       "      <td>Drug Manufacturers - Specialty &amp; Generic</td>\n",
       "      <td>25.606556</td>\n",
       "      <td>-58.775449</td>\n",
       "      <td>-58.736227</td>\n",
       "      <td>-62.454359</td>\n",
       "      <td>49.037967</td>\n",
       "      <td>45.634476</td>\n",
       "      <td>...</td>\n",
       "      <td>94.077165</td>\n",
       "      <td>0.513777</td>\n",
       "      <td>55.167809</td>\n",
       "      <td>0.513777</td>\n",
       "      <td>43.602616</td>\n",
       "      <td>43.547076</td>\n",
       "      <td>840.763409</td>\n",
       "      <td>938.305588</td>\n",
       "      <td>5.859282</td>\n",
       "      <td>370.932640</td>\n",
       "    </tr>\n",
       "    <tr>\n",
       "      <th>3</th>\n",
       "      <td>2mwDetR8L6pkGSAXKXAw7o</td>\n",
       "      <td>CA</td>\n",
       "      <td>Basic Materials</td>\n",
       "      <td>Gold</td>\n",
       "      <td>5.353338</td>\n",
       "      <td>-4.332356</td>\n",
       "      <td>-4.325634</td>\n",
       "      <td>-12.495115</td>\n",
       "      <td>4.642288</td>\n",
       "      <td>0.513777</td>\n",
       "      <td>...</td>\n",
       "      <td>7.266907</td>\n",
       "      <td>0.513777</td>\n",
       "      <td>0.513777</td>\n",
       "      <td>0.513777</td>\n",
       "      <td>7.239456</td>\n",
       "      <td>22.830083</td>\n",
       "      <td>520.297297</td>\n",
       "      <td>525.640181</td>\n",
       "      <td>7.201703</td>\n",
       "      <td>327.951471</td>\n",
       "    </tr>\n",
       "    <tr>\n",
       "      <th>4</th>\n",
       "      <td>XESj5RGnAGZEXTsgacy55D</td>\n",
       "      <td>US</td>\n",
       "      <td>Technology</td>\n",
       "      <td>Computer Hardware</td>\n",
       "      <td>4288.896504</td>\n",
       "      <td>-1915.436767</td>\n",
       "      <td>-1336.213232</td>\n",
       "      <td>-1883.617589</td>\n",
       "      <td>0.513777</td>\n",
       "      <td>2941.012811</td>\n",
       "      <td>...</td>\n",
       "      <td>7381.716840</td>\n",
       "      <td>4407.750871</td>\n",
       "      <td>8772.202299</td>\n",
       "      <td>528.269268</td>\n",
       "      <td>3629.511427</td>\n",
       "      <td>6730.917023</td>\n",
       "      <td>37884.227751</td>\n",
       "      <td>48263.646170</td>\n",
       "      <td>794.825292</td>\n",
       "      <td>25006.612919</td>\n",
       "    </tr>\n",
       "  </tbody>\n",
       "</table>\n",
       "<p>5 rows × 132 columns</p>\n",
       "</div>"
      ],
      "text/plain": [
       "               company_id country_code           sector  \\\n",
       "0  nYVQRtTxDB3EaeaD98BuKu           CN      Real Estate   \n",
       "1  hH9tnYKK4W8WEabfHh9H8U           CN       Healthcare   \n",
       "2  CCmxeGSwRDWmbNPuVzqya2           SE       Healthcare   \n",
       "3  2mwDetR8L6pkGSAXKXAw7o           CA  Basic Materials   \n",
       "4  XESj5RGnAGZEXTsgacy55D           US       Technology   \n",
       "\n",
       "                                   industry  Q4_feature_1  Q4_feature_2  \\\n",
       "0                 Real Estate - Development   1765.480403    239.770275   \n",
       "1                           Medical Devices   1731.733563    521.355546   \n",
       "2  Drug Manufacturers - Specialty & Generic     25.606556    -58.775449   \n",
       "3                                      Gold      5.353338     -4.332356   \n",
       "4                         Computer Hardware   4288.896504  -1915.436767   \n",
       "\n",
       "   Q4_feature_3  Q4_feature_4  Q4_feature_5  Q4_feature_6  ...  Q1_feature_23  \\\n",
       "0    240.021202     14.165341    809.387895    484.444817  ...   10849.537197   \n",
       "1    522.461691    516.979559    713.358055   1663.434330  ...    5754.838324   \n",
       "2    -58.736227    -62.454359     49.037967     45.634476  ...      94.077165   \n",
       "3     -4.325634    -12.495115      4.642288      0.513777  ...       7.266907   \n",
       "4  -1336.213232  -1883.617589      0.513777   2941.012811  ...    7381.716840   \n",
       "\n",
       "   Q1_feature_24  Q1_feature_25  Q1_feature_26  Q1_feature_27  Q1_feature_28  \\\n",
       "0       0.513777     404.894598     453.264525    9055.696340    2202.184254   \n",
       "1    4640.349737    1496.118795      47.318466    5158.087021    2413.507752   \n",
       "2       0.513777      55.167809       0.513777      43.602616      43.547076   \n",
       "3       0.513777       0.513777       0.513777       7.239456      22.830083   \n",
       "4    4407.750871    8772.202299     528.269268    3629.511427    6730.917023   \n",
       "\n",
       "   Q1_feature_29  Q1_feature_30  Q1_feature_31  Q1_feature_32  \n",
       "0    2674.294860   14393.208305    1243.012346    2550.561774  \n",
       "1   26111.851856   34411.324614     275.411816   19557.256849  \n",
       "2     840.763409     938.305588       5.859282     370.932640  \n",
       "3     520.297297     525.640181       7.201703     327.951471  \n",
       "4   37884.227751   48263.646170     794.825292   25006.612919  \n",
       "\n",
       "[5 rows x 132 columns]"
      ]
     },
     "execution_count": 9,
     "metadata": {},
     "output_type": "execute_result"
    }
   ],
   "source": [
    "X_train.head()"
   ]
  },
  {
   "cell_type": "markdown",
   "metadata": {},
   "source": [
    "## Checking Categorical Columns"
   ]
  },
  {
   "cell_type": "code",
   "execution_count": 6,
   "metadata": {},
   "outputs": [
    {
     "name": "stdout",
     "output_type": "stream",
     "text": [
      "['company_id', 'country_code', 'sector', 'industry']\n"
     ]
    }
   ],
   "source": [
    "cat_cols = X_train.select_dtypes(include='object').columns.tolist()\n",
    "print(cat_cols)"
   ]
  },
  {
   "cell_type": "code",
   "execution_count": 7,
   "metadata": {},
   "outputs": [
    {
     "data": {
      "text/plain": [
       "country_code     80\n",
       "sector           11\n",
       "industry        137\n",
       "dtype: int64"
      ]
     },
     "execution_count": 7,
     "metadata": {},
     "output_type": "execute_result"
    }
   ],
   "source": [
    "# Check the number of unique values in the categorical columns\n",
    "X_train[cat_cols[1:]].nunique()"
   ]
  },
  {
   "cell_type": "markdown",
   "metadata": {},
   "source": [
    "# Process data"
   ]
  },
  {
   "cell_type": "code",
   "execution_count": null,
   "metadata": {},
   "outputs": [],
   "source": [
    "# Combine training and test data for consistent encoding\n",
    "data = pd.concat([X_train, X_forward_looking], axis=0)"
   ]
  },
  {
   "cell_type": "markdown",
   "metadata": {},
   "source": [
    "## Encode categorical variables"
   ]
  },
  {
   "cell_type": "code",
   "execution_count": 20,
   "metadata": {},
   "outputs": [],
   "source": [
    "# Encode categorical columns using LabelEncoder\n",
    "for col in cat_cols:\n",
    "    data[col] = LabelEncoder().fit_transform(data[col])"
   ]
  },
  {
   "cell_type": "markdown",
   "metadata": {},
   "source": [
    "There are multiple ways to encode categoric variables and they should be selected given the model you will be using and the nature of the data.\n",
    "\n",
    "Tree-based models can take advantage of any kind of encoding, while for linear models `LabelEncoder` might not be a viable option because it makes the categories ordinal.\n",
    "\n",
    "Try implementing:\n",
    "- one-hot-encoding\n",
    "- label-encoding\n",
    "- frequency-encoding\n",
    "- mean-target-encoding\n",
    "\n",
    "to find the best option for your model."
   ]
  },
  {
   "cell_type": "markdown",
   "metadata": {},
   "source": [
    "## Handling Missing Values"
   ]
  },
  {
   "cell_type": "markdown",
   "metadata": {},
   "source": [
    "### Define Function"
   ]
  },
  {
   "cell_type": "code",
   "execution_count": 21,
   "metadata": {},
   "outputs": [],
   "source": [
    "def fill_missing_with_mean(df):\n",
    "    \"\"\"\n",
    "    Fill missing values with the mean of each column.\n",
    "    \"\"\"\n",
    "    for col in df.columns:\n",
    "        if df[col].isnull().any():\n",
    "            df[col] = df[col].fillna(df[col].mean())\n",
    "    return df"
   ]
  },
  {
   "cell_type": "markdown",
   "metadata": {},
   "source": [
    "Keep in mind that there are multiple ways to deal with NaNs. We have chosen the simplest one for this tutorial."
   ]
  },
  {
   "cell_type": "markdown",
   "metadata": {},
   "source": [
    "### Apply Function to Datasets"
   ]
  },
  {
   "cell_type": "code",
   "execution_count": 22,
   "metadata": {},
   "outputs": [],
   "source": [
    "data = fill_missing_with_mean(data)\n"
   ]
  },
  {
   "cell_type": "code",
   "execution_count": 23,
   "metadata": {},
   "outputs": [],
   "source": [
    "# drop columns with all missing (sometimes that happens)\n",
    "for col in data:\n",
    "    if data[col].isnull().all():\n",
    "        print(col)\n",
    "        data.drop(col, axis=1, inplace=True)"
   ]
  },
  {
   "cell_type": "markdown",
   "metadata": {},
   "source": [
    "Missing values imputation is a tricky process. While replacing NaNs with mean of the column technically makes your dataset for modeling, it might populate your *ground truth* training data with a lot of faulty values. In many cases mean of the column will not be a right choice.\n",
    "\n",
    "Consider:\n",
    "- median\n",
    "- mode\n",
    "- KNN imputer\n",
    "- verstack.NaNImputer\n",
    "- etc."
   ]
  },
  {
   "cell_type": "code",
   "execution_count": 160,
   "metadata": {},
   "outputs": [],
   "source": [
    "# Split data back into training and test sets\n",
    "X_train = data[:X_train.shape[0]]\n",
    "X_forward_looking = data[X_train.shape[0]:]"
   ]
  },
  {
   "cell_type": "markdown",
   "metadata": {},
   "source": [
    "## Dropping `company_id`"
   ]
  },
  {
   "cell_type": "code",
   "execution_count": null,
   "metadata": {},
   "outputs": [],
   "source": [
    "X_train = X_train.drop('company_id', axis=1)\n",
    "X_forward_looking = X_forward_looking.drop('company_id', axis=1)\n",
    "targets_train = targets_train.drop('company_id', axis=1)\n",
    "# macro_train = macro_train.drop('company_id', axis=1)\n",
    "# macro_forward_looking = macro_forward_looking.drop('company_id', axis=1)"
   ]
  },
  {
   "cell_type": "markdown",
   "metadata": {},
   "source": [
    "## Training"
   ]
  },
  {
   "cell_type": "markdown",
   "metadata": {},
   "source": [
    "### Example Hyperparameters"
   ]
  },
  {
   "cell_type": "code",
   "execution_count": 162,
   "metadata": {},
   "outputs": [],
   "source": [
    "# define starter parameters for LGBMRegressor\n",
    "params = {\n",
    "    'learning_rate': 0.01,\n",
    "    'num_leaves': 250,\n",
    "    'feature_fraction': 0.5,\n",
    "    'bagging_fraction': 0.9,\n",
    "    'verbosity': -1,\n",
    "    'random_state': 42,\n",
    "    'device_type': 'cpu',\n",
    "    'objective': 'regression',\n",
    "    'metric': 'l2',\n",
    "    'num_threads': 10,\n",
    "    'lambda_l1': 0.5,\n",
    "    'n_estimators': 100\n",
    "    }"
   ]
  },
  {
   "cell_type": "markdown",
   "metadata": {},
   "source": [
    "### Train the Model"
   ]
  },
  {
   "cell_type": "markdown",
   "metadata": {},
   "source": [
    "We will use the same type of model with fixed parameters to predict each of the 17 targets. `sklearn.multioutput.MultiOutputRegressor` will simplify our code and rather than producing code to train 17 independent models, we can use `MultiOutputRegressor` to do it for us in a convenient sklearn-style one-liner."
   ]
  },
  {
   "cell_type": "markdown",
   "metadata": {},
   "source": [
    "But remember, each target, even though it represents financial indicators from one company and one time-period, may have different dependencies and even may require different types of models. So try different strategies to improve your score."
   ]
  },
  {
   "cell_type": "markdown",
   "metadata": {},
   "source": []
  },
  {
   "cell_type": "code",
   "execution_count": 163,
   "metadata": {},
   "outputs": [
    {
     "data": {
      "text/html": [
       "<style>#sk-container-id-3 {\n",
       "  /* Definition of color scheme common for light and dark mode */\n",
       "  --sklearn-color-text: black;\n",
       "  --sklearn-color-line: gray;\n",
       "  /* Definition of color scheme for unfitted estimators */\n",
       "  --sklearn-color-unfitted-level-0: #fff5e6;\n",
       "  --sklearn-color-unfitted-level-1: #f6e4d2;\n",
       "  --sklearn-color-unfitted-level-2: #ffe0b3;\n",
       "  --sklearn-color-unfitted-level-3: chocolate;\n",
       "  /* Definition of color scheme for fitted estimators */\n",
       "  --sklearn-color-fitted-level-0: #f0f8ff;\n",
       "  --sklearn-color-fitted-level-1: #d4ebff;\n",
       "  --sklearn-color-fitted-level-2: #b3dbfd;\n",
       "  --sklearn-color-fitted-level-3: cornflowerblue;\n",
       "\n",
       "  /* Specific color for light theme */\n",
       "  --sklearn-color-text-on-default-background: var(--sg-text-color, var(--theme-code-foreground, var(--jp-content-font-color1, black)));\n",
       "  --sklearn-color-background: var(--sg-background-color, var(--theme-background, var(--jp-layout-color0, white)));\n",
       "  --sklearn-color-border-box: var(--sg-text-color, var(--theme-code-foreground, var(--jp-content-font-color1, black)));\n",
       "  --sklearn-color-icon: #696969;\n",
       "\n",
       "  @media (prefers-color-scheme: dark) {\n",
       "    /* Redefinition of color scheme for dark theme */\n",
       "    --sklearn-color-text-on-default-background: var(--sg-text-color, var(--theme-code-foreground, var(--jp-content-font-color1, white)));\n",
       "    --sklearn-color-background: var(--sg-background-color, var(--theme-background, var(--jp-layout-color0, #111)));\n",
       "    --sklearn-color-border-box: var(--sg-text-color, var(--theme-code-foreground, var(--jp-content-font-color1, white)));\n",
       "    --sklearn-color-icon: #878787;\n",
       "  }\n",
       "}\n",
       "\n",
       "#sk-container-id-3 {\n",
       "  color: var(--sklearn-color-text);\n",
       "}\n",
       "\n",
       "#sk-container-id-3 pre {\n",
       "  padding: 0;\n",
       "}\n",
       "\n",
       "#sk-container-id-3 input.sk-hidden--visually {\n",
       "  border: 0;\n",
       "  clip: rect(1px 1px 1px 1px);\n",
       "  clip: rect(1px, 1px, 1px, 1px);\n",
       "  height: 1px;\n",
       "  margin: -1px;\n",
       "  overflow: hidden;\n",
       "  padding: 0;\n",
       "  position: absolute;\n",
       "  width: 1px;\n",
       "}\n",
       "\n",
       "#sk-container-id-3 div.sk-dashed-wrapped {\n",
       "  border: 1px dashed var(--sklearn-color-line);\n",
       "  margin: 0 0.4em 0.5em 0.4em;\n",
       "  box-sizing: border-box;\n",
       "  padding-bottom: 0.4em;\n",
       "  background-color: var(--sklearn-color-background);\n",
       "}\n",
       "\n",
       "#sk-container-id-3 div.sk-container {\n",
       "  /* jupyter's `normalize.less` sets `[hidden] { display: none; }`\n",
       "     but bootstrap.min.css set `[hidden] { display: none !important; }`\n",
       "     so we also need the `!important` here to be able to override the\n",
       "     default hidden behavior on the sphinx rendered scikit-learn.org.\n",
       "     See: https://github.com/scikit-learn/scikit-learn/issues/21755 */\n",
       "  display: inline-block !important;\n",
       "  position: relative;\n",
       "}\n",
       "\n",
       "#sk-container-id-3 div.sk-text-repr-fallback {\n",
       "  display: none;\n",
       "}\n",
       "\n",
       "div.sk-parallel-item,\n",
       "div.sk-serial,\n",
       "div.sk-item {\n",
       "  /* draw centered vertical line to link estimators */\n",
       "  background-image: linear-gradient(var(--sklearn-color-text-on-default-background), var(--sklearn-color-text-on-default-background));\n",
       "  background-size: 2px 100%;\n",
       "  background-repeat: no-repeat;\n",
       "  background-position: center center;\n",
       "}\n",
       "\n",
       "/* Parallel-specific style estimator block */\n",
       "\n",
       "#sk-container-id-3 div.sk-parallel-item::after {\n",
       "  content: \"\";\n",
       "  width: 100%;\n",
       "  border-bottom: 2px solid var(--sklearn-color-text-on-default-background);\n",
       "  flex-grow: 1;\n",
       "}\n",
       "\n",
       "#sk-container-id-3 div.sk-parallel {\n",
       "  display: flex;\n",
       "  align-items: stretch;\n",
       "  justify-content: center;\n",
       "  background-color: var(--sklearn-color-background);\n",
       "  position: relative;\n",
       "}\n",
       "\n",
       "#sk-container-id-3 div.sk-parallel-item {\n",
       "  display: flex;\n",
       "  flex-direction: column;\n",
       "}\n",
       "\n",
       "#sk-container-id-3 div.sk-parallel-item:first-child::after {\n",
       "  align-self: flex-end;\n",
       "  width: 50%;\n",
       "}\n",
       "\n",
       "#sk-container-id-3 div.sk-parallel-item:last-child::after {\n",
       "  align-self: flex-start;\n",
       "  width: 50%;\n",
       "}\n",
       "\n",
       "#sk-container-id-3 div.sk-parallel-item:only-child::after {\n",
       "  width: 0;\n",
       "}\n",
       "\n",
       "/* Serial-specific style estimator block */\n",
       "\n",
       "#sk-container-id-3 div.sk-serial {\n",
       "  display: flex;\n",
       "  flex-direction: column;\n",
       "  align-items: center;\n",
       "  background-color: var(--sklearn-color-background);\n",
       "  padding-right: 1em;\n",
       "  padding-left: 1em;\n",
       "}\n",
       "\n",
       "\n",
       "/* Toggleable style: style used for estimator/Pipeline/ColumnTransformer box that is\n",
       "clickable and can be expanded/collapsed.\n",
       "- Pipeline and ColumnTransformer use this feature and define the default style\n",
       "- Estimators will overwrite some part of the style using the `sk-estimator` class\n",
       "*/\n",
       "\n",
       "/* Pipeline and ColumnTransformer style (default) */\n",
       "\n",
       "#sk-container-id-3 div.sk-toggleable {\n",
       "  /* Default theme specific background. It is overwritten whether we have a\n",
       "  specific estimator or a Pipeline/ColumnTransformer */\n",
       "  background-color: var(--sklearn-color-background);\n",
       "}\n",
       "\n",
       "/* Toggleable label */\n",
       "#sk-container-id-3 label.sk-toggleable__label {\n",
       "  cursor: pointer;\n",
       "  display: block;\n",
       "  width: 100%;\n",
       "  margin-bottom: 0;\n",
       "  padding: 0.5em;\n",
       "  box-sizing: border-box;\n",
       "  text-align: center;\n",
       "}\n",
       "\n",
       "#sk-container-id-3 label.sk-toggleable__label-arrow:before {\n",
       "  /* Arrow on the left of the label */\n",
       "  content: \"▸\";\n",
       "  float: left;\n",
       "  margin-right: 0.25em;\n",
       "  color: var(--sklearn-color-icon);\n",
       "}\n",
       "\n",
       "#sk-container-id-3 label.sk-toggleable__label-arrow:hover:before {\n",
       "  color: var(--sklearn-color-text);\n",
       "}\n",
       "\n",
       "/* Toggleable content - dropdown */\n",
       "\n",
       "#sk-container-id-3 div.sk-toggleable__content {\n",
       "  max-height: 0;\n",
       "  max-width: 0;\n",
       "  overflow: hidden;\n",
       "  text-align: left;\n",
       "  /* unfitted */\n",
       "  background-color: var(--sklearn-color-unfitted-level-0);\n",
       "}\n",
       "\n",
       "#sk-container-id-3 div.sk-toggleable__content.fitted {\n",
       "  /* fitted */\n",
       "  background-color: var(--sklearn-color-fitted-level-0);\n",
       "}\n",
       "\n",
       "#sk-container-id-3 div.sk-toggleable__content pre {\n",
       "  margin: 0.2em;\n",
       "  border-radius: 0.25em;\n",
       "  color: var(--sklearn-color-text);\n",
       "  /* unfitted */\n",
       "  background-color: var(--sklearn-color-unfitted-level-0);\n",
       "}\n",
       "\n",
       "#sk-container-id-3 div.sk-toggleable__content.fitted pre {\n",
       "  /* unfitted */\n",
       "  background-color: var(--sklearn-color-fitted-level-0);\n",
       "}\n",
       "\n",
       "#sk-container-id-3 input.sk-toggleable__control:checked~div.sk-toggleable__content {\n",
       "  /* Expand drop-down */\n",
       "  max-height: 200px;\n",
       "  max-width: 100%;\n",
       "  overflow: auto;\n",
       "}\n",
       "\n",
       "#sk-container-id-3 input.sk-toggleable__control:checked~label.sk-toggleable__label-arrow:before {\n",
       "  content: \"▾\";\n",
       "}\n",
       "\n",
       "/* Pipeline/ColumnTransformer-specific style */\n",
       "\n",
       "#sk-container-id-3 div.sk-label input.sk-toggleable__control:checked~label.sk-toggleable__label {\n",
       "  color: var(--sklearn-color-text);\n",
       "  background-color: var(--sklearn-color-unfitted-level-2);\n",
       "}\n",
       "\n",
       "#sk-container-id-3 div.sk-label.fitted input.sk-toggleable__control:checked~label.sk-toggleable__label {\n",
       "  background-color: var(--sklearn-color-fitted-level-2);\n",
       "}\n",
       "\n",
       "/* Estimator-specific style */\n",
       "\n",
       "/* Colorize estimator box */\n",
       "#sk-container-id-3 div.sk-estimator input.sk-toggleable__control:checked~label.sk-toggleable__label {\n",
       "  /* unfitted */\n",
       "  background-color: var(--sklearn-color-unfitted-level-2);\n",
       "}\n",
       "\n",
       "#sk-container-id-3 div.sk-estimator.fitted input.sk-toggleable__control:checked~label.sk-toggleable__label {\n",
       "  /* fitted */\n",
       "  background-color: var(--sklearn-color-fitted-level-2);\n",
       "}\n",
       "\n",
       "#sk-container-id-3 div.sk-label label.sk-toggleable__label,\n",
       "#sk-container-id-3 div.sk-label label {\n",
       "  /* The background is the default theme color */\n",
       "  color: var(--sklearn-color-text-on-default-background);\n",
       "}\n",
       "\n",
       "/* On hover, darken the color of the background */\n",
       "#sk-container-id-3 div.sk-label:hover label.sk-toggleable__label {\n",
       "  color: var(--sklearn-color-text);\n",
       "  background-color: var(--sklearn-color-unfitted-level-2);\n",
       "}\n",
       "\n",
       "/* Label box, darken color on hover, fitted */\n",
       "#sk-container-id-3 div.sk-label.fitted:hover label.sk-toggleable__label.fitted {\n",
       "  color: var(--sklearn-color-text);\n",
       "  background-color: var(--sklearn-color-fitted-level-2);\n",
       "}\n",
       "\n",
       "/* Estimator label */\n",
       "\n",
       "#sk-container-id-3 div.sk-label label {\n",
       "  font-family: monospace;\n",
       "  font-weight: bold;\n",
       "  display: inline-block;\n",
       "  line-height: 1.2em;\n",
       "}\n",
       "\n",
       "#sk-container-id-3 div.sk-label-container {\n",
       "  text-align: center;\n",
       "}\n",
       "\n",
       "/* Estimator-specific */\n",
       "#sk-container-id-3 div.sk-estimator {\n",
       "  font-family: monospace;\n",
       "  border: 1px dotted var(--sklearn-color-border-box);\n",
       "  border-radius: 0.25em;\n",
       "  box-sizing: border-box;\n",
       "  margin-bottom: 0.5em;\n",
       "  /* unfitted */\n",
       "  background-color: var(--sklearn-color-unfitted-level-0);\n",
       "}\n",
       "\n",
       "#sk-container-id-3 div.sk-estimator.fitted {\n",
       "  /* fitted */\n",
       "  background-color: var(--sklearn-color-fitted-level-0);\n",
       "}\n",
       "\n",
       "/* on hover */\n",
       "#sk-container-id-3 div.sk-estimator:hover {\n",
       "  /* unfitted */\n",
       "  background-color: var(--sklearn-color-unfitted-level-2);\n",
       "}\n",
       "\n",
       "#sk-container-id-3 div.sk-estimator.fitted:hover {\n",
       "  /* fitted */\n",
       "  background-color: var(--sklearn-color-fitted-level-2);\n",
       "}\n",
       "\n",
       "/* Specification for estimator info (e.g. \"i\" and \"?\") */\n",
       "\n",
       "/* Common style for \"i\" and \"?\" */\n",
       "\n",
       ".sk-estimator-doc-link,\n",
       "a:link.sk-estimator-doc-link,\n",
       "a:visited.sk-estimator-doc-link {\n",
       "  float: right;\n",
       "  font-size: smaller;\n",
       "  line-height: 1em;\n",
       "  font-family: monospace;\n",
       "  background-color: var(--sklearn-color-background);\n",
       "  border-radius: 1em;\n",
       "  height: 1em;\n",
       "  width: 1em;\n",
       "  text-decoration: none !important;\n",
       "  margin-left: 1ex;\n",
       "  /* unfitted */\n",
       "  border: var(--sklearn-color-unfitted-level-1) 1pt solid;\n",
       "  color: var(--sklearn-color-unfitted-level-1);\n",
       "}\n",
       "\n",
       ".sk-estimator-doc-link.fitted,\n",
       "a:link.sk-estimator-doc-link.fitted,\n",
       "a:visited.sk-estimator-doc-link.fitted {\n",
       "  /* fitted */\n",
       "  border: var(--sklearn-color-fitted-level-1) 1pt solid;\n",
       "  color: var(--sklearn-color-fitted-level-1);\n",
       "}\n",
       "\n",
       "/* On hover */\n",
       "div.sk-estimator:hover .sk-estimator-doc-link:hover,\n",
       ".sk-estimator-doc-link:hover,\n",
       "div.sk-label-container:hover .sk-estimator-doc-link:hover,\n",
       ".sk-estimator-doc-link:hover {\n",
       "  /* unfitted */\n",
       "  background-color: var(--sklearn-color-unfitted-level-3);\n",
       "  color: var(--sklearn-color-background);\n",
       "  text-decoration: none;\n",
       "}\n",
       "\n",
       "div.sk-estimator.fitted:hover .sk-estimator-doc-link.fitted:hover,\n",
       ".sk-estimator-doc-link.fitted:hover,\n",
       "div.sk-label-container:hover .sk-estimator-doc-link.fitted:hover,\n",
       ".sk-estimator-doc-link.fitted:hover {\n",
       "  /* fitted */\n",
       "  background-color: var(--sklearn-color-fitted-level-3);\n",
       "  color: var(--sklearn-color-background);\n",
       "  text-decoration: none;\n",
       "}\n",
       "\n",
       "/* Span, style for the box shown on hovering the info icon */\n",
       ".sk-estimator-doc-link span {\n",
       "  display: none;\n",
       "  z-index: 9999;\n",
       "  position: relative;\n",
       "  font-weight: normal;\n",
       "  right: .2ex;\n",
       "  padding: .5ex;\n",
       "  margin: .5ex;\n",
       "  width: min-content;\n",
       "  min-width: 20ex;\n",
       "  max-width: 50ex;\n",
       "  color: var(--sklearn-color-text);\n",
       "  box-shadow: 2pt 2pt 4pt #999;\n",
       "  /* unfitted */\n",
       "  background: var(--sklearn-color-unfitted-level-0);\n",
       "  border: .5pt solid var(--sklearn-color-unfitted-level-3);\n",
       "}\n",
       "\n",
       ".sk-estimator-doc-link.fitted span {\n",
       "  /* fitted */\n",
       "  background: var(--sklearn-color-fitted-level-0);\n",
       "  border: var(--sklearn-color-fitted-level-3);\n",
       "}\n",
       "\n",
       ".sk-estimator-doc-link:hover span {\n",
       "  display: block;\n",
       "}\n",
       "\n",
       "/* \"?\"-specific style due to the `<a>` HTML tag */\n",
       "\n",
       "#sk-container-id-3 a.estimator_doc_link {\n",
       "  float: right;\n",
       "  font-size: 1rem;\n",
       "  line-height: 1em;\n",
       "  font-family: monospace;\n",
       "  background-color: var(--sklearn-color-background);\n",
       "  border-radius: 1rem;\n",
       "  height: 1rem;\n",
       "  width: 1rem;\n",
       "  text-decoration: none;\n",
       "  /* unfitted */\n",
       "  color: var(--sklearn-color-unfitted-level-1);\n",
       "  border: var(--sklearn-color-unfitted-level-1) 1pt solid;\n",
       "}\n",
       "\n",
       "#sk-container-id-3 a.estimator_doc_link.fitted {\n",
       "  /* fitted */\n",
       "  border: var(--sklearn-color-fitted-level-1) 1pt solid;\n",
       "  color: var(--sklearn-color-fitted-level-1);\n",
       "}\n",
       "\n",
       "/* On hover */\n",
       "#sk-container-id-3 a.estimator_doc_link:hover {\n",
       "  /* unfitted */\n",
       "  background-color: var(--sklearn-color-unfitted-level-3);\n",
       "  color: var(--sklearn-color-background);\n",
       "  text-decoration: none;\n",
       "}\n",
       "\n",
       "#sk-container-id-3 a.estimator_doc_link.fitted:hover {\n",
       "  /* fitted */\n",
       "  background-color: var(--sklearn-color-fitted-level-3);\n",
       "}\n",
       "</style><div id=\"sk-container-id-3\" class=\"sk-top-container\"><div class=\"sk-text-repr-fallback\"><pre>MultiOutputRegressor(estimator=LGBMRegressor(bagging_fraction=0.9,\n",
       "                                             device_type=&#x27;cpu&#x27;,\n",
       "                                             feature_fraction=0.5,\n",
       "                                             lambda_l1=0.5, learning_rate=0.01,\n",
       "                                             metric=&#x27;l2&#x27;, num_leaves=250,\n",
       "                                             num_threads=10,\n",
       "                                             objective=&#x27;regression&#x27;,\n",
       "                                             random_state=42, verbosity=-1))</pre><b>In a Jupyter environment, please rerun this cell to show the HTML representation or trust the notebook. <br />On GitHub, the HTML representation is unable to render, please try loading this page with nbviewer.org.</b></div><div class=\"sk-container\" hidden><div class=\"sk-item sk-dashed-wrapped\"><div class=\"sk-label-container\"><div class=\"sk-label fitted sk-toggleable\"><input class=\"sk-toggleable__control sk-hidden--visually\" id=\"sk-estimator-id-7\" type=\"checkbox\" ><label for=\"sk-estimator-id-7\" class=\"sk-toggleable__label fitted sk-toggleable__label-arrow fitted\">&nbsp;&nbsp;MultiOutputRegressor<a class=\"sk-estimator-doc-link fitted\" rel=\"noreferrer\" target=\"_blank\" href=\"https://scikit-learn.org/1.5/modules/generated/sklearn.multioutput.MultiOutputRegressor.html\">?<span>Documentation for MultiOutputRegressor</span></a><span class=\"sk-estimator-doc-link fitted\">i<span>Fitted</span></span></label><div class=\"sk-toggleable__content fitted\"><pre>MultiOutputRegressor(estimator=LGBMRegressor(bagging_fraction=0.9,\n",
       "                                             device_type=&#x27;cpu&#x27;,\n",
       "                                             feature_fraction=0.5,\n",
       "                                             lambda_l1=0.5, learning_rate=0.01,\n",
       "                                             metric=&#x27;l2&#x27;, num_leaves=250,\n",
       "                                             num_threads=10,\n",
       "                                             objective=&#x27;regression&#x27;,\n",
       "                                             random_state=42, verbosity=-1))</pre></div> </div></div><div class=\"sk-parallel\"><div class=\"sk-parallel-item\"><div class=\"sk-item\"><div class=\"sk-label-container\"><div class=\"sk-label fitted sk-toggleable\"><input class=\"sk-toggleable__control sk-hidden--visually\" id=\"sk-estimator-id-8\" type=\"checkbox\" ><label for=\"sk-estimator-id-8\" class=\"sk-toggleable__label fitted sk-toggleable__label-arrow fitted\">estimator: LGBMRegressor</label><div class=\"sk-toggleable__content fitted\"><pre>LGBMRegressor(bagging_fraction=0.9, device_type=&#x27;cpu&#x27;, feature_fraction=0.5,\n",
       "              lambda_l1=0.5, learning_rate=0.01, metric=&#x27;l2&#x27;, num_leaves=250,\n",
       "              num_threads=10, objective=&#x27;regression&#x27;, random_state=42,\n",
       "              verbosity=-1)</pre></div> </div></div><div class=\"sk-serial\"><div class=\"sk-item\"><div class=\"sk-estimator fitted sk-toggleable\"><input class=\"sk-toggleable__control sk-hidden--visually\" id=\"sk-estimator-id-9\" type=\"checkbox\" ><label for=\"sk-estimator-id-9\" class=\"sk-toggleable__label fitted sk-toggleable__label-arrow fitted\">LGBMRegressor</label><div class=\"sk-toggleable__content fitted\"><pre>LGBMRegressor(bagging_fraction=0.9, device_type=&#x27;cpu&#x27;, feature_fraction=0.5,\n",
       "              lambda_l1=0.5, learning_rate=0.01, metric=&#x27;l2&#x27;, num_leaves=250,\n",
       "              num_threads=10, objective=&#x27;regression&#x27;, random_state=42,\n",
       "              verbosity=-1)</pre></div> </div></div></div></div></div></div></div></div></div>"
      ],
      "text/plain": [
       "MultiOutputRegressor(estimator=LGBMRegressor(bagging_fraction=0.9,\n",
       "                                             device_type='cpu',\n",
       "                                             feature_fraction=0.5,\n",
       "                                             lambda_l1=0.5, learning_rate=0.01,\n",
       "                                             metric='l2', num_leaves=250,\n",
       "                                             num_threads=10,\n",
       "                                             objective='regression',\n",
       "                                             random_state=42, verbosity=-1))"
      ]
     },
     "execution_count": 163,
     "metadata": {},
     "output_type": "execute_result"
    }
   ],
   "source": [
    "# Initialize the model with parameters\n",
    "regressor = MultiOutputRegressor(LGBMRegressor(**params))\n",
    "# from sklearn.linear_model import Ridge\n",
    "# regressor = MultiOutputRegressor(Ridge())\n",
    "\n",
    "# Fit the model on training data\n",
    "regressor.fit(X_train, targets_train)"
   ]
  },
  {
   "cell_type": "markdown",
   "metadata": {},
   "source": [
    "### Make Predictions"
   ]
  },
  {
   "cell_type": "code",
   "execution_count": 164,
   "metadata": {},
   "outputs": [],
   "source": [
    "predictions = regressor.predict(X_forward_looking)"
   ]
  },
  {
   "cell_type": "markdown",
   "metadata": {},
   "source": [
    "## Submitting Predictions"
   ]
  },
  {
   "cell_type": "markdown",
   "metadata": {},
   "source": [
    "### Load the Sample Submission File"
   ]
  },
  {
   "cell_type": "code",
   "execution_count": 165,
   "metadata": {},
   "outputs": [],
   "source": [
    "sample_submission = pd.read_csv(files['sample_submission_path'])"
   ]
  },
  {
   "cell_type": "markdown",
   "metadata": {},
   "source": [
    "### Update the Submission File with Predictions"
   ]
  },
  {
   "cell_type": "code",
   "execution_count": 168,
   "metadata": {},
   "outputs": [],
   "source": [
    "for col in sample_submission.columns[1:]:\n",
    "    sample_submission[col] = sample_submission[col].astype(float)\n",
    "\n",
    "sample_submission.iloc[:, 1:] = predictions"
   ]
  },
  {
   "cell_type": "markdown",
   "metadata": {},
   "source": [
    "### Save Submission File"
   ]
  },
  {
   "cell_type": "code",
   "execution_count": 169,
   "metadata": {},
   "outputs": [],
   "source": [
    "# Save the updated submission file\n",
    "submission_path = 'submission.csv'\n",
    "sample_submission.to_csv(submission_path, index=False)"
   ]
  },
  {
   "cell_type": "markdown",
   "metadata": {},
   "source": [
    "### Submit the Predictions"
   ]
  },
  {
   "cell_type": "code",
   "execution_count": null,
   "metadata": {},
   "outputs": [],
   "source": [
    "synnax_lab_client.submit_predictions(files[\"dataset_date\"], submission_path)\n",
    "time.sleep(5) # 5 seconds to process submission before running next cell"
   ]
  },
  {
   "cell_type": "markdown",
   "metadata": {},
   "source": [
    "## Check confidence score (validation)"
   ]
  },
  {
   "cell_type": "markdown",
   "metadata": {},
   "source": [
    "Submissions require some time to get processed in the backend, so in case running the below function does not return the `confidenceScore` right away, give it a few seconds and rerun. A `confidenceScore` is there when the submission `status: 'Processed'`"
   ]
  },
  {
   "cell_type": "code",
   "execution_count": 147,
   "metadata": {},
   "outputs": [
    {
     "data": {
      "text/plain": [
       "[{'id': '4a809ed2-a34b-409a-895b-85d913817a9d',\n",
       "  'datasetDate': '2024-09-10',\n",
       "  'originalFilename': 'submission.csv',\n",
       "  'status': 'Processed',\n",
       "  'confidenceScore': -1030.0046503478281,\n",
       "  'ownerId': 'User-aa71d80a-6e0a-417b-a869-e9b2fa671fdc',\n",
       "  'uploadedAt': '2024-09-10T11:17:30.540Z'},\n",
       " {'id': 'ba10218d-4293-49de-9c56-36d7eb0c0657',\n",
       "  'datasetDate': '2024-09-10',\n",
       "  'originalFilename': 'submission.csv',\n",
       "  'status': 'Processed',\n",
       "  'confidenceScore': -1030.0046503478281,\n",
       "  'ownerId': 'User-aa71d80a-6e0a-417b-a869-e9b2fa671fdc',\n",
       "  'uploadedAt': '2024-09-10T11:16:48.016Z'},\n",
       " {'id': '4140f050-eb0e-4e25-bf99-d787a26fa367',\n",
       "  'datasetDate': '2024-09-10',\n",
       "  'originalFilename': 'submission.csv',\n",
       "  'status': 'Processed',\n",
       "  'confidenceScore': 0.12233956654794893,\n",
       "  'ownerId': 'User-aa71d80a-6e0a-417b-a869-e9b2fa671fdc',\n",
       "  'uploadedAt': '2024-09-10T10:47:02.448Z'},\n",
       " {'id': 'dbfa0841-31bc-4580-bb4c-c647d1e9f628',\n",
       "  'datasetDate': '2024-09-10',\n",
       "  'originalFilename': 'submission.csv',\n",
       "  'status': 'Processed',\n",
       "  'confidenceScore': 0.12233956654794893,\n",
       "  'ownerId': 'User-aa71d80a-6e0a-417b-a869-e9b2fa671fdc',\n",
       "  'uploadedAt': '2024-09-10T10:36:01.295Z'},\n",
       " {'id': 'e88376dd-1f78-4fc9-9a88-d471fe1d0d3d',\n",
       "  'datasetDate': '2024-09-05',\n",
       "  'originalFilename': 'submission.csv',\n",
       "  'status': 'Processed',\n",
       "  'confidenceScore': 0.45768741331569546,\n",
       "  'ownerId': 'User-aa71d80a-6e0a-417b-a869-e9b2fa671fdc',\n",
       "  'uploadedAt': '2024-09-05T10:35:00.152Z'}]"
      ]
     },
     "execution_count": 147,
     "metadata": {},
     "output_type": "execute_result"
    }
   ],
   "source": [
    "synnax_lab_client.get_past_submissions()"
   ]
  },
  {
   "cell_type": "markdown",
   "metadata": {},
   "source": [
    "## Congratulations! 🥳 You’ve Made Your First Submission!"
   ]
  },
  {
   "cell_type": "markdown",
   "metadata": {},
   "source": [
    "This was a basic pipeline. Now, it's time to level up! 🚀 Use the macroeconomic data to make your model more robust. Experiment with different models, tweak them, and maybe even try some neural networks. 🧠💥\n",
    "\n",
    "Data science is like cooking. There are endless recipes to try. So, spice things up, preprocess like a pro, and get those scores soaring! 🌟👨‍🍳👩‍🍳\n",
    "\n",
    "Good luck, and may the data be ever in your favor! 🍀📈"
   ]
  },
  {
   "cell_type": "markdown",
   "metadata": {},
   "source": [
    "# P.S."
   ]
  },
  {
   "cell_type": "markdown",
   "metadata": {},
   "source": [
    "Above pipeline is a simple example of how to get started with synnax-lab-sdk and arrive at your first submission.\n",
    "\n",
    "To improve your scores look into:\n",
    "1. Macroeconomic data\n",
    "2. Experiment with other categoric variables encoding options (try individual mean-target-encoding for each target)\n",
    "3. Deal with outliers\n",
    "4. More advanced missing values imputation options\n",
    "5. Different models, individual models for each tartet, hyperparameters tuning\n",
    "6. Models ensembling (if using different models, make sure you have appropriate processing for each model)\n",
    "7. Feature selection: not all features in X_train, macro_train can be useful. Try to remove some of them.\n",
    "8. And of course your creativity. We're confident that your individual approach can beat anything we have layed out in our short tutorial"
   ]
  }
 ],
 "metadata": {
  "kernelspec": {
   "display_name": "Python 3",
   "language": "python",
   "name": "python3"
  },
  "language_info": {
   "codemirror_mode": {
    "name": "ipython",
    "version": 3
   },
   "file_extension": ".py",
   "mimetype": "text/x-python",
   "name": "python",
   "nbconvert_exporter": "python",
   "pygments_lexer": "ipython3",
   "version": "3.12.5"
  }
 },
 "nbformat": 4,
 "nbformat_minor": 2
}
