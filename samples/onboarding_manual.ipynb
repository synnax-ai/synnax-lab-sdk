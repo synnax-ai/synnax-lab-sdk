{
 "cells": [
  {
   "cell_type": "markdown",
   "metadata": {},
   "source": [
    "Welcome to Synnax Lab! In this tutorial, I'll guide you through the entire process—from setting up your account to making your first submission. Let's go! 🚀"
   ]
  },
  {
   "cell_type": "markdown",
   "metadata": {},
   "source": [
    "# Creating Account"
   ]
  },
  {
   "cell_type": "markdown",
   "metadata": {},
   "source": [
    "## Step: 1 Navigate to Synnax Lab\n",
    "\n",
    "Let's go to [Synnax Lab](https://synnax.app/) and click on the **LOG IN** button.\n",
    "\n",
    "\n",
    "![Synnax](https://github.com/synnax-ai/synnax-lab-sdk/blob/update_manual/samples/img/step_1.png?raw=true)"
   ]
  },
  {
   "cell_type": "markdown",
   "metadata": {},
   "source": [
    "## Step 2: Choosing Your Login Method\n",
    "\n",
    "Synnax allows you to log in with Coinbase and MetaMask. For this tutorial, I'll be using MetaMask.\n",
    "\n",
    "![Login Options](img/step_2.png)\n"
   ]
  },
  {
   "cell_type": "markdown",
   "metadata": {},
   "source": [
    "## Step 3: Connect Your MetaMask Account\n",
    "\n",
    "A pop-up window will appear, prompting you to connect your MetaMask account. Follow the instructions to connect, and then click **Next** to proceed.\n",
    "\n",
    "![Connect MetaMask](img/step_3.png)"
   ]
  },
  {
   "cell_type": "markdown",
   "metadata": {},
   "source": [
    "## Step 4: Provide Necessary Permissions\n",
    "\n",
    "You will be prompted to provide the necessary permissions. Review the permissions request and click **Confirm** to proceed.\n",
    "\n",
    "![Provide Permissions](img/step_4.png)"
   ]
  },
  {
   "cell_type": "markdown",
   "metadata": {},
   "source": [
    "## Step 5: Confirm signature request\n",
    "\n",
    "You will be prompted to provide the necessary permissions. Review the permissions request and click **Confirm** to proceed.\n",
    "\n",
    "![image](img/step_5.png)"
   ]
  },
  {
   "cell_type": "markdown",
   "metadata": {},
   "source": []
  },
  {
   "cell_type": "markdown",
   "metadata": {},
   "source": []
  },
  {
   "cell_type": "markdown",
   "metadata": {},
   "source": [
    "## Step 6: Account Settings\n",
    "\n",
    "Click on your profile icon and select **Settings** from the dropdown menu.\n",
    "\n",
    "![Profile and Settings](https://www.imghippo.com/filedownload/bSnug1725463001.png)"
   ]
  },
  {
   "cell_type": "markdown",
   "metadata": {},
   "source": [
    "## Step 6: Get approval from the Synnax Team\n",
    "\n",
    "In the top right corner click on your profile field, then 'Settings'\n",
    "\n",
    "![Settings](img/step_6_1.png)\n",
    "\n",
    "Then copy your 'Name', by default it is set to you wallet id, you can change it later to your actual name/nickname\n",
    "\n",
    "![Name](img/step_6_2.png)\n",
    "\n",
    "### Send you name as a TG direct message to Danil Zherebtsov @danil_com\n",
    "\n",
    "You will get your approval very quickly and after that proceed to the next step."
   ]
  },
  {
   "cell_type": "markdown",
   "metadata": {},
   "source": [
    "## Step 7: Create a New API Key\n",
    "\n",
    "In the **API Keys** section, click on **New API Key** to generate a new key.\n",
    "\n",
    "![API Keys](img/step_7.png)\n"
   ]
  },
  {
   "cell_type": "markdown",
   "metadata": {},
   "source": [
    "## Step 8: Name Your Key\n",
    "\n",
    "Give your API key a name, click each checkbox and **Create** to finalize the process.\n",
    "\n",
    "![Name and Create API Key](img/step_8.png)\n"
   ]
  },
  {
   "cell_type": "markdown",
   "metadata": {},
   "source": [
    "## Step 9: Copy Your API Key\n",
    "\n",
    "Once your API key is created, **copy** it immediately. This key will not be available after closing the modal.\n",
    "\n",
    "![Copy API Key](img/step_9.png)"
   ]
  },
  {
   "cell_type": "markdown",
   "metadata": {},
   "source": [
    "🙏 You have successfully created your account and obtained an API key for Synnax Lab.  \n",
    "\n",
    "💪 Now, roll up your sleeves, get your hands dirty, and make some magic happen!"
   ]
  },
  {
   "cell_type": "markdown",
   "metadata": {},
   "source": [
    "# Data Science Meets Finance: Let’s Get Coding!"
   ]
  },
  {
   "cell_type": "markdown",
   "metadata": {},
   "source": [
    "## Installing SDK"
   ]
  },
  {
   "cell_type": "markdown",
   "metadata": {},
   "source": [
    "To make your journey from fetching data to submitting predictions as smooth as possible, Synnax Lab has created an SDK that's as effortless as a Sunday morning. Let’s install it and get started!"
   ]
  },
  {
   "cell_type": "code",
   "execution_count": 11,
   "metadata": {},
   "outputs": [],
   "source": [
    "! pip install synnax_lab_sdk -q"
   ]
  },
  {
   "cell_type": "markdown",
   "metadata": {},
   "source": [
    "## Imports"
   ]
  },
  {
   "cell_type": "code",
   "execution_count": 1,
   "metadata": {},
   "outputs": [],
   "source": [
    "# Importing necessary libraries\n",
    "import pandas as pd\n",
    "from sklearn.preprocessing import LabelEncoder\n",
    "from sklearn.multioutput import MultiOutputRegressor\n",
    "from lightgbm import LGBMRegressor\n",
    "\n",
    "# Importing Synnax Lab SDK Client\n",
    "from synnax_lab_sdk.client import SynnaxLabClient"
   ]
  },
  {
   "cell_type": "markdown",
   "metadata": {},
   "source": [
    "## Fetching Datasets"
   ]
  },
  {
   "cell_type": "markdown",
   "metadata": {},
   "source": [
    "Above script will create a synnax-lab folder in the current working directory where all the downloaded datasets will be stored.\n",
    "`files` object is a dictionary with files names and their respective paths."
   ]
  },
  {
   "cell_type": "code",
   "execution_count": null,
   "metadata": {},
   "outputs": [],
   "source": [
    "synnax_lab_client = SynnaxLabClient(api_key = \"your_api_key\")\n",
    "\n",
    "files = synnax_lab_client.get_datasets()"
   ]
  },
  {
   "cell_type": "code",
   "execution_count": 5,
   "metadata": {},
   "outputs": [
    {
     "data": {
      "text/plain": [
       "{'x_train_path': 'synnax-data/datasets/X_train.csv',\n",
       " 'targets_train_path': 'synnax-data/datasets/targets_train.csv',\n",
       " 'x_forward_looking_path': 'synnax-data/datasets/X_forward_looking.csv',\n",
       " 'macro_train_path': 'synnax-data/datasets/macro_train.csv',\n",
       " 'macro_forward_looking_path': 'synnax-data/datasets/macro_forward_looking.csv',\n",
       " 'sample_submission_path': 'synnax-data/datasets/sample_submission.csv',\n",
       " 'data_dictionary_path': 'synnax-data/datasets/data_dictionary.txt',\n",
       " 'dataset_date': '2024-09-10'}"
      ]
     },
     "execution_count": 5,
     "metadata": {},
     "output_type": "execute_result"
    }
   ],
   "source": [
    "files"
   ]
  },
  {
   "cell_type": "markdown",
   "metadata": {},
   "source": [
    "## Dataset Structure 📂\n",
    "\n",
    "<pre>\n",
    "📂 synnax-data\n",
    "│   └── 📂 datasets\n",
    "│       ├── 📜 data_dictionary.txt\n",
    "│       ├── 📊 macro_forward_looking.csv\n",
    "│       ├── 📈 macro_train.csv\n",
    "│       ├── 📝 sample_submission.csv\n",
    "│       ├── 🎯 targets_train.csv\n",
    "│       ├── 🔮 X_forward_looking.csv\n",
    "│       └── 📚 X_train.csv\n",
    "</pre>\n",
    "\n",
    "### 📋 Description:\n",
    "The datasets subdirectory includes everything you need:\n",
    "\n",
    "- **`X_train.csv`**: Your training data with financial features.\n",
    "- **`targets_train.csv`**: The targets you're predicting in training.\n",
    "- **`X_forward_looking.csv`**: The test data where you’ll make your predictions.\n",
    "- **`macro_train.csv`** & **`macro_forward_looking.csv`**: Macroeconomic data to enrich your model.\n",
    "- **`sample_submission.csv`**: Shows you how to format your predictions for submission.\n",
    "\n"
   ]
  },
  {
   "cell_type": "markdown",
   "metadata": {},
   "source": [
    "## Loading Dataset"
   ]
  },
  {
   "cell_type": "code",
   "execution_count": 150,
   "metadata": {},
   "outputs": [],
   "source": [
    "X_train = pd.read_csv(files['x_train_path'])  # Training features\n",
    "X_forward_looking = pd.read_csv(files['x_forward_looking_path'])  # Test features\n",
    "targets_train = pd.read_csv(files['targets_train_path'])  # Training targets\n",
    "# macro_train = pd.read_csv(files['macro_train_path'])  # Historical macroeconomic data\n",
    "# macro_forward_looking = pd.read_csv(files['macro_forward_looking_path'])  # Future macroeconomic data\n",
    "\n",
    "# Clean column names in macroeconomic datasets by removing unsupported characters (mainly spaces)\n",
    "# macro_train = macro_train.rename(columns=lambda x: re.sub('[^A-Za-z0-9_]+', '', x))\n",
    "# macro_forward_looking = macro_forward_looking.rename(columns=lambda x: re.sub('[^A-Za-z0-9_]+', '', x))"
   ]
  },
  {
   "cell_type": "markdown",
   "metadata": {},
   "source": [
    "Let's take a quick look at the first few rows of our training data."
   ]
  },
  {
   "cell_type": "code",
   "execution_count": 106,
   "metadata": {},
   "outputs": [
    {
     "data": {
      "text/html": [
       "<div>\n",
       "<style scoped>\n",
       "    .dataframe tbody tr th:only-of-type {\n",
       "        vertical-align: middle;\n",
       "    }\n",
       "\n",
       "    .dataframe tbody tr th {\n",
       "        vertical-align: top;\n",
       "    }\n",
       "\n",
       "    .dataframe thead th {\n",
       "        text-align: right;\n",
       "    }\n",
       "</style>\n",
       "<table border=\"1\" class=\"dataframe\">\n",
       "  <thead>\n",
       "    <tr style=\"text-align: right;\">\n",
       "      <th></th>\n",
       "      <th>companyId</th>\n",
       "      <th>metadata_0</th>\n",
       "      <th>industry</th>\n",
       "      <th>sector</th>\n",
       "      <th>metadata_1</th>\n",
       "      <th>metadata_2</th>\n",
       "      <th>metadata_3</th>\n",
       "      <th>metadata_4</th>\n",
       "      <th>lastUpdatedAnnumEndDate</th>\n",
       "      <th>lastUpdatedQuarterEndDate</th>\n",
       "      <th>...</th>\n",
       "      <th>Y_0_feature_122</th>\n",
       "      <th>Y_0_feature_95</th>\n",
       "      <th>Y_0_feature_40</th>\n",
       "      <th>Y_0_feature_56</th>\n",
       "      <th>Y_0_feature_54</th>\n",
       "      <th>Y_0_feature_101</th>\n",
       "      <th>Y_0_feature_99</th>\n",
       "      <th>Y_0_feature_124</th>\n",
       "      <th>Y_0_feature_128</th>\n",
       "      <th>Y_0_feature_43</th>\n",
       "    </tr>\n",
       "  </thead>\n",
       "  <tbody>\n",
       "    <tr>\n",
       "      <th>0</th>\n",
       "      <td>company_21230</td>\n",
       "      <td>TH</td>\n",
       "      <td>Pollution &amp; Treatment Controls</td>\n",
       "      <td>Industrials</td>\n",
       "      <td>0.50005</td>\n",
       "      <td>NaN</td>\n",
       "      <td>0.50235</td>\n",
       "      <td>1448.31480</td>\n",
       "      <td>2023-12-31</td>\n",
       "      <td>2024-06-30</td>\n",
       "      <td>...</td>\n",
       "      <td>101.58625</td>\n",
       "      <td>1038.36685</td>\n",
       "      <td>655.42900</td>\n",
       "      <td>2.80030</td>\n",
       "      <td>89.59040</td>\n",
       "      <td>0.50000</td>\n",
       "      <td>0.5000</td>\n",
       "      <td>265.91925</td>\n",
       "      <td>1398.63610</td>\n",
       "      <td>52.52565</td>\n",
       "    </tr>\n",
       "    <tr>\n",
       "      <th>1</th>\n",
       "      <td>company_352</td>\n",
       "      <td>US</td>\n",
       "      <td>Biotechnology</td>\n",
       "      <td>Healthcare</td>\n",
       "      <td>NaN</td>\n",
       "      <td>0.49990</td>\n",
       "      <td>4.77695</td>\n",
       "      <td>7216.34560</td>\n",
       "      <td>2023-12-31</td>\n",
       "      <td>2024-06-30</td>\n",
       "      <td>...</td>\n",
       "      <td>10.95000</td>\n",
       "      <td>5813.10000</td>\n",
       "      <td>1794.73560</td>\n",
       "      <td>0.50000</td>\n",
       "      <td>522.10000</td>\n",
       "      <td>0.50000</td>\n",
       "      <td>0.5000</td>\n",
       "      <td>16951.75000</td>\n",
       "      <td>5813.10000</td>\n",
       "      <td>-11138.10000</td>\n",
       "    </tr>\n",
       "    <tr>\n",
       "      <th>2</th>\n",
       "      <td>company_3853</td>\n",
       "      <td>CN</td>\n",
       "      <td>Airports &amp; Air Services</td>\n",
       "      <td>Industrials</td>\n",
       "      <td>0.50015</td>\n",
       "      <td>0.50015</td>\n",
       "      <td>47.32115</td>\n",
       "      <td>88190.89465</td>\n",
       "      <td>2023-12-31</td>\n",
       "      <td>2024-06-30</td>\n",
       "      <td>...</td>\n",
       "      <td>20768.33075</td>\n",
       "      <td>78092.83165</td>\n",
       "      <td>14408.75425</td>\n",
       "      <td>50.11065</td>\n",
       "      <td>17663.72665</td>\n",
       "      <td>-375.16215</td>\n",
       "      <td>0.5000</td>\n",
       "      <td>19524.86935</td>\n",
       "      <td>106229.49400</td>\n",
       "      <td>36702.64605</td>\n",
       "    </tr>\n",
       "    <tr>\n",
       "      <th>3</th>\n",
       "      <td>company_20796</td>\n",
       "      <td>TH</td>\n",
       "      <td>Resorts &amp; Casinos</td>\n",
       "      <td>Consumer Cyclical</td>\n",
       "      <td>0.50005</td>\n",
       "      <td>NaN</td>\n",
       "      <td>3.15225</td>\n",
       "      <td>10077.52090</td>\n",
       "      <td>2023-12-31</td>\n",
       "      <td>2024-06-30</td>\n",
       "      <td>...</td>\n",
       "      <td>9796.72115</td>\n",
       "      <td>23419.37500</td>\n",
       "      <td>5230.67575</td>\n",
       "      <td>0.50000</td>\n",
       "      <td>1747.96490</td>\n",
       "      <td>-41.68705</td>\n",
       "      <td>2018.1635</td>\n",
       "      <td>4246.88795</td>\n",
       "      <td>43695.68365</td>\n",
       "      <td>-4591.63235</td>\n",
       "    </tr>\n",
       "    <tr>\n",
       "      <th>4</th>\n",
       "      <td>company_9742</td>\n",
       "      <td>US</td>\n",
       "      <td>Electronic Components</td>\n",
       "      <td>Technology</td>\n",
       "      <td>0.50175</td>\n",
       "      <td>0.50120</td>\n",
       "      <td>6.88430</td>\n",
       "      <td>335875.75120</td>\n",
       "      <td>2023-12-31</td>\n",
       "      <td>2024-06-30</td>\n",
       "      <td>...</td>\n",
       "      <td>42953.50000</td>\n",
       "      <td>124008.95000</td>\n",
       "      <td>1246.13905</td>\n",
       "      <td>10099.70000</td>\n",
       "      <td>13353.05000</td>\n",
       "      <td>-4234.30000</td>\n",
       "      <td>701.5000</td>\n",
       "      <td>50616.75000</td>\n",
       "      <td>167605.70000</td>\n",
       "      <td>89133.60000</td>\n",
       "    </tr>\n",
       "  </tbody>\n",
       "</table>\n",
       "<p>5 rows × 1147 columns</p>\n",
       "</div>"
      ],
      "text/plain": [
       "       companyId metadata_0                        industry  \\\n",
       "0  company_21230         TH  Pollution & Treatment Controls   \n",
       "1    company_352         US                   Biotechnology   \n",
       "2   company_3853         CN         Airports & Air Services   \n",
       "3  company_20796         TH               Resorts & Casinos   \n",
       "4   company_9742         US           Electronic Components   \n",
       "\n",
       "              sector  metadata_1  metadata_2  metadata_3    metadata_4  \\\n",
       "0        Industrials     0.50005         NaN     0.50235    1448.31480   \n",
       "1         Healthcare         NaN     0.49990     4.77695    7216.34560   \n",
       "2        Industrials     0.50015     0.50015    47.32115   88190.89465   \n",
       "3  Consumer Cyclical     0.50005         NaN     3.15225   10077.52090   \n",
       "4         Technology     0.50175     0.50120     6.88430  335875.75120   \n",
       "\n",
       "  lastUpdatedAnnumEndDate lastUpdatedQuarterEndDate  ...  Y_0_feature_122  \\\n",
       "0              2023-12-31                2024-06-30  ...        101.58625   \n",
       "1              2023-12-31                2024-06-30  ...         10.95000   \n",
       "2              2023-12-31                2024-06-30  ...      20768.33075   \n",
       "3              2023-12-31                2024-06-30  ...       9796.72115   \n",
       "4              2023-12-31                2024-06-30  ...      42953.50000   \n",
       "\n",
       "   Y_0_feature_95  Y_0_feature_40  Y_0_feature_56  Y_0_feature_54  \\\n",
       "0      1038.36685       655.42900         2.80030        89.59040   \n",
       "1      5813.10000      1794.73560         0.50000       522.10000   \n",
       "2     78092.83165     14408.75425        50.11065     17663.72665   \n",
       "3     23419.37500      5230.67575         0.50000      1747.96490   \n",
       "4    124008.95000      1246.13905     10099.70000     13353.05000   \n",
       "\n",
       "   Y_0_feature_101  Y_0_feature_99  Y_0_feature_124  Y_0_feature_128  \\\n",
       "0          0.50000          0.5000        265.91925       1398.63610   \n",
       "1          0.50000          0.5000      16951.75000       5813.10000   \n",
       "2       -375.16215          0.5000      19524.86935     106229.49400   \n",
       "3        -41.68705       2018.1635       4246.88795      43695.68365   \n",
       "4      -4234.30000        701.5000      50616.75000     167605.70000   \n",
       "\n",
       "   Y_0_feature_43  \n",
       "0        52.52565  \n",
       "1    -11138.10000  \n",
       "2     36702.64605  \n",
       "3     -4591.63235  \n",
       "4     89133.60000  \n",
       "\n",
       "[5 rows x 1147 columns]"
      ]
     },
     "execution_count": 106,
     "metadata": {},
     "output_type": "execute_result"
    }
   ],
   "source": [
    "X_train.head()"
   ]
  },
  {
   "cell_type": "markdown",
   "metadata": {},
   "source": [
    "## Checking Categorical Columns"
   ]
  },
  {
   "cell_type": "code",
   "execution_count": 151,
   "metadata": {},
   "outputs": [
    {
     "data": {
      "text/plain": [
       "Index(['companyId', 'metadata_0', 'industry', 'sector',\n",
       "       'lastUpdatedAnnumEndDate', 'lastUpdatedQuarterEndDate'],\n",
       "      dtype='object')"
      ]
     },
     "execution_count": 151,
     "metadata": {},
     "output_type": "execute_result"
    }
   ],
   "source": [
    "cat_cols = X_train.select_dtypes(include='object').columns\n",
    "cat_cols"
   ]
  },
  {
   "cell_type": "markdown",
   "metadata": {},
   "source": [
    "Don't miss the two columns containing dates! 📅"
   ]
  },
  {
   "cell_type": "code",
   "execution_count": 153,
   "metadata": {},
   "outputs": [
    {
     "data": {
      "text/plain": [
       "metadata_0                    79\n",
       "industry                     143\n",
       "sector                        11\n",
       "lastUpdatedAnnumEndDate       19\n",
       "lastUpdatedQuarterEndDate      5\n",
       "dtype: int64"
      ]
     },
     "execution_count": 153,
     "metadata": {},
     "output_type": "execute_result"
    }
   ],
   "source": [
    "# Check the number of unique values in the categorical columns\n",
    "X_train[cat_cols[1:]].nunique()"
   ]
  },
  {
   "cell_type": "markdown",
   "metadata": {},
   "source": [
    "# Process data"
   ]
  },
  {
   "cell_type": "code",
   "execution_count": 154,
   "metadata": {},
   "outputs": [],
   "source": [
    "# Combine training and test data for consistent encoding\n",
    "data = pd.concat([X_train, X_forward_looking], axis=0)"
   ]
  },
  {
   "cell_type": "markdown",
   "metadata": {},
   "source": [
    "## Extract features from dates"
   ]
  },
  {
   "cell_type": "code",
   "execution_count": 155,
   "metadata": {},
   "outputs": [],
   "source": [
    "# Extract features out of datetime cols\n",
    "datetime_cols = ['lastUpdatedAnnumEndDate', 'lastUpdatedQuarterEndDate']\n",
    "\n",
    "for col in datetime_cols:\n",
    "    data[col] = pd.to_datetime(data[col])\n",
    "    data[f'{col}_day'] = data[col].dt.day\n",
    "    data[f'{col}_day_of_week'] = data[col].dt.day_of_week\n",
    "    data[f'{col}_day_of_year'] = data[col].dt.day_of_year\n",
    "    data[f'{col}_month'] = data[col].dt.month\n",
    "    data[f'{col}_is_month_start'] = data[col].dt.is_month_start\n",
    "    data[f'{col}_is_month_end'] = data[col].dt.is_month_end\n",
    "    data[f'{col}_quarter'] = data[col].dt.quarter\n",
    "    data[f'{col}_is_quarter_start'] = data[col].dt.is_quarter_start\n",
    "    data[f'{col}_is_quarter_end'] = data[col].dt.is_quarter_end\n",
    "    data[f'{col}_year'] = data[col].dt.year\n",
    "\n",
    "data.drop(datetime_cols, axis=1, inplace=True)\n",
    "\n",
    "cat_cols = [col for col in cat_cols if col not in datetime_cols + ['companyId']]"
   ]
  },
  {
   "cell_type": "markdown",
   "metadata": {},
   "source": [
    "## Encode categorical variables"
   ]
  },
  {
   "cell_type": "code",
   "execution_count": 156,
   "metadata": {},
   "outputs": [],
   "source": [
    "# Encode categorical columns using LabelEncoder\n",
    "for col in cat_cols:\n",
    "    data[col] = LabelEncoder().fit_transform(data[col])"
   ]
  },
  {
   "cell_type": "markdown",
   "metadata": {},
   "source": [
    "There are multiple ways to encode categoric variables and they should be selected given the model you will be using and the nature of the data.\n",
    "\n",
    "Tree-based models can take advantage of any kind of encoding, while for linear models `LabelEncoder` might not be a viable option because it makes the categories ordinal.\n",
    "\n",
    "Try implementing:\n",
    "- one-hot-encoding\n",
    "- label-encoding\n",
    "- frequency-encoding\n",
    "- mean-target-encoding\n",
    "\n",
    "to find the best option for your model."
   ]
  },
  {
   "cell_type": "markdown",
   "metadata": {},
   "source": [
    "## Handling Missing Values"
   ]
  },
  {
   "cell_type": "markdown",
   "metadata": {},
   "source": [
    "### Define Function"
   ]
  },
  {
   "cell_type": "code",
   "execution_count": 157,
   "metadata": {},
   "outputs": [],
   "source": [
    "def fill_missing_with_mean(df):\n",
    "    \"\"\"\n",
    "    Fill missing values with the mean of each column.\n",
    "    \"\"\"\n",
    "    for col in df.columns:\n",
    "        if df[col].isnull().any():\n",
    "            df[col] = df[col].fillna(df[col].mean())\n",
    "    return df"
   ]
  },
  {
   "cell_type": "markdown",
   "metadata": {},
   "source": [
    "### Apply Function to Datasets"
   ]
  },
  {
   "cell_type": "code",
   "execution_count": 158,
   "metadata": {},
   "outputs": [],
   "source": [
    "data = fill_missing_with_mean(data)\n"
   ]
  },
  {
   "cell_type": "code",
   "execution_count": 159,
   "metadata": {},
   "outputs": [
    {
     "name": "stdout",
     "output_type": "stream",
     "text": [
      "metadata_8\n",
      "city\n"
     ]
    }
   ],
   "source": [
    "# drop columns with all missing (sometimes that happens)\n",
    "for col in data:\n",
    "    if data[col].isnull().all():\n",
    "        print(col)\n",
    "        data.drop(col, axis=1, inplace=True)"
   ]
  },
  {
   "cell_type": "markdown",
   "metadata": {},
   "source": [
    "Missing values imputation is a tricky process. While replacing NaNs with mean of the column technically makes your dataset for modeling, it might populate your *ground truth* training data with a lot of faulty values. In many cases mean of the column will not be a right choice.\n",
    "\n",
    "Consider:\n",
    "- median\n",
    "- mode\n",
    "- KNN imputer\n",
    "- verstack.NaNImputer\n",
    "- etc."
   ]
  },
  {
   "cell_type": "code",
   "execution_count": 160,
   "metadata": {},
   "outputs": [],
   "source": [
    "# Split data back into training and test sets\n",
    "X_train = data[:X_train.shape[0]]\n",
    "X_forward_looking = data[X_train.shape[0]:]"
   ]
  },
  {
   "cell_type": "markdown",
   "metadata": {},
   "source": [
    "## Dropping `companyId`"
   ]
  },
  {
   "cell_type": "code",
   "execution_count": 161,
   "metadata": {},
   "outputs": [],
   "source": [
    "X_train = X_train.drop('companyId', axis=1)\n",
    "X_forward_looking = X_forward_looking.drop('companyId', axis=1)\n",
    "targets_train = targets_train.drop('companyId', axis=1)\n",
    "# macro_train = macro_train.drop('companyId', axis=1)\n",
    "# macro_forward_looking = macro_forward_looking.drop('companyId', axis=1)"
   ]
  },
  {
   "cell_type": "markdown",
   "metadata": {},
   "source": [
    "## Training"
   ]
  },
  {
   "cell_type": "markdown",
   "metadata": {},
   "source": [
    "### Example Hyperparameters"
   ]
  },
  {
   "cell_type": "code",
   "execution_count": 162,
   "metadata": {},
   "outputs": [],
   "source": [
    "# define starter parameters for LGBMRegressor\n",
    "params = {\n",
    "    'learning_rate': 0.01,\n",
    "    'num_leaves': 250,\n",
    "    'feature_fraction': 0.5,\n",
    "    'bagging_fraction': 0.9,\n",
    "    'verbosity': -1,\n",
    "    'random_state': 42,\n",
    "    'device_type': 'cpu',\n",
    "    'objective': 'regression',\n",
    "    'metric': 'l2',\n",
    "    'num_threads': 10,\n",
    "    'lambda_l1': 0.5,\n",
    "    'n_estimators': 100\n",
    "    }"
   ]
  },
  {
   "cell_type": "markdown",
   "metadata": {},
   "source": [
    "### Train the Model"
   ]
  },
  {
   "cell_type": "markdown",
   "metadata": {},
   "source": [
    "We will use the same type of model with fixed parameters to predict each of the 17 targets. `sklearn.multioutput.MultiOutputRegressor` will simplify our code and rather than producing code to train 17 independent models, we can use `MultiOutputRegressor` to do it for us in a convenient sklearn-style one-liner."
   ]
  },
  {
   "cell_type": "markdown",
   "metadata": {},
   "source": [
    "But remember, each target, even though it represents financial indicators from one company and one time-period, may have different dependencies and even may require different types of models. So try different strategies to improve your score."
   ]
  },
  {
   "cell_type": "markdown",
   "metadata": {},
   "source": []
  },
  {
   "cell_type": "code",
   "execution_count": 163,
   "metadata": {},
   "outputs": [
    {
     "data": {
      "text/html": [
       "<style>#sk-container-id-3 {\n",
       "  /* Definition of color scheme common for light and dark mode */\n",
       "  --sklearn-color-text: black;\n",
       "  --sklearn-color-line: gray;\n",
       "  /* Definition of color scheme for unfitted estimators */\n",
       "  --sklearn-color-unfitted-level-0: #fff5e6;\n",
       "  --sklearn-color-unfitted-level-1: #f6e4d2;\n",
       "  --sklearn-color-unfitted-level-2: #ffe0b3;\n",
       "  --sklearn-color-unfitted-level-3: chocolate;\n",
       "  /* Definition of color scheme for fitted estimators */\n",
       "  --sklearn-color-fitted-level-0: #f0f8ff;\n",
       "  --sklearn-color-fitted-level-1: #d4ebff;\n",
       "  --sklearn-color-fitted-level-2: #b3dbfd;\n",
       "  --sklearn-color-fitted-level-3: cornflowerblue;\n",
       "\n",
       "  /* Specific color for light theme */\n",
       "  --sklearn-color-text-on-default-background: var(--sg-text-color, var(--theme-code-foreground, var(--jp-content-font-color1, black)));\n",
       "  --sklearn-color-background: var(--sg-background-color, var(--theme-background, var(--jp-layout-color0, white)));\n",
       "  --sklearn-color-border-box: var(--sg-text-color, var(--theme-code-foreground, var(--jp-content-font-color1, black)));\n",
       "  --sklearn-color-icon: #696969;\n",
       "\n",
       "  @media (prefers-color-scheme: dark) {\n",
       "    /* Redefinition of color scheme for dark theme */\n",
       "    --sklearn-color-text-on-default-background: var(--sg-text-color, var(--theme-code-foreground, var(--jp-content-font-color1, white)));\n",
       "    --sklearn-color-background: var(--sg-background-color, var(--theme-background, var(--jp-layout-color0, #111)));\n",
       "    --sklearn-color-border-box: var(--sg-text-color, var(--theme-code-foreground, var(--jp-content-font-color1, white)));\n",
       "    --sklearn-color-icon: #878787;\n",
       "  }\n",
       "}\n",
       "\n",
       "#sk-container-id-3 {\n",
       "  color: var(--sklearn-color-text);\n",
       "}\n",
       "\n",
       "#sk-container-id-3 pre {\n",
       "  padding: 0;\n",
       "}\n",
       "\n",
       "#sk-container-id-3 input.sk-hidden--visually {\n",
       "  border: 0;\n",
       "  clip: rect(1px 1px 1px 1px);\n",
       "  clip: rect(1px, 1px, 1px, 1px);\n",
       "  height: 1px;\n",
       "  margin: -1px;\n",
       "  overflow: hidden;\n",
       "  padding: 0;\n",
       "  position: absolute;\n",
       "  width: 1px;\n",
       "}\n",
       "\n",
       "#sk-container-id-3 div.sk-dashed-wrapped {\n",
       "  border: 1px dashed var(--sklearn-color-line);\n",
       "  margin: 0 0.4em 0.5em 0.4em;\n",
       "  box-sizing: border-box;\n",
       "  padding-bottom: 0.4em;\n",
       "  background-color: var(--sklearn-color-background);\n",
       "}\n",
       "\n",
       "#sk-container-id-3 div.sk-container {\n",
       "  /* jupyter's `normalize.less` sets `[hidden] { display: none; }`\n",
       "     but bootstrap.min.css set `[hidden] { display: none !important; }`\n",
       "     so we also need the `!important` here to be able to override the\n",
       "     default hidden behavior on the sphinx rendered scikit-learn.org.\n",
       "     See: https://github.com/scikit-learn/scikit-learn/issues/21755 */\n",
       "  display: inline-block !important;\n",
       "  position: relative;\n",
       "}\n",
       "\n",
       "#sk-container-id-3 div.sk-text-repr-fallback {\n",
       "  display: none;\n",
       "}\n",
       "\n",
       "div.sk-parallel-item,\n",
       "div.sk-serial,\n",
       "div.sk-item {\n",
       "  /* draw centered vertical line to link estimators */\n",
       "  background-image: linear-gradient(var(--sklearn-color-text-on-default-background), var(--sklearn-color-text-on-default-background));\n",
       "  background-size: 2px 100%;\n",
       "  background-repeat: no-repeat;\n",
       "  background-position: center center;\n",
       "}\n",
       "\n",
       "/* Parallel-specific style estimator block */\n",
       "\n",
       "#sk-container-id-3 div.sk-parallel-item::after {\n",
       "  content: \"\";\n",
       "  width: 100%;\n",
       "  border-bottom: 2px solid var(--sklearn-color-text-on-default-background);\n",
       "  flex-grow: 1;\n",
       "}\n",
       "\n",
       "#sk-container-id-3 div.sk-parallel {\n",
       "  display: flex;\n",
       "  align-items: stretch;\n",
       "  justify-content: center;\n",
       "  background-color: var(--sklearn-color-background);\n",
       "  position: relative;\n",
       "}\n",
       "\n",
       "#sk-container-id-3 div.sk-parallel-item {\n",
       "  display: flex;\n",
       "  flex-direction: column;\n",
       "}\n",
       "\n",
       "#sk-container-id-3 div.sk-parallel-item:first-child::after {\n",
       "  align-self: flex-end;\n",
       "  width: 50%;\n",
       "}\n",
       "\n",
       "#sk-container-id-3 div.sk-parallel-item:last-child::after {\n",
       "  align-self: flex-start;\n",
       "  width: 50%;\n",
       "}\n",
       "\n",
       "#sk-container-id-3 div.sk-parallel-item:only-child::after {\n",
       "  width: 0;\n",
       "}\n",
       "\n",
       "/* Serial-specific style estimator block */\n",
       "\n",
       "#sk-container-id-3 div.sk-serial {\n",
       "  display: flex;\n",
       "  flex-direction: column;\n",
       "  align-items: center;\n",
       "  background-color: var(--sklearn-color-background);\n",
       "  padding-right: 1em;\n",
       "  padding-left: 1em;\n",
       "}\n",
       "\n",
       "\n",
       "/* Toggleable style: style used for estimator/Pipeline/ColumnTransformer box that is\n",
       "clickable and can be expanded/collapsed.\n",
       "- Pipeline and ColumnTransformer use this feature and define the default style\n",
       "- Estimators will overwrite some part of the style using the `sk-estimator` class\n",
       "*/\n",
       "\n",
       "/* Pipeline and ColumnTransformer style (default) */\n",
       "\n",
       "#sk-container-id-3 div.sk-toggleable {\n",
       "  /* Default theme specific background. It is overwritten whether we have a\n",
       "  specific estimator or a Pipeline/ColumnTransformer */\n",
       "  background-color: var(--sklearn-color-background);\n",
       "}\n",
       "\n",
       "/* Toggleable label */\n",
       "#sk-container-id-3 label.sk-toggleable__label {\n",
       "  cursor: pointer;\n",
       "  display: block;\n",
       "  width: 100%;\n",
       "  margin-bottom: 0;\n",
       "  padding: 0.5em;\n",
       "  box-sizing: border-box;\n",
       "  text-align: center;\n",
       "}\n",
       "\n",
       "#sk-container-id-3 label.sk-toggleable__label-arrow:before {\n",
       "  /* Arrow on the left of the label */\n",
       "  content: \"▸\";\n",
       "  float: left;\n",
       "  margin-right: 0.25em;\n",
       "  color: var(--sklearn-color-icon);\n",
       "}\n",
       "\n",
       "#sk-container-id-3 label.sk-toggleable__label-arrow:hover:before {\n",
       "  color: var(--sklearn-color-text);\n",
       "}\n",
       "\n",
       "/* Toggleable content - dropdown */\n",
       "\n",
       "#sk-container-id-3 div.sk-toggleable__content {\n",
       "  max-height: 0;\n",
       "  max-width: 0;\n",
       "  overflow: hidden;\n",
       "  text-align: left;\n",
       "  /* unfitted */\n",
       "  background-color: var(--sklearn-color-unfitted-level-0);\n",
       "}\n",
       "\n",
       "#sk-container-id-3 div.sk-toggleable__content.fitted {\n",
       "  /* fitted */\n",
       "  background-color: var(--sklearn-color-fitted-level-0);\n",
       "}\n",
       "\n",
       "#sk-container-id-3 div.sk-toggleable__content pre {\n",
       "  margin: 0.2em;\n",
       "  border-radius: 0.25em;\n",
       "  color: var(--sklearn-color-text);\n",
       "  /* unfitted */\n",
       "  background-color: var(--sklearn-color-unfitted-level-0);\n",
       "}\n",
       "\n",
       "#sk-container-id-3 div.sk-toggleable__content.fitted pre {\n",
       "  /* unfitted */\n",
       "  background-color: var(--sklearn-color-fitted-level-0);\n",
       "}\n",
       "\n",
       "#sk-container-id-3 input.sk-toggleable__control:checked~div.sk-toggleable__content {\n",
       "  /* Expand drop-down */\n",
       "  max-height: 200px;\n",
       "  max-width: 100%;\n",
       "  overflow: auto;\n",
       "}\n",
       "\n",
       "#sk-container-id-3 input.sk-toggleable__control:checked~label.sk-toggleable__label-arrow:before {\n",
       "  content: \"▾\";\n",
       "}\n",
       "\n",
       "/* Pipeline/ColumnTransformer-specific style */\n",
       "\n",
       "#sk-container-id-3 div.sk-label input.sk-toggleable__control:checked~label.sk-toggleable__label {\n",
       "  color: var(--sklearn-color-text);\n",
       "  background-color: var(--sklearn-color-unfitted-level-2);\n",
       "}\n",
       "\n",
       "#sk-container-id-3 div.sk-label.fitted input.sk-toggleable__control:checked~label.sk-toggleable__label {\n",
       "  background-color: var(--sklearn-color-fitted-level-2);\n",
       "}\n",
       "\n",
       "/* Estimator-specific style */\n",
       "\n",
       "/* Colorize estimator box */\n",
       "#sk-container-id-3 div.sk-estimator input.sk-toggleable__control:checked~label.sk-toggleable__label {\n",
       "  /* unfitted */\n",
       "  background-color: var(--sklearn-color-unfitted-level-2);\n",
       "}\n",
       "\n",
       "#sk-container-id-3 div.sk-estimator.fitted input.sk-toggleable__control:checked~label.sk-toggleable__label {\n",
       "  /* fitted */\n",
       "  background-color: var(--sklearn-color-fitted-level-2);\n",
       "}\n",
       "\n",
       "#sk-container-id-3 div.sk-label label.sk-toggleable__label,\n",
       "#sk-container-id-3 div.sk-label label {\n",
       "  /* The background is the default theme color */\n",
       "  color: var(--sklearn-color-text-on-default-background);\n",
       "}\n",
       "\n",
       "/* On hover, darken the color of the background */\n",
       "#sk-container-id-3 div.sk-label:hover label.sk-toggleable__label {\n",
       "  color: var(--sklearn-color-text);\n",
       "  background-color: var(--sklearn-color-unfitted-level-2);\n",
       "}\n",
       "\n",
       "/* Label box, darken color on hover, fitted */\n",
       "#sk-container-id-3 div.sk-label.fitted:hover label.sk-toggleable__label.fitted {\n",
       "  color: var(--sklearn-color-text);\n",
       "  background-color: var(--sklearn-color-fitted-level-2);\n",
       "}\n",
       "\n",
       "/* Estimator label */\n",
       "\n",
       "#sk-container-id-3 div.sk-label label {\n",
       "  font-family: monospace;\n",
       "  font-weight: bold;\n",
       "  display: inline-block;\n",
       "  line-height: 1.2em;\n",
       "}\n",
       "\n",
       "#sk-container-id-3 div.sk-label-container {\n",
       "  text-align: center;\n",
       "}\n",
       "\n",
       "/* Estimator-specific */\n",
       "#sk-container-id-3 div.sk-estimator {\n",
       "  font-family: monospace;\n",
       "  border: 1px dotted var(--sklearn-color-border-box);\n",
       "  border-radius: 0.25em;\n",
       "  box-sizing: border-box;\n",
       "  margin-bottom: 0.5em;\n",
       "  /* unfitted */\n",
       "  background-color: var(--sklearn-color-unfitted-level-0);\n",
       "}\n",
       "\n",
       "#sk-container-id-3 div.sk-estimator.fitted {\n",
       "  /* fitted */\n",
       "  background-color: var(--sklearn-color-fitted-level-0);\n",
       "}\n",
       "\n",
       "/* on hover */\n",
       "#sk-container-id-3 div.sk-estimator:hover {\n",
       "  /* unfitted */\n",
       "  background-color: var(--sklearn-color-unfitted-level-2);\n",
       "}\n",
       "\n",
       "#sk-container-id-3 div.sk-estimator.fitted:hover {\n",
       "  /* fitted */\n",
       "  background-color: var(--sklearn-color-fitted-level-2);\n",
       "}\n",
       "\n",
       "/* Specification for estimator info (e.g. \"i\" and \"?\") */\n",
       "\n",
       "/* Common style for \"i\" and \"?\" */\n",
       "\n",
       ".sk-estimator-doc-link,\n",
       "a:link.sk-estimator-doc-link,\n",
       "a:visited.sk-estimator-doc-link {\n",
       "  float: right;\n",
       "  font-size: smaller;\n",
       "  line-height: 1em;\n",
       "  font-family: monospace;\n",
       "  background-color: var(--sklearn-color-background);\n",
       "  border-radius: 1em;\n",
       "  height: 1em;\n",
       "  width: 1em;\n",
       "  text-decoration: none !important;\n",
       "  margin-left: 1ex;\n",
       "  /* unfitted */\n",
       "  border: var(--sklearn-color-unfitted-level-1) 1pt solid;\n",
       "  color: var(--sklearn-color-unfitted-level-1);\n",
       "}\n",
       "\n",
       ".sk-estimator-doc-link.fitted,\n",
       "a:link.sk-estimator-doc-link.fitted,\n",
       "a:visited.sk-estimator-doc-link.fitted {\n",
       "  /* fitted */\n",
       "  border: var(--sklearn-color-fitted-level-1) 1pt solid;\n",
       "  color: var(--sklearn-color-fitted-level-1);\n",
       "}\n",
       "\n",
       "/* On hover */\n",
       "div.sk-estimator:hover .sk-estimator-doc-link:hover,\n",
       ".sk-estimator-doc-link:hover,\n",
       "div.sk-label-container:hover .sk-estimator-doc-link:hover,\n",
       ".sk-estimator-doc-link:hover {\n",
       "  /* unfitted */\n",
       "  background-color: var(--sklearn-color-unfitted-level-3);\n",
       "  color: var(--sklearn-color-background);\n",
       "  text-decoration: none;\n",
       "}\n",
       "\n",
       "div.sk-estimator.fitted:hover .sk-estimator-doc-link.fitted:hover,\n",
       ".sk-estimator-doc-link.fitted:hover,\n",
       "div.sk-label-container:hover .sk-estimator-doc-link.fitted:hover,\n",
       ".sk-estimator-doc-link.fitted:hover {\n",
       "  /* fitted */\n",
       "  background-color: var(--sklearn-color-fitted-level-3);\n",
       "  color: var(--sklearn-color-background);\n",
       "  text-decoration: none;\n",
       "}\n",
       "\n",
       "/* Span, style for the box shown on hovering the info icon */\n",
       ".sk-estimator-doc-link span {\n",
       "  display: none;\n",
       "  z-index: 9999;\n",
       "  position: relative;\n",
       "  font-weight: normal;\n",
       "  right: .2ex;\n",
       "  padding: .5ex;\n",
       "  margin: .5ex;\n",
       "  width: min-content;\n",
       "  min-width: 20ex;\n",
       "  max-width: 50ex;\n",
       "  color: var(--sklearn-color-text);\n",
       "  box-shadow: 2pt 2pt 4pt #999;\n",
       "  /* unfitted */\n",
       "  background: var(--sklearn-color-unfitted-level-0);\n",
       "  border: .5pt solid var(--sklearn-color-unfitted-level-3);\n",
       "}\n",
       "\n",
       ".sk-estimator-doc-link.fitted span {\n",
       "  /* fitted */\n",
       "  background: var(--sklearn-color-fitted-level-0);\n",
       "  border: var(--sklearn-color-fitted-level-3);\n",
       "}\n",
       "\n",
       ".sk-estimator-doc-link:hover span {\n",
       "  display: block;\n",
       "}\n",
       "\n",
       "/* \"?\"-specific style due to the `<a>` HTML tag */\n",
       "\n",
       "#sk-container-id-3 a.estimator_doc_link {\n",
       "  float: right;\n",
       "  font-size: 1rem;\n",
       "  line-height: 1em;\n",
       "  font-family: monospace;\n",
       "  background-color: var(--sklearn-color-background);\n",
       "  border-radius: 1rem;\n",
       "  height: 1rem;\n",
       "  width: 1rem;\n",
       "  text-decoration: none;\n",
       "  /* unfitted */\n",
       "  color: var(--sklearn-color-unfitted-level-1);\n",
       "  border: var(--sklearn-color-unfitted-level-1) 1pt solid;\n",
       "}\n",
       "\n",
       "#sk-container-id-3 a.estimator_doc_link.fitted {\n",
       "  /* fitted */\n",
       "  border: var(--sklearn-color-fitted-level-1) 1pt solid;\n",
       "  color: var(--sklearn-color-fitted-level-1);\n",
       "}\n",
       "\n",
       "/* On hover */\n",
       "#sk-container-id-3 a.estimator_doc_link:hover {\n",
       "  /* unfitted */\n",
       "  background-color: var(--sklearn-color-unfitted-level-3);\n",
       "  color: var(--sklearn-color-background);\n",
       "  text-decoration: none;\n",
       "}\n",
       "\n",
       "#sk-container-id-3 a.estimator_doc_link.fitted:hover {\n",
       "  /* fitted */\n",
       "  background-color: var(--sklearn-color-fitted-level-3);\n",
       "}\n",
       "</style><div id=\"sk-container-id-3\" class=\"sk-top-container\"><div class=\"sk-text-repr-fallback\"><pre>MultiOutputRegressor(estimator=LGBMRegressor(bagging_fraction=0.9,\n",
       "                                             device_type=&#x27;cpu&#x27;,\n",
       "                                             feature_fraction=0.5,\n",
       "                                             lambda_l1=0.5, learning_rate=0.01,\n",
       "                                             metric=&#x27;l2&#x27;, num_leaves=250,\n",
       "                                             num_threads=10,\n",
       "                                             objective=&#x27;regression&#x27;,\n",
       "                                             random_state=42, verbosity=-1))</pre><b>In a Jupyter environment, please rerun this cell to show the HTML representation or trust the notebook. <br />On GitHub, the HTML representation is unable to render, please try loading this page with nbviewer.org.</b></div><div class=\"sk-container\" hidden><div class=\"sk-item sk-dashed-wrapped\"><div class=\"sk-label-container\"><div class=\"sk-label fitted sk-toggleable\"><input class=\"sk-toggleable__control sk-hidden--visually\" id=\"sk-estimator-id-7\" type=\"checkbox\" ><label for=\"sk-estimator-id-7\" class=\"sk-toggleable__label fitted sk-toggleable__label-arrow fitted\">&nbsp;&nbsp;MultiOutputRegressor<a class=\"sk-estimator-doc-link fitted\" rel=\"noreferrer\" target=\"_blank\" href=\"https://scikit-learn.org/1.5/modules/generated/sklearn.multioutput.MultiOutputRegressor.html\">?<span>Documentation for MultiOutputRegressor</span></a><span class=\"sk-estimator-doc-link fitted\">i<span>Fitted</span></span></label><div class=\"sk-toggleable__content fitted\"><pre>MultiOutputRegressor(estimator=LGBMRegressor(bagging_fraction=0.9,\n",
       "                                             device_type=&#x27;cpu&#x27;,\n",
       "                                             feature_fraction=0.5,\n",
       "                                             lambda_l1=0.5, learning_rate=0.01,\n",
       "                                             metric=&#x27;l2&#x27;, num_leaves=250,\n",
       "                                             num_threads=10,\n",
       "                                             objective=&#x27;regression&#x27;,\n",
       "                                             random_state=42, verbosity=-1))</pre></div> </div></div><div class=\"sk-parallel\"><div class=\"sk-parallel-item\"><div class=\"sk-item\"><div class=\"sk-label-container\"><div class=\"sk-label fitted sk-toggleable\"><input class=\"sk-toggleable__control sk-hidden--visually\" id=\"sk-estimator-id-8\" type=\"checkbox\" ><label for=\"sk-estimator-id-8\" class=\"sk-toggleable__label fitted sk-toggleable__label-arrow fitted\">estimator: LGBMRegressor</label><div class=\"sk-toggleable__content fitted\"><pre>LGBMRegressor(bagging_fraction=0.9, device_type=&#x27;cpu&#x27;, feature_fraction=0.5,\n",
       "              lambda_l1=0.5, learning_rate=0.01, metric=&#x27;l2&#x27;, num_leaves=250,\n",
       "              num_threads=10, objective=&#x27;regression&#x27;, random_state=42,\n",
       "              verbosity=-1)</pre></div> </div></div><div class=\"sk-serial\"><div class=\"sk-item\"><div class=\"sk-estimator fitted sk-toggleable\"><input class=\"sk-toggleable__control sk-hidden--visually\" id=\"sk-estimator-id-9\" type=\"checkbox\" ><label for=\"sk-estimator-id-9\" class=\"sk-toggleable__label fitted sk-toggleable__label-arrow fitted\">LGBMRegressor</label><div class=\"sk-toggleable__content fitted\"><pre>LGBMRegressor(bagging_fraction=0.9, device_type=&#x27;cpu&#x27;, feature_fraction=0.5,\n",
       "              lambda_l1=0.5, learning_rate=0.01, metric=&#x27;l2&#x27;, num_leaves=250,\n",
       "              num_threads=10, objective=&#x27;regression&#x27;, random_state=42,\n",
       "              verbosity=-1)</pre></div> </div></div></div></div></div></div></div></div></div>"
      ],
      "text/plain": [
       "MultiOutputRegressor(estimator=LGBMRegressor(bagging_fraction=0.9,\n",
       "                                             device_type='cpu',\n",
       "                                             feature_fraction=0.5,\n",
       "                                             lambda_l1=0.5, learning_rate=0.01,\n",
       "                                             metric='l2', num_leaves=250,\n",
       "                                             num_threads=10,\n",
       "                                             objective='regression',\n",
       "                                             random_state=42, verbosity=-1))"
      ]
     },
     "execution_count": 163,
     "metadata": {},
     "output_type": "execute_result"
    }
   ],
   "source": [
    "# Initialize the model with parameters\n",
    "regressor = MultiOutputRegressor(LGBMRegressor(**params))\n",
    "# from sklearn.linear_model import Ridge\n",
    "# regressor = MultiOutputRegressor(Ridge())\n",
    "\n",
    "# Fit the model on training data\n",
    "regressor.fit(X_train, targets_train)"
   ]
  },
  {
   "cell_type": "markdown",
   "metadata": {},
   "source": [
    "### Make Predictions"
   ]
  },
  {
   "cell_type": "code",
   "execution_count": 164,
   "metadata": {},
   "outputs": [],
   "source": [
    "predictions = regressor.predict(X_forward_looking)"
   ]
  },
  {
   "cell_type": "markdown",
   "metadata": {},
   "source": [
    "## Submitting Predictions"
   ]
  },
  {
   "cell_type": "markdown",
   "metadata": {},
   "source": [
    "### Load the Sample Submission File"
   ]
  },
  {
   "cell_type": "code",
   "execution_count": 165,
   "metadata": {},
   "outputs": [],
   "source": [
    "sample_submission = pd.read_csv(files['sample_submission_path'])"
   ]
  },
  {
   "cell_type": "markdown",
   "metadata": {},
   "source": [
    "### Update the Submission File with Predictions"
   ]
  },
  {
   "cell_type": "code",
   "execution_count": 168,
   "metadata": {},
   "outputs": [],
   "source": [
    "for col in sample_submission.columns[1:]:\n",
    "    sample_submission[col] = sample_submission[col].astype(float)\n",
    "\n",
    "sample_submission.iloc[:, 1:] = predictions"
   ]
  },
  {
   "cell_type": "markdown",
   "metadata": {},
   "source": [
    "### Save Submission File"
   ]
  },
  {
   "cell_type": "code",
   "execution_count": 169,
   "metadata": {},
   "outputs": [],
   "source": [
    "# Save the updated submission file\n",
    "submission_path = 'synnax-submissions/submission.csv'\n",
    "sample_submission.to_csv(submission_path, index=False)"
   ]
  },
  {
   "cell_type": "markdown",
   "metadata": {},
   "source": [
    "### Submit the Predictions"
   ]
  },
  {
   "cell_type": "code",
   "execution_count": null,
   "metadata": {},
   "outputs": [],
   "source": [
    "synnax_lab_client.submit_predictions(files[\"dataset_date\"], submission_path)"
   ]
  },
  {
   "cell_type": "markdown",
   "metadata": {},
   "source": [
    "## Check confidence score (validation)"
   ]
  },
  {
   "cell_type": "markdown",
   "metadata": {},
   "source": [
    "Scores get calculated on the synnax-lab-sdk backend with a small lag, so in case running the below function does not return the `confidenceScore` right away, give it a few seconds and rerun. A `confidenceScore` is there when the submission `status: 'Processed'`"
   ]
  },
  {
   "cell_type": "code",
   "execution_count": 147,
   "metadata": {},
   "outputs": [
    {
     "data": {
      "text/plain": [
       "[{'id': '4a809ed2-a34b-409a-895b-85d913817a9d',\n",
       "  'datasetDate': '2024-09-10',\n",
       "  'originalFilename': 'submission.csv',\n",
       "  'status': 'Processed',\n",
       "  'confidenceScore': -1030.0046503478281,\n",
       "  'ownerId': 'User-aa71d80a-6e0a-417b-a869-e9b2fa671fdc',\n",
       "  'uploadedAt': '2024-09-10T11:17:30.540Z'},\n",
       " {'id': 'ba10218d-4293-49de-9c56-36d7eb0c0657',\n",
       "  'datasetDate': '2024-09-10',\n",
       "  'originalFilename': 'submission.csv',\n",
       "  'status': 'Processed',\n",
       "  'confidenceScore': -1030.0046503478281,\n",
       "  'ownerId': 'User-aa71d80a-6e0a-417b-a869-e9b2fa671fdc',\n",
       "  'uploadedAt': '2024-09-10T11:16:48.016Z'},\n",
       " {'id': '4140f050-eb0e-4e25-bf99-d787a26fa367',\n",
       "  'datasetDate': '2024-09-10',\n",
       "  'originalFilename': 'submission.csv',\n",
       "  'status': 'Processed',\n",
       "  'confidenceScore': 0.12233956654794893,\n",
       "  'ownerId': 'User-aa71d80a-6e0a-417b-a869-e9b2fa671fdc',\n",
       "  'uploadedAt': '2024-09-10T10:47:02.448Z'},\n",
       " {'id': 'dbfa0841-31bc-4580-bb4c-c647d1e9f628',\n",
       "  'datasetDate': '2024-09-10',\n",
       "  'originalFilename': 'submission.csv',\n",
       "  'status': 'Processed',\n",
       "  'confidenceScore': 0.12233956654794893,\n",
       "  'ownerId': 'User-aa71d80a-6e0a-417b-a869-e9b2fa671fdc',\n",
       "  'uploadedAt': '2024-09-10T10:36:01.295Z'},\n",
       " {'id': 'e88376dd-1f78-4fc9-9a88-d471fe1d0d3d',\n",
       "  'datasetDate': '2024-09-05',\n",
       "  'originalFilename': 'submission.csv',\n",
       "  'status': 'Processed',\n",
       "  'confidenceScore': 0.45768741331569546,\n",
       "  'ownerId': 'User-aa71d80a-6e0a-417b-a869-e9b2fa671fdc',\n",
       "  'uploadedAt': '2024-09-05T10:35:00.152Z'}]"
      ]
     },
     "execution_count": 147,
     "metadata": {},
     "output_type": "execute_result"
    }
   ],
   "source": [
    "synnax_lab_client.get_past_submissions()"
   ]
  },
  {
   "cell_type": "markdown",
   "metadata": {},
   "source": [
    "## Congratulations! 🥳 You’ve Made Your First Submission!"
   ]
  },
  {
   "cell_type": "markdown",
   "metadata": {},
   "source": [
    "This was a basic pipeline. Now, it's time to level up! 🚀 Use the macroeconomic data to make your model more robust. Experiment with different models, tweak them, and maybe even try some neural networks. 🧠💥\n",
    "\n",
    "Data science is like cooking. There are endless recipes to try. So, spice things up, preprocess like a pro, and get those scores soaring! 🌟👨‍🍳👩‍🍳\n",
    "\n",
    "Good luck, and may the data be ever in your favor! 🍀📈"
   ]
  },
  {
   "cell_type": "markdown",
   "metadata": {},
   "source": [
    "# P.S."
   ]
  },
  {
   "cell_type": "markdown",
   "metadata": {},
   "source": [
    "Above pipeline is a simple example of how to get started with synnax-lab-sdk and arrive at your first submission.\n",
    "\n",
    "To improve your scores look into:\n",
    "1. Macroeconomic data\n",
    "2. Experiment with other categoric variables encoding options (try individual mean-target-encoding for each target)\n",
    "3. Deal with outliers\n",
    "4. More advanced missing values imputation options\n",
    "5. Different models, individual models for each tartet, hyperparameters tuning\n",
    "6. Models ensembling (if using different models, make sure you have appropriate processing for each model)\n",
    "7. Feature selection: not all features in X_train, macro_train can be useful. Try to remove some of them.\n",
    "8. And of course your creativity. We're confident that your individual approach can beat anything we have layed out in our short tutorial"
   ]
  }
 ],
 "metadata": {
  "kernelspec": {
   "display_name": "base",
   "language": "python",
   "name": "python3"
  },
  "language_info": {
   "codemirror_mode": {
    "name": "ipython",
    "version": 3
   },
   "file_extension": ".py",
   "mimetype": "text/x-python",
   "name": "python",
   "nbconvert_exporter": "python",
   "pygments_lexer": "ipython3",
   "version": "3.12.5"
  }
 },
 "nbformat": 4,
 "nbformat_minor": 2
}
